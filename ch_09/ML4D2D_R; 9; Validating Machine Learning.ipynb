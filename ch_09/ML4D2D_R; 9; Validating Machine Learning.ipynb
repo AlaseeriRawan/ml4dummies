{
 "cells": [
  {
   "cell_type": "markdown",
   "metadata": {},
   "source": [
    "## Looking for Alternatives in Validation"
   ]
  },
  {
   "cell_type": "code",
   "execution_count": 1,
   "metadata": {},
   "outputs": [
    {
     "name": "stdout",
     "output_type": "stream",
     "text": [
      "Avg out-of-boostrap: 36.8 %"
     ]
    }
   ],
   "source": [
    "n <- 1000\n",
    "trials <- 10000\n",
    "\n",
    "avg_oob <- 0\n",
    "for (trial in 1:trials) {\n",
    "    choosen <- sample(1:n, n, replace=T)\n",
    "    avg_oob <- avg_oob + (1 - length(unique(choosen)) / n)\n",
    "}\n",
    "\n",
    "avg_oob <- avg_oob / trials\n",
    "cat(paste(\"Avg out-of-boostrap:\", round(avg_oob*100,1), \"%\"))"
   ]
  }
 ],
 "metadata": {
  "kernelspec": {
   "display_name": "R",
   "language": "R",
   "name": "ir"
  },
  "language_info": {
   "codemirror_mode": "r",
   "file_extension": ".r",
   "mimetype": "text/x-r-source",
   "name": "R",
   "pygments_lexer": "r",
   "version": "4.0.2"
  }
 },
 "nbformat": 4,
 "nbformat_minor": 4
}
