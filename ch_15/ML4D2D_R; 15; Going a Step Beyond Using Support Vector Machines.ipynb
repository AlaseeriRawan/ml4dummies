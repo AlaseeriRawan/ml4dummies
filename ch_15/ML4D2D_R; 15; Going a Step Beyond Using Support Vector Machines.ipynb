{
 "cells": [
  {
   "cell_type": "code",
   "execution_count": 2,
   "metadata": {},
   "outputs": [],
   "source": [
    "if (!(\"feather\" %in% rownames(installed.packages()))) {\n",
    "    install.packages(\"feather\")\n",
    "}"
   ]
  },
  {
   "cell_type": "code",
   "execution_count": 3,
   "metadata": {},
   "outputs": [],
   "source": [
    "if (!(\"caret\" %in% rownames(installed.packages()))) {\n",
    "    install.packages(\"caret\")\n",
    "}"
   ]
  },
  {
   "cell_type": "code",
   "execution_count": 4,
   "metadata": {},
   "outputs": [],
   "source": [
    "if (!(\"kernlab\" %in% rownames(installed.packages()))) {\n",
    "    install.packages(\"kernlab\")\n",
    "}"
   ]
  },
  {
   "cell_type": "code",
   "execution_count": 5,
   "metadata": {},
   "outputs": [],
   "source": [
    "if (!(\"e1071\" %in% rownames(installed.packages()))) {\n",
    "    install.packages(\"e1071\")\n",
    "} "
   ]
  },
  {
   "cell_type": "code",
   "execution_count": 6,
   "metadata": {},
   "outputs": [],
   "source": [
    "if (!(\"MLmetrics\" %in% rownames(installed.packages()))) {\n",
    "    install.packages(\"MLmetrics\")\n",
    "} "
   ]
  },
  {
   "cell_type": "code",
   "execution_count": 7,
   "metadata": {},
   "outputs": [],
   "source": [
    "library(feather)\n",
    "\n",
    "url <- \"https://github.com/lmassaron/datasets/releases/download/1.0/mnist.feather\"\n",
    "destfile <- \"mnist.feather\"\n",
    "download.file(url, destfile, mode =  \"wb\")\n",
    "\n",
    "digits <- read_feather(destfile)"
   ]
  },
  {
   "cell_type": "code",
   "execution_count": 20,
   "metadata": {},
   "outputs": [],
   "source": [
    "library(caret)\n",
    "\n",
    "# partitioning the data into train and test sets\n",
    "set.seed(42)\n",
    "train <- createDataPartition(y=as.factor(digits$target), p=0.8, list=FALSE)\n",
    "\n",
    "# calculating the number of variables and filtering the ones with enough data\n",
    "no_vars <- ncol(digits)\n",
    "non_zero_var <- sapply(digits[,2:ncol(digits)], function(v){var(v, na.rm=TRUE)!=0} )\n",
    "\n",
    "# Defining train and test target as a factor\n",
    "y <- as.factor(digits$target[train])\n",
    "yt <- as.factor(digits$target[-train])\n",
    "\n",
    "# Defining train and test predictors as a data.frame\n",
    "X <- as.data.frame(digits[train, 2:no_vars][,non_zero_var]) \n",
    "Xt <- as.data.frame(digits[-train, 2:no_vars][,non_zero_var])"
   ]
  },
  {
   "cell_type": "code",
   "execution_count": null,
   "metadata": {},
   "outputs": [],
   "source": [
    "var(digits$cell_57)"
   ]
  },
  {
   "cell_type": "code",
   "execution_count": null,
   "metadata": {},
   "outputs": [
    {
     "name": "stderr",
     "output_type": "stream",
     "text": [
      "Warning message:\n",
      "\"Setting row names on a tibble is deprecated.\"\n",
      "Warning message in preProcess.default(thresh = 0.95, k = 5, freqCut = 19, uniqueCut = 10, :\n",
      "\"These variables have zero variances: cell_57\"\n",
      "Warning message in .local(x, ...):\n",
      "\"Variable(s) `' constant. Cannot scale data.\"\n",
      "Warning message:\n",
      "\"Setting row names on a tibble is deprecated.\"\n",
      "Warning message in preProcess.default(thresh = 0.95, k = 5, freqCut = 19, uniqueCut = 10, :\n",
      "\"These variables have zero variances: cell_57\"\n",
      "Warning message in .local(x, ...):\n",
      "\"Variable(s) `' constant. Cannot scale data.\"\n",
      "Warning message:\n",
      "\"Setting row names on a tibble is deprecated.\"\n",
      "Warning message in preProcess.default(thresh = 0.95, k = 5, freqCut = 19, uniqueCut = 10, :\n",
      "\"These variables have zero variances: cell_57\"\n",
      "Warning message in .local(x, ...):\n",
      "\"Variable(s) `' constant. Cannot scale data.\"\n",
      "Warning message:\n",
      "\"Setting row names on a tibble is deprecated.\"\n",
      "Warning message in preProcess.default(thresh = 0.95, k = 5, freqCut = 19, uniqueCut = 10, :\n",
      "\"These variables have zero variances: cell_57\"\n",
      "Warning message in .local(x, ...):\n",
      "\"Variable(s) `' constant. Cannot scale data.\"\n",
      "Warning message:\n",
      "\"Setting row names on a tibble is deprecated.\"\n",
      "Warning message in preProcess.default(thresh = 0.95, k = 5, freqCut = 19, uniqueCut = 10, :\n",
      "\"These variables have zero variances: cell_57\"\n",
      "Warning message in .local(x, ...):\n",
      "\"Variable(s) `' constant. Cannot scale data.\"\n",
      "Warning message:\n",
      "\"Setting row names on a tibble is deprecated.\"\n",
      "Warning message in preProcess.default(thresh = 0.95, k = 5, freqCut = 19, uniqueCut = 10, :\n",
      "\"These variables have zero variances: cell_57\"\n",
      "Warning message in .local(x, ...):\n",
      "\"Variable(s) `' constant. Cannot scale data.\"\n",
      "Warning message:\n",
      "\"Setting row names on a tibble is deprecated.\"\n",
      "Warning message in preProcess.default(thresh = 0.95, k = 5, freqCut = 19, uniqueCut = 10, :\n",
      "\"These variables have zero variances: cell_57\"\n",
      "Warning message in .local(x, ...):\n",
      "\"Variable(s) `' constant. Cannot scale data.\"\n",
      "Warning message:\n",
      "\"Setting row names on a tibble is deprecated.\"\n",
      "Warning message in preProcess.default(thresh = 0.95, k = 5, freqCut = 19, uniqueCut = 10, :\n",
      "\"These variables have zero variances: cell_57\"\n",
      "Warning message in .local(x, ...):\n",
      "\"Variable(s) `' constant. Cannot scale data.\"\n",
      "Warning message:\n",
      "\"Setting row names on a tibble is deprecated.\"\n",
      "Warning message in preProcess.default(thresh = 0.95, k = 5, freqCut = 19, uniqueCut = 10, :\n",
      "\"These variables have zero variances: cell_57\"\n",
      "Warning message in .local(x, ...):\n",
      "\"Variable(s) `' constant. Cannot scale data.\"\n",
      "Warning message:\n",
      "\"Setting row names on a tibble is deprecated.\"\n",
      "Warning message in preProcess.default(thresh = 0.95, k = 5, freqCut = 19, uniqueCut = 10, :\n",
      "\"These variables have zero variances: cell_57\"\n",
      "Warning message in .local(x, ...):\n",
      "\"Variable(s) `' constant. Cannot scale data.\"\n",
      "Warning message:\n",
      "\"Setting row names on a tibble is deprecated.\"\n",
      "Warning message in preProcess.default(thresh = 0.95, k = 5, freqCut = 19, uniqueCut = 10, :\n",
      "\"These variables have zero variances: cell_57\"\n",
      "Warning message in .local(x, ...):\n",
      "\"Variable(s) `' constant. Cannot scale data.\"\n",
      "Warning message:\n",
      "\"Setting row names on a tibble is deprecated.\"\n",
      "Warning message in preProcess.default(thresh = 0.95, k = 5, freqCut = 19, uniqueCut = 10, :\n",
      "\"These variables have zero variances: cell_57\"\n",
      "Warning message in .local(x, ...):\n",
      "\"Variable(s) `' constant. Cannot scale data.\"\n",
      "Warning message:\n",
      "\"Setting row names on a tibble is deprecated.\"\n",
      "Warning message in preProcess.default(thresh = 0.95, k = 5, freqCut = 19, uniqueCut = 10, :\n",
      "\"These variables have zero variances: cell_57\"\n",
      "Warning message in .local(x, ...):\n",
      "\"Variable(s) `' constant. Cannot scale data.\"\n",
      "Warning message:\n",
      "\"Setting row names on a tibble is deprecated.\"\n",
      "Warning message in preProcess.default(thresh = 0.95, k = 5, freqCut = 19, uniqueCut = 10, :\n",
      "\"These variables have zero variances: cell_57\"\n",
      "Warning message in .local(x, ...):\n",
      "\"Variable(s) `' constant. Cannot scale data.\"\n",
      "Warning message:\n",
      "\"Setting row names on a tibble is deprecated.\"\n",
      "Warning message in preProcess.default(thresh = 0.95, k = 5, freqCut = 19, uniqueCut = 10, :\n",
      "\"These variables have zero variances: cell_57\"\n",
      "Warning message in .local(x, ...):\n",
      "\"Variable(s) `' constant. Cannot scale data.\"\n",
      "Warning message:\n",
      "\"Setting row names on a tibble is deprecated.\"\n",
      "Warning message in preProcess.default(thresh = 0.95, k = 5, freqCut = 19, uniqueCut = 10, :\n",
      "\"These variables have zero variances: cell_57\"\n",
      "Warning message in .local(x, ...):\n",
      "\"Variable(s) `' constant. Cannot scale data.\"\n",
      "Warning message:\n",
      "\"Setting row names on a tibble is deprecated.\"\n",
      "Warning message in preProcess.default(thresh = 0.95, k = 5, freqCut = 19, uniqueCut = 10, :\n",
      "\"These variables have zero variances: cell_57\"\n",
      "Warning message in .local(x, ...):\n",
      "\"Variable(s) `' constant. Cannot scale data.\"\n",
      "Warning message:\n",
      "\"Setting row names on a tibble is deprecated.\"\n",
      "Warning message in preProcess.default(thresh = 0.95, k = 5, freqCut = 19, uniqueCut = 10, :\n",
      "\"These variables have zero variances: cell_57\"\n",
      "Warning message in .local(x, ...):\n",
      "\"Variable(s) `' constant. Cannot scale data.\"\n",
      "Warning message:\n",
      "\"Setting row names on a tibble is deprecated.\"\n",
      "Warning message in preProcess.default(thresh = 0.95, k = 5, freqCut = 19, uniqueCut = 10, :\n",
      "\"These variables have zero variances: cell_57\"\n",
      "Warning message in .local(x, ...):\n",
      "\"Variable(s) `' constant. Cannot scale data.\"\n",
      "Warning message:\n",
      "\"Setting row names on a tibble is deprecated.\"\n",
      "Warning message in preProcess.default(thresh = 0.95, k = 5, freqCut = 19, uniqueCut = 10, :\n",
      "\"These variables have zero variances: cell_57\"\n",
      "Warning message in .local(x, ...):\n",
      "\"Variable(s) `' constant. Cannot scale data.\"\n",
      "Warning message:\n",
      "\"Setting row names on a tibble is deprecated.\"\n",
      "Warning message in preProcess.default(thresh = 0.95, k = 5, freqCut = 19, uniqueCut = 10, :\n",
      "\"These variables have zero variances: cell_57\"\n",
      "Warning message in .local(x, ...):\n",
      "\"Variable(s) `' constant. Cannot scale data.\"\n",
      "Warning message:\n",
      "\"Setting row names on a tibble is deprecated.\"\n",
      "Warning message in preProcess.default(thresh = 0.95, k = 5, freqCut = 19, uniqueCut = 10, :\n",
      "\"These variables have zero variances: cell_57\"\n",
      "Warning message in .local(x, ...):\n",
      "\"Variable(s) `' constant. Cannot scale data.\"\n",
      "Warning message:\n",
      "\"Setting row names on a tibble is deprecated.\"\n",
      "Warning message in preProcess.default(thresh = 0.95, k = 5, freqCut = 19, uniqueCut = 10, :\n",
      "\"These variables have zero variances: cell_57\"\n",
      "Warning message in .local(x, ...):\n",
      "\"Variable(s) `' constant. Cannot scale data.\"\n",
      "Warning message:\n",
      "\"Setting row names on a tibble is deprecated.\"\n",
      "Warning message in preProcess.default(thresh = 0.95, k = 5, freqCut = 19, uniqueCut = 10, :\n",
      "\"These variables have zero variances: cell_57\"\n",
      "Warning message in .local(x, ...):\n",
      "\"Variable(s) `' constant. Cannot scale data.\"\n",
      "Warning message:\n",
      "\"Setting row names on a tibble is deprecated.\"\n",
      "Warning message in preProcess.default(thresh = 0.95, k = 5, freqCut = 19, uniqueCut = 10, :\n",
      "\"These variables have zero variances: cell_57\"\n",
      "Warning message in .local(x, ...):\n",
      "\"Variable(s) `' constant. Cannot scale data.\"\n",
      "Warning message:\n",
      "\"Setting row names on a tibble is deprecated.\"\n",
      "Warning message in preProcess.default(thresh = 0.95, k = 5, freqCut = 19, uniqueCut = 10, :\n",
      "\"These variables have zero variances: cell_57\"\n",
      "Warning message in .local(x, ...):\n",
      "\"Variable(s) `' constant. Cannot scale data.\"\n",
      "Warning message:\n",
      "\"Setting row names on a tibble is deprecated.\"\n",
      "Warning message in preProcess.default(thresh = 0.95, k = 5, freqCut = 19, uniqueCut = 10, :\n",
      "\"These variables have zero variances: cell_57\"\n",
      "Warning message in .local(x, ...):\n",
      "\"Variable(s) `' constant. Cannot scale data.\"\n",
      "Warning message:\n",
      "\"Setting row names on a tibble is deprecated.\"\n",
      "Warning message in preProcess.default(thresh = 0.95, k = 5, freqCut = 19, uniqueCut = 10, :\n",
      "\"These variables have zero variances: cell_57\"\n",
      "Warning message in .local(x, ...):\n",
      "\"Variable(s) `' constant. Cannot scale data.\"\n",
      "Warning message:\n",
      "\"Setting row names on a tibble is deprecated.\"\n",
      "Warning message in preProcess.default(thresh = 0.95, k = 5, freqCut = 19, uniqueCut = 10, :\n",
      "\"These variables have zero variances: cell_57\"\n",
      "Warning message in .local(x, ...):\n",
      "\"Variable(s) `' constant. Cannot scale data.\"\n"
     ]
    },
    {
     "name": "stderr",
     "output_type": "stream",
     "text": [
      "Warning message:\n",
      "\"Setting row names on a tibble is deprecated.\"\n",
      "Warning message in preProcess.default(thresh = 0.95, k = 5, freqCut = 19, uniqueCut = 10, :\n",
      "\"These variables have zero variances: cell_57\"\n",
      "Warning message in .local(x, ...):\n",
      "\"Variable(s) `' constant. Cannot scale data.\"\n",
      "Warning message:\n",
      "\"Setting row names on a tibble is deprecated.\"\n",
      "Warning message in preProcess.default(thresh = 0.95, k = 5, freqCut = 19, uniqueCut = 10, :\n",
      "\"These variables have zero variances: cell_57\"\n",
      "Warning message in .local(x, ...):\n",
      "\"Variable(s) `' constant. Cannot scale data.\"\n",
      "Warning message:\n",
      "\"Setting row names on a tibble is deprecated.\"\n",
      "Warning message in preProcess.default(thresh = 0.95, k = 5, freqCut = 19, uniqueCut = 10, :\n",
      "\"These variables have zero variances: cell_57\"\n",
      "Warning message in .local(x, ...):\n",
      "\"Variable(s) `' constant. Cannot scale data.\"\n",
      "Warning message:\n",
      "\"Setting row names on a tibble is deprecated.\"\n",
      "Warning message in preProcess.default(thresh = 0.95, k = 5, freqCut = 19, uniqueCut = 10, :\n",
      "\"These variables have zero variances: cell_57\"\n",
      "Warning message in .local(x, ...):\n",
      "\"Variable(s) `' constant. Cannot scale data.\"\n",
      "Warning message:\n",
      "\"Setting row names on a tibble is deprecated.\"\n",
      "Warning message in preProcess.default(thresh = 0.95, k = 5, freqCut = 19, uniqueCut = 10, :\n",
      "\"These variables have zero variances: cell_57\"\n",
      "Warning message in .local(x, ...):\n",
      "\"Variable(s) `' constant. Cannot scale data.\"\n",
      "Warning message:\n",
      "\"Setting row names on a tibble is deprecated.\"\n",
      "Warning message in preProcess.default(thresh = 0.95, k = 5, freqCut = 19, uniqueCut = 10, :\n",
      "\"These variables have zero variances: cell_57\"\n",
      "Warning message in .local(x, ...):\n",
      "\"Variable(s) `' constant. Cannot scale data.\"\n",
      "Warning message:\n",
      "\"Setting row names on a tibble is deprecated.\"\n",
      "Warning message in preProcess.default(thresh = 0.95, k = 5, freqCut = 19, uniqueCut = 10, :\n",
      "\"These variables have zero variances: cell_57\"\n",
      "Warning message in .local(x, ...):\n",
      "\"Variable(s) `' constant. Cannot scale data.\"\n",
      "Warning message:\n",
      "\"Setting row names on a tibble is deprecated.\"\n",
      "Warning message in preProcess.default(thresh = 0.95, k = 5, freqCut = 19, uniqueCut = 10, :\n",
      "\"These variables have zero variances: cell_57\"\n",
      "Warning message in .local(x, ...):\n",
      "\"Variable(s) `' constant. Cannot scale data.\"\n",
      "Warning message:\n",
      "\"Setting row names on a tibble is deprecated.\"\n",
      "Warning message in preProcess.default(thresh = 0.95, k = 5, freqCut = 19, uniqueCut = 10, :\n",
      "\"These variables have zero variances: cell_57\"\n",
      "Warning message in .local(x, ...):\n",
      "\"Variable(s) `' constant. Cannot scale data.\"\n",
      "Warning message:\n",
      "\"Setting row names on a tibble is deprecated.\"\n",
      "Warning message in preProcess.default(thresh = 0.95, k = 5, freqCut = 19, uniqueCut = 10, :\n",
      "\"These variables have zero variances: cell_57\"\n",
      "Warning message in .local(x, ...):\n",
      "\"Variable(s) `' constant. Cannot scale data.\"\n",
      "Warning message:\n",
      "\"Setting row names on a tibble is deprecated.\"\n",
      "Warning message in preProcess.default(thresh = 0.95, k = 5, freqCut = 19, uniqueCut = 10, :\n",
      "\"These variables have zero variances: cell_57\"\n",
      "Warning message in .local(x, ...):\n",
      "\"Variable(s) `' constant. Cannot scale data.\"\n",
      "Warning message:\n",
      "\"Setting row names on a tibble is deprecated.\"\n",
      "Warning message in preProcess.default(thresh = 0.95, k = 5, freqCut = 19, uniqueCut = 10, :\n",
      "\"These variables have zero variances: cell_57\"\n",
      "Warning message in .local(x, ...):\n",
      "\"Variable(s) `' constant. Cannot scale data.\"\n",
      "Warning message:\n",
      "\"Setting row names on a tibble is deprecated.\"\n",
      "Warning message in preProcess.default(thresh = 0.95, k = 5, freqCut = 19, uniqueCut = 10, :\n",
      "\"These variables have zero variances: cell_57\"\n",
      "Warning message in .local(x, ...):\n",
      "\"Variable(s) `' constant. Cannot scale data.\"\n",
      "Warning message:\n",
      "\"Setting row names on a tibble is deprecated.\"\n",
      "Warning message in preProcess.default(thresh = 0.95, k = 5, freqCut = 19, uniqueCut = 10, :\n",
      "\"These variables have zero variances: cell_57\"\n",
      "Warning message in .local(x, ...):\n",
      "\"Variable(s) `' constant. Cannot scale data.\"\n",
      "Warning message:\n",
      "\"Setting row names on a tibble is deprecated.\"\n",
      "Warning message in preProcess.default(thresh = 0.95, k = 5, freqCut = 19, uniqueCut = 10, :\n",
      "\"These variables have zero variances: cell_57\"\n",
      "Warning message in .local(x, ...):\n",
      "\"Variable(s) `' constant. Cannot scale data.\"\n",
      "Warning message:\n",
      "\"Setting row names on a tibble is deprecated.\"\n",
      "Warning message in preProcess.default(thresh = 0.95, k = 5, freqCut = 19, uniqueCut = 10, :\n",
      "\"These variables have zero variances: cell_57\"\n",
      "Warning message in .local(x, ...):\n",
      "\"Variable(s) `' constant. Cannot scale data.\"\n",
      "Warning message:\n",
      "\"Setting row names on a tibble is deprecated.\"\n",
      "Warning message in preProcess.default(thresh = 0.95, k = 5, freqCut = 19, uniqueCut = 10, :\n",
      "\"These variables have zero variances: cell_57\"\n",
      "Warning message in .local(x, ...):\n",
      "\"Variable(s) `' constant. Cannot scale data.\"\n",
      "Warning message:\n",
      "\"Setting row names on a tibble is deprecated.\"\n",
      "Warning message in preProcess.default(thresh = 0.95, k = 5, freqCut = 19, uniqueCut = 10, :\n",
      "\"These variables have zero variances: cell_57\"\n",
      "Warning message in .local(x, ...):\n",
      "\"Variable(s) `' constant. Cannot scale data.\"\n",
      "Warning message:\n",
      "\"Setting row names on a tibble is deprecated.\"\n",
      "Warning message in preProcess.default(thresh = 0.95, k = 5, freqCut = 19, uniqueCut = 10, :\n",
      "\"These variables have zero variances: cell_57\"\n",
      "Warning message in .local(x, ...):\n",
      "\"Variable(s) `' constant. Cannot scale data.\"\n",
      "Warning message:\n",
      "\"Setting row names on a tibble is deprecated.\"\n",
      "Warning message in preProcess.default(thresh = 0.95, k = 5, freqCut = 19, uniqueCut = 10, :\n",
      "\"These variables have zero variances: cell_57\"\n",
      "Warning message in .local(x, ...):\n",
      "\"Variable(s) `' constant. Cannot scale data.\"\n",
      "Warning message:\n",
      "\"Setting row names on a tibble is deprecated.\"\n",
      "Warning message in preProcess.default(thresh = 0.95, k = 5, freqCut = 19, uniqueCut = 10, :\n",
      "\"These variables have zero variances: cell_57\"\n",
      "Warning message in .local(x, ...):\n",
      "\"Variable(s) `' constant. Cannot scale data.\"\n",
      "Warning message:\n",
      "\"Setting row names on a tibble is deprecated.\"\n",
      "Warning message in preProcess.default(thresh = 0.95, k = 5, freqCut = 19, uniqueCut = 10, :\n",
      "\"These variables have zero variances: cell_57\"\n",
      "Warning message in .local(x, ...):\n",
      "\"Variable(s) `' constant. Cannot scale data.\"\n",
      "Warning message:\n",
      "\"Setting row names on a tibble is deprecated.\"\n",
      "Warning message in preProcess.default(thresh = 0.95, k = 5, freqCut = 19, uniqueCut = 10, :\n",
      "\"These variables have zero variances: cell_57\"\n",
      "Warning message in .local(x, ...):\n",
      "\"Variable(s) `' constant. Cannot scale data.\"\n",
      "Warning message:\n",
      "\"Setting row names on a tibble is deprecated.\"\n",
      "Warning message in preProcess.default(thresh = 0.95, k = 5, freqCut = 19, uniqueCut = 10, :\n",
      "\"These variables have zero variances: cell_57\"\n",
      "Warning message in .local(x, ...):\n",
      "\"Variable(s) `' constant. Cannot scale data.\"\n",
      "Warning message:\n",
      "\"Setting row names on a tibble is deprecated.\"\n",
      "Warning message in preProcess.default(thresh = 0.95, k = 5, freqCut = 19, uniqueCut = 10, :\n",
      "\"These variables have zero variances: cell_57\"\n",
      "Warning message in .local(x, ...):\n",
      "\"Variable(s) `' constant. Cannot scale data.\"\n",
      "Warning message:\n",
      "\"Setting row names on a tibble is deprecated.\"\n",
      "Warning message in preProcess.default(thresh = 0.95, k = 5, freqCut = 19, uniqueCut = 10, :\n",
      "\"These variables have zero variances: cell_57\"\n",
      "Warning message in .local(x, ...):\n",
      "\"Variable(s) `' constant. Cannot scale data.\"\n",
      "Warning message:\n",
      "\"Setting row names on a tibble is deprecated.\"\n",
      "Warning message in preProcess.default(thresh = 0.95, k = 5, freqCut = 19, uniqueCut = 10, :\n",
      "\"These variables have zero variances: cell_57\"\n",
      "Warning message in .local(x, ...):\n",
      "\"Variable(s) `' constant. Cannot scale data.\"\n",
      "Warning message:\n",
      "\"Setting row names on a tibble is deprecated.\"\n",
      "Warning message in preProcess.default(thresh = 0.95, k = 5, freqCut = 19, uniqueCut = 10, :\n",
      "\"These variables have zero variances: cell_57\"\n",
      "Warning message in .local(x, ...):\n",
      "\"Variable(s) `' constant. Cannot scale data.\"\n",
      "Warning message:\n",
      "\"Setting row names on a tibble is deprecated.\"\n",
      "Warning message in preProcess.default(thresh = 0.95, k = 5, freqCut = 19, uniqueCut = 10, :\n",
      "\"These variables have zero variances: cell_57\"\n",
      "Warning message in .local(x, ...):\n",
      "\"Variable(s) `' constant. Cannot scale data.\"\n"
     ]
    },
    {
     "name": "stderr",
     "output_type": "stream",
     "text": [
      "Warning message:\n",
      "\"Setting row names on a tibble is deprecated.\"\n",
      "Warning message in preProcess.default(thresh = 0.95, k = 5, freqCut = 19, uniqueCut = 10, :\n",
      "\"These variables have zero variances: cell_57\"\n",
      "Warning message in .local(x, ...):\n",
      "\"Variable(s) `' constant. Cannot scale data.\"\n",
      "Warning message:\n",
      "\"Setting row names on a tibble is deprecated.\"\n",
      "Warning message in preProcess.default(thresh = 0.95, k = 5, freqCut = 19, uniqueCut = 10, :\n",
      "\"These variables have zero variances: cell_57\"\n",
      "Warning message in .local(x, ...):\n",
      "\"Variable(s) `' constant. Cannot scale data.\"\n",
      "Warning message:\n",
      "\"Setting row names on a tibble is deprecated.\"\n",
      "Warning message in preProcess.default(thresh = 0.95, k = 5, freqCut = 19, uniqueCut = 10, :\n",
      "\"These variables have zero variances: cell_57\"\n",
      "Warning message in .local(x, ...):\n",
      "\"Variable(s) `' constant. Cannot scale data.\"\n",
      "Warning message:\n",
      "\"Setting row names on a tibble is deprecated.\"\n",
      "Warning message in preProcess.default(thresh = 0.95, k = 5, freqCut = 19, uniqueCut = 10, :\n",
      "\"These variables have zero variances: cell_57\"\n",
      "Warning message in .local(x, ...):\n",
      "\"Variable(s) `' constant. Cannot scale data.\"\n",
      "Warning message:\n",
      "\"Setting row names on a tibble is deprecated.\"\n",
      "Warning message in preProcess.default(thresh = 0.95, k = 5, freqCut = 19, uniqueCut = 10, :\n",
      "\"These variables have zero variances: cell_57\"\n",
      "Warning message in .local(x, ...):\n",
      "\"Variable(s) `' constant. Cannot scale data.\"\n",
      "Warning message:\n",
      "\"Setting row names on a tibble is deprecated.\"\n",
      "Warning message in preProcess.default(thresh = 0.95, k = 5, freqCut = 19, uniqueCut = 10, :\n",
      "\"These variables have zero variances: cell_57\"\n",
      "Warning message in .local(x, ...):\n",
      "\"Variable(s) `' constant. Cannot scale data.\"\n",
      "Warning message:\n",
      "\"Setting row names on a tibble is deprecated.\"\n",
      "Warning message in preProcess.default(thresh = 0.95, k = 5, freqCut = 19, uniqueCut = 10, :\n",
      "\"These variables have zero variances: cell_57\"\n",
      "Warning message in .local(x, ...):\n",
      "\"Variable(s) `' constant. Cannot scale data.\"\n",
      "Warning message:\n",
      "\"Setting row names on a tibble is deprecated.\"\n",
      "Warning message in preProcess.default(thresh = 0.95, k = 5, freqCut = 19, uniqueCut = 10, :\n",
      "\"These variables have zero variances: cell_57\"\n",
      "Warning message in .local(x, ...):\n",
      "\"Variable(s) `' constant. Cannot scale data.\"\n",
      "Warning message:\n",
      "\"Setting row names on a tibble is deprecated.\"\n",
      "Warning message in preProcess.default(thresh = 0.95, k = 5, freqCut = 19, uniqueCut = 10, :\n",
      "\"These variables have zero variances: cell_57\"\n",
      "Warning message in .local(x, ...):\n",
      "\"Variable(s) `' constant. Cannot scale data.\"\n",
      "Warning message:\n",
      "\"Setting row names on a tibble is deprecated.\"\n",
      "Warning message in preProcess.default(thresh = 0.95, k = 5, freqCut = 19, uniqueCut = 10, :\n",
      "\"These variables have zero variances: cell_57\"\n",
      "Warning message in .local(x, ...):\n",
      "\"Variable(s) `' constant. Cannot scale data.\"\n",
      "Warning message:\n",
      "\"Setting row names on a tibble is deprecated.\"\n",
      "Warning message in preProcess.default(thresh = 0.95, k = 5, freqCut = 19, uniqueCut = 10, :\n",
      "\"These variables have zero variances: cell_57\"\n",
      "Warning message in .local(x, ...):\n",
      "\"Variable(s) `' constant. Cannot scale data.\"\n",
      "Warning message:\n",
      "\"Setting row names on a tibble is deprecated.\"\n",
      "Warning message in preProcess.default(thresh = 0.95, k = 5, freqCut = 19, uniqueCut = 10, :\n",
      "\"These variables have zero variances: cell_57\"\n",
      "Warning message in .local(x, ...):\n",
      "\"Variable(s) `' constant. Cannot scale data.\"\n",
      "Warning message:\n",
      "\"Setting row names on a tibble is deprecated.\"\n",
      "Warning message in preProcess.default(thresh = 0.95, k = 5, freqCut = 19, uniqueCut = 10, :\n",
      "\"These variables have zero variances: cell_57\"\n",
      "Warning message in .local(x, ...):\n",
      "\"Variable(s) `' constant. Cannot scale data.\"\n",
      "Warning message:\n",
      "\"Setting row names on a tibble is deprecated.\"\n",
      "Warning message in preProcess.default(thresh = 0.95, k = 5, freqCut = 19, uniqueCut = 10, :\n",
      "\"These variables have zero variances: cell_57\"\n",
      "Warning message in .local(x, ...):\n",
      "\"Variable(s) `' constant. Cannot scale data.\"\n",
      "Warning message:\n",
      "\"Setting row names on a tibble is deprecated.\"\n",
      "Warning message in preProcess.default(thresh = 0.95, k = 5, freqCut = 19, uniqueCut = 10, :\n",
      "\"These variables have zero variances: cell_57\"\n",
      "Warning message in .local(x, ...):\n",
      "\"Variable(s) `' constant. Cannot scale data.\"\n",
      "Warning message:\n",
      "\"Setting row names on a tibble is deprecated.\"\n",
      "Warning message in preProcess.default(thresh = 0.95, k = 5, freqCut = 19, uniqueCut = 10, :\n",
      "\"These variables have zero variances: cell_57\"\n",
      "Warning message in .local(x, ...):\n",
      "\"Variable(s) `' constant. Cannot scale data.\"\n",
      "Warning message:\n",
      "\"Setting row names on a tibble is deprecated.\"\n",
      "Warning message in preProcess.default(thresh = 0.95, k = 5, freqCut = 19, uniqueCut = 10, :\n",
      "\"These variables have zero variances: cell_57\"\n",
      "Warning message in .local(x, ...):\n",
      "\"Variable(s) `' constant. Cannot scale data.\"\n",
      "Warning message:\n",
      "\"Setting row names on a tibble is deprecated.\"\n",
      "Warning message in preProcess.default(thresh = 0.95, k = 5, freqCut = 19, uniqueCut = 10, :\n",
      "\"These variables have zero variances: cell_57\"\n",
      "Warning message in .local(x, ...):\n",
      "\"Variable(s) `' constant. Cannot scale data.\"\n",
      "Warning message:\n",
      "\"Setting row names on a tibble is deprecated.\"\n",
      "Warning message in preProcess.default(thresh = 0.95, k = 5, freqCut = 19, uniqueCut = 10, :\n",
      "\"These variables have zero variances: cell_57\"\n",
      "Warning message in .local(x, ...):\n",
      "\"Variable(s) `' constant. Cannot scale data.\"\n",
      "Warning message:\n",
      "\"Setting row names on a tibble is deprecated.\"\n",
      "Warning message in preProcess.default(thresh = 0.95, k = 5, freqCut = 19, uniqueCut = 10, :\n",
      "\"These variables have zero variances: cell_57\"\n",
      "Warning message in .local(x, ...):\n",
      "\"Variable(s) `' constant. Cannot scale data.\"\n",
      "Warning message:\n",
      "\"Setting row names on a tibble is deprecated.\"\n",
      "Warning message in preProcess.default(thresh = 0.95, k = 5, freqCut = 19, uniqueCut = 10, :\n",
      "\"These variables have zero variances: cell_57\"\n",
      "Warning message in .local(x, ...):\n",
      "\"Variable(s) `' constant. Cannot scale data.\"\n",
      "Warning message:\n",
      "\"Setting row names on a tibble is deprecated.\"\n",
      "Warning message in preProcess.default(thresh = 0.95, k = 5, freqCut = 19, uniqueCut = 10, :\n",
      "\"These variables have zero variances: cell_57\"\n",
      "Warning message in .local(x, ...):\n",
      "\"Variable(s) `' constant. Cannot scale data.\"\n",
      "Warning message:\n",
      "\"Setting row names on a tibble is deprecated.\"\n",
      "Warning message in preProcess.default(thresh = 0.95, k = 5, freqCut = 19, uniqueCut = 10, :\n",
      "\"These variables have zero variances: cell_57\"\n",
      "Warning message in .local(x, ...):\n",
      "\"Variable(s) `' constant. Cannot scale data.\"\n",
      "Warning message:\n",
      "\"Setting row names on a tibble is deprecated.\"\n",
      "Warning message in preProcess.default(thresh = 0.95, k = 5, freqCut = 19, uniqueCut = 10, :\n",
      "\"These variables have zero variances: cell_57\"\n",
      "Warning message in .local(x, ...):\n",
      "\"Variable(s) `' constant. Cannot scale data.\"\n",
      "Warning message:\n",
      "\"Setting row names on a tibble is deprecated.\"\n",
      "Warning message in preProcess.default(thresh = 0.95, k = 5, freqCut = 19, uniqueCut = 10, :\n",
      "\"These variables have zero variances: cell_57\"\n",
      "Warning message in .local(x, ...):\n",
      "\"Variable(s) `' constant. Cannot scale data.\"\n",
      "Warning message:\n",
      "\"Setting row names on a tibble is deprecated.\"\n",
      "Warning message in preProcess.default(thresh = 0.95, k = 5, freqCut = 19, uniqueCut = 10, :\n",
      "\"These variables have zero variances: cell_57\"\n",
      "Warning message in .local(x, ...):\n",
      "\"Variable(s) `' constant. Cannot scale data.\"\n",
      "Warning message:\n",
      "\"Setting row names on a tibble is deprecated.\"\n",
      "Warning message in preProcess.default(thresh = 0.95, k = 5, freqCut = 19, uniqueCut = 10, :\n",
      "\"These variables have zero variances: cell_57\"\n",
      "Warning message in .local(x, ...):\n",
      "\"Variable(s) `' constant. Cannot scale data.\"\n",
      "Warning message:\n",
      "\"Setting row names on a tibble is deprecated.\"\n",
      "Warning message in preProcess.default(thresh = 0.95, k = 5, freqCut = 19, uniqueCut = 10, :\n",
      "\"These variables have zero variances: cell_57\"\n",
      "Warning message in .local(x, ...):\n",
      "\"Variable(s) `' constant. Cannot scale data.\"\n",
      "Warning message:\n",
      "\"Setting row names on a tibble is deprecated.\"\n",
      "Warning message in preProcess.default(thresh = 0.95, k = 5, freqCut = 19, uniqueCut = 10, :\n",
      "\"These variables have zero variances: cell_57\"\n",
      "Warning message in .local(x, ...):\n",
      "\"Variable(s) `' constant. Cannot scale data.\"\n"
     ]
    },
    {
     "name": "stderr",
     "output_type": "stream",
     "text": [
      "Warning message:\n",
      "\"Setting row names on a tibble is deprecated.\"\n",
      "Warning message in preProcess.default(thresh = 0.95, k = 5, freqCut = 19, uniqueCut = 10, :\n",
      "\"These variables have zero variances: cell_57\"\n",
      "Warning message in .local(x, ...):\n",
      "\"Variable(s) `' constant. Cannot scale data.\"\n",
      "Warning message:\n",
      "\"Setting row names on a tibble is deprecated.\"\n",
      "Warning message in preProcess.default(thresh = 0.95, k = 5, freqCut = 19, uniqueCut = 10, :\n",
      "\"These variables have zero variances: cell_57\"\n",
      "Warning message in .local(x, ...):\n",
      "\"Variable(s) `' constant. Cannot scale data.\"\n",
      "Warning message:\n",
      "\"Setting row names on a tibble is deprecated.\"\n",
      "Warning message in preProcess.default(thresh = 0.95, k = 5, freqCut = 19, uniqueCut = 10, :\n",
      "\"These variables have zero variances: cell_57\"\n",
      "Warning message in .local(x, ...):\n",
      "\"Variable(s) `' constant. Cannot scale data.\"\n",
      "Warning message:\n",
      "\"Setting row names on a tibble is deprecated.\"\n",
      "Warning message in preProcess.default(thresh = 0.95, k = 5, freqCut = 19, uniqueCut = 10, :\n",
      "\"These variables have zero variances: cell_57\"\n",
      "Warning message in .local(x, ...):\n",
      "\"Variable(s) `' constant. Cannot scale data.\"\n",
      "Warning message:\n",
      "\"Setting row names on a tibble is deprecated.\"\n",
      "Warning message in preProcess.default(thresh = 0.95, k = 5, freqCut = 19, uniqueCut = 10, :\n",
      "\"These variables have zero variances: cell_57\"\n",
      "Warning message in .local(x, ...):\n",
      "\"Variable(s) `' constant. Cannot scale data.\"\n",
      "Warning message:\n",
      "\"Setting row names on a tibble is deprecated.\"\n",
      "Warning message in preProcess.default(thresh = 0.95, k = 5, freqCut = 19, uniqueCut = 10, :\n",
      "\"These variables have zero variances: cell_57\"\n",
      "Warning message in .local(x, ...):\n",
      "\"Variable(s) `' constant. Cannot scale data.\"\n",
      "Warning message:\n",
      "\"Setting row names on a tibble is deprecated.\"\n",
      "Warning message in preProcess.default(thresh = 0.95, k = 5, freqCut = 19, uniqueCut = 10, :\n",
      "\"These variables have zero variances: cell_57\"\n",
      "Warning message in .local(x, ...):\n",
      "\"Variable(s) `' constant. Cannot scale data.\"\n",
      "Warning message:\n",
      "\"Setting row names on a tibble is deprecated.\"\n",
      "Warning message in preProcess.default(thresh = 0.95, k = 5, freqCut = 19, uniqueCut = 10, :\n",
      "\"These variables have zero variances: cell_57\"\n",
      "Warning message in .local(x, ...):\n",
      "\"Variable(s) `' constant. Cannot scale data.\"\n",
      "Warning message:\n",
      "\"Setting row names on a tibble is deprecated.\"\n",
      "Warning message in preProcess.default(thresh = 0.95, k = 5, freqCut = 19, uniqueCut = 10, :\n",
      "\"These variables have zero variances: cell_57\"\n",
      "Warning message in .local(x, ...):\n",
      "\"Variable(s) `' constant. Cannot scale data.\"\n",
      "Warning message:\n",
      "\"Setting row names on a tibble is deprecated.\"\n",
      "Warning message in preProcess.default(thresh = 0.95, k = 5, freqCut = 19, uniqueCut = 10, :\n",
      "\"These variables have zero variances: cell_57\"\n",
      "Warning message in .local(x, ...):\n",
      "\"Variable(s) `' constant. Cannot scale data.\"\n",
      "Warning message:\n",
      "\"Setting row names on a tibble is deprecated.\"\n",
      "Warning message in preProcess.default(thresh = 0.95, k = 5, freqCut = 19, uniqueCut = 10, :\n",
      "\"These variables have zero variances: cell_57\"\n",
      "Warning message in .local(x, ...):\n",
      "\"Variable(s) `' constant. Cannot scale data.\"\n",
      "Warning message:\n",
      "\"Setting row names on a tibble is deprecated.\"\n",
      "Warning message in preProcess.default(thresh = 0.95, k = 5, freqCut = 19, uniqueCut = 10, :\n",
      "\"These variables have zero variances: cell_57\"\n",
      "Warning message in .local(x, ...):\n",
      "\"Variable(s) `' constant. Cannot scale data.\"\n",
      "Warning message:\n",
      "\"Setting row names on a tibble is deprecated.\"\n",
      "Warning message in preProcess.default(thresh = 0.95, k = 5, freqCut = 19, uniqueCut = 10, :\n",
      "\"These variables have zero variances: cell_57\"\n",
      "Warning message in .local(x, ...):\n",
      "\"Variable(s) `' constant. Cannot scale data.\"\n",
      "Warning message:\n",
      "\"Setting row names on a tibble is deprecated.\"\n",
      "Warning message in preProcess.default(thresh = 0.95, k = 5, freqCut = 19, uniqueCut = 10, :\n",
      "\"These variables have zero variances: cell_57\"\n",
      "Warning message in .local(x, ...):\n",
      "\"Variable(s) `' constant. Cannot scale data.\"\n",
      "Warning message:\n",
      "\"Setting row names on a tibble is deprecated.\"\n",
      "Warning message in preProcess.default(thresh = 0.95, k = 5, freqCut = 19, uniqueCut = 10, :\n",
      "\"These variables have zero variances: cell_57\"\n",
      "Warning message in .local(x, ...):\n",
      "\"Variable(s) `' constant. Cannot scale data.\"\n",
      "Warning message:\n",
      "\"Setting row names on a tibble is deprecated.\"\n",
      "Warning message in preProcess.default(thresh = 0.95, k = 5, freqCut = 19, uniqueCut = 10, :\n",
      "\"These variables have zero variances: cell_57\"\n",
      "Warning message in .local(x, ...):\n",
      "\"Variable(s) `' constant. Cannot scale data.\"\n",
      "Warning message:\n",
      "\"Setting row names on a tibble is deprecated.\"\n",
      "Warning message in preProcess.default(thresh = 0.95, k = 5, freqCut = 19, uniqueCut = 10, :\n",
      "\"These variables have zero variances: cell_57\"\n",
      "Warning message in .local(x, ...):\n",
      "\"Variable(s) `' constant. Cannot scale data.\"\n",
      "Warning message:\n",
      "\"Setting row names on a tibble is deprecated.\"\n",
      "Warning message in preProcess.default(thresh = 0.95, k = 5, freqCut = 19, uniqueCut = 10, :\n",
      "\"These variables have zero variances: cell_57\"\n",
      "Warning message in .local(x, ...):\n",
      "\"Variable(s) `' constant. Cannot scale data.\"\n",
      "Warning message:\n",
      "\"Setting row names on a tibble is deprecated.\"\n",
      "Warning message in preProcess.default(thresh = 0.95, k = 5, freqCut = 19, uniqueCut = 10, :\n",
      "\"These variables have zero variances: cell_57\"\n",
      "Warning message in .local(x, ...):\n",
      "\"Variable(s) `' constant. Cannot scale data.\"\n",
      "Warning message:\n",
      "\"Setting row names on a tibble is deprecated.\"\n",
      "Warning message in preProcess.default(thresh = 0.95, k = 5, freqCut = 19, uniqueCut = 10, :\n",
      "\"These variables have zero variances: cell_57\"\n",
      "Warning message in .local(x, ...):\n",
      "\"Variable(s) `' constant. Cannot scale data.\"\n",
      "Warning message:\n",
      "\"Setting row names on a tibble is deprecated.\"\n",
      "Warning message in preProcess.default(thresh = 0.95, k = 5, freqCut = 19, uniqueCut = 10, :\n",
      "\"These variables have zero variances: cell_57\"\n",
      "Warning message in .local(x, ...):\n",
      "\"Variable(s) `' constant. Cannot scale data.\"\n",
      "Warning message:\n",
      "\"Setting row names on a tibble is deprecated.\"\n",
      "Warning message in preProcess.default(thresh = 0.95, k = 5, freqCut = 19, uniqueCut = 10, :\n",
      "\"These variables have zero variances: cell_57\"\n",
      "Warning message in .local(x, ...):\n",
      "\"Variable(s) `' constant. Cannot scale data.\"\n",
      "Warning message:\n",
      "\"Setting row names on a tibble is deprecated.\"\n",
      "Warning message in preProcess.default(thresh = 0.95, k = 5, freqCut = 19, uniqueCut = 10, :\n",
      "\"These variables have zero variances: cell_57\"\n",
      "Warning message in .local(x, ...):\n",
      "\"Variable(s) `' constant. Cannot scale data.\"\n",
      "Warning message:\n",
      "\"Setting row names on a tibble is deprecated.\"\n",
      "Warning message in preProcess.default(thresh = 0.95, k = 5, freqCut = 19, uniqueCut = 10, :\n",
      "\"These variables have zero variances: cell_57\"\n",
      "Warning message in .local(x, ...):\n",
      "\"Variable(s) `' constant. Cannot scale data.\"\n",
      "Warning message:\n",
      "\"Setting row names on a tibble is deprecated.\"\n",
      "Warning message in preProcess.default(thresh = 0.95, k = 5, freqCut = 19, uniqueCut = 10, :\n",
      "\"These variables have zero variances: cell_57\"\n",
      "Warning message in .local(x, ...):\n",
      "\"Variable(s) `' constant. Cannot scale data.\"\n",
      "Warning message:\n",
      "\"Setting row names on a tibble is deprecated.\"\n",
      "Warning message in preProcess.default(thresh = 0.95, k = 5, freqCut = 19, uniqueCut = 10, :\n",
      "\"These variables have zero variances: cell_57\"\n",
      "Warning message in .local(x, ...):\n",
      "\"Variable(s) `' constant. Cannot scale data.\"\n",
      "Warning message:\n",
      "\"Setting row names on a tibble is deprecated.\"\n",
      "Warning message in preProcess.default(thresh = 0.95, k = 5, freqCut = 19, uniqueCut = 10, :\n",
      "\"These variables have zero variances: cell_57\"\n",
      "Warning message in .local(x, ...):\n",
      "\"Variable(s) `' constant. Cannot scale data.\"\n",
      "Warning message:\n",
      "\"Setting row names on a tibble is deprecated.\"\n",
      "Warning message in preProcess.default(thresh = 0.95, k = 5, freqCut = 19, uniqueCut = 10, :\n",
      "\"These variables have zero variances: cell_57\"\n",
      "Warning message in .local(x, ...):\n",
      "\"Variable(s) `' constant. Cannot scale data.\"\n",
      "Warning message:\n",
      "\"Setting row names on a tibble is deprecated.\"\n",
      "Warning message in preProcess.default(thresh = 0.95, k = 5, freqCut = 19, uniqueCut = 10, :\n",
      "\"These variables have zero variances: cell_57\"\n",
      "Warning message in .local(x, ...):\n",
      "\"Variable(s) `' constant. Cannot scale data.\"\n"
     ]
    },
    {
     "name": "stderr",
     "output_type": "stream",
     "text": [
      "Warning message:\n",
      "\"Setting row names on a tibble is deprecated.\"\n",
      "Warning message in preProcess.default(thresh = 0.95, k = 5, freqCut = 19, uniqueCut = 10, :\n",
      "\"These variables have zero variances: cell_57\"\n",
      "Warning message in .local(x, ...):\n",
      "\"Variable(s) `' constant. Cannot scale data.\"\n",
      "Warning message:\n",
      "\"Setting row names on a tibble is deprecated.\"\n",
      "Warning message in preProcess.default(thresh = 0.95, k = 5, freqCut = 19, uniqueCut = 10, :\n",
      "\"These variables have zero variances: cell_57\"\n",
      "Warning message in .local(x, ...):\n",
      "\"Variable(s) `' constant. Cannot scale data.\"\n",
      "Warning message:\n",
      "\"Setting row names on a tibble is deprecated.\"\n",
      "Warning message in preProcess.default(thresh = 0.95, k = 5, freqCut = 19, uniqueCut = 10, :\n",
      "\"These variables have zero variances: cell_57\"\n",
      "Warning message in .local(x, ...):\n",
      "\"Variable(s) `' constant. Cannot scale data.\"\n",
      "Warning message:\n",
      "\"Setting row names on a tibble is deprecated.\"\n",
      "Warning message in preProcess.default(thresh = 0.95, k = 5, freqCut = 19, uniqueCut = 10, :\n",
      "\"These variables have zero variances: cell_57\"\n",
      "Warning message in .local(x, ...):\n",
      "\"Variable(s) `' constant. Cannot scale data.\"\n",
      "Warning message:\n",
      "\"Setting row names on a tibble is deprecated.\"\n",
      "Warning message in preProcess.default(thresh = 0.95, k = 5, freqCut = 19, uniqueCut = 10, :\n",
      "\"These variables have zero variances: cell_57\"\n",
      "Warning message in .local(x, ...):\n",
      "\"Variable(s) `' constant. Cannot scale data.\"\n",
      "Warning message:\n",
      "\"Setting row names on a tibble is deprecated.\"\n",
      "Warning message in preProcess.default(thresh = 0.95, k = 5, freqCut = 19, uniqueCut = 10, :\n",
      "\"These variables have zero variances: cell_57\"\n",
      "Warning message in .local(x, ...):\n",
      "\"Variable(s) `' constant. Cannot scale data.\"\n",
      "Warning message:\n",
      "\"Setting row names on a tibble is deprecated.\"\n",
      "Warning message in preProcess.default(thresh = 0.95, k = 5, freqCut = 19, uniqueCut = 10, :\n",
      "\"These variables have zero variances: cell_57\"\n",
      "Warning message in .local(x, ...):\n",
      "\"Variable(s) `' constant. Cannot scale data.\"\n",
      "Warning message:\n",
      "\"Setting row names on a tibble is deprecated.\"\n",
      "Warning message in preProcess.default(thresh = 0.95, k = 5, freqCut = 19, uniqueCut = 10, :\n",
      "\"These variables have zero variances: cell_57\"\n",
      "Warning message in .local(x, ...):\n",
      "\"Variable(s) `' constant. Cannot scale data.\"\n",
      "Warning message:\n",
      "\"Setting row names on a tibble is deprecated.\"\n",
      "Warning message in preProcess.default(thresh = 0.95, k = 5, freqCut = 19, uniqueCut = 10, :\n",
      "\"These variables have zero variances: cell_57\"\n",
      "Warning message in .local(x, ...):\n",
      "\"Variable(s) `' constant. Cannot scale data.\"\n",
      "Warning message:\n",
      "\"Setting row names on a tibble is deprecated.\"\n",
      "Warning message in preProcess.default(thresh = 0.95, k = 5, freqCut = 19, uniqueCut = 10, :\n",
      "\"These variables have zero variances: cell_57\"\n",
      "Warning message in .local(x, ...):\n",
      "\"Variable(s) `' constant. Cannot scale data.\"\n",
      "Warning message:\n",
      "\"Setting row names on a tibble is deprecated.\"\n",
      "Warning message in preProcess.default(thresh = 0.95, k = 5, freqCut = 19, uniqueCut = 10, :\n",
      "\"These variables have zero variances: cell_57\"\n",
      "Warning message in .local(x, ...):\n",
      "\"Variable(s) `' constant. Cannot scale data.\"\n",
      "Warning message:\n",
      "\"Setting row names on a tibble is deprecated.\"\n",
      "Warning message in preProcess.default(thresh = 0.95, k = 5, freqCut = 19, uniqueCut = 10, :\n",
      "\"These variables have zero variances: cell_57\"\n",
      "Warning message in .local(x, ...):\n",
      "\"Variable(s) `' constant. Cannot scale data.\"\n",
      "Warning message:\n",
      "\"Setting row names on a tibble is deprecated.\"\n",
      "Warning message in preProcess.default(thresh = 0.95, k = 5, freqCut = 19, uniqueCut = 10, :\n",
      "\"These variables have zero variances: cell_57\"\n",
      "Warning message in .local(x, ...):\n",
      "\"Variable(s) `' constant. Cannot scale data.\"\n",
      "Warning message:\n",
      "\"Setting row names on a tibble is deprecated.\"\n",
      "Warning message in preProcess.default(thresh = 0.95, k = 5, freqCut = 19, uniqueCut = 10, :\n",
      "\"These variables have zero variances: cell_57\"\n",
      "Warning message in .local(x, ...):\n",
      "\"Variable(s) `' constant. Cannot scale data.\"\n",
      "Warning message:\n",
      "\"Setting row names on a tibble is deprecated.\"\n",
      "Warning message in preProcess.default(thresh = 0.95, k = 5, freqCut = 19, uniqueCut = 10, :\n",
      "\"These variables have zero variances: cell_57\"\n",
      "Warning message in .local(x, ...):\n",
      "\"Variable(s) `' constant. Cannot scale data.\"\n",
      "Warning message:\n",
      "\"Setting row names on a tibble is deprecated.\"\n",
      "Warning message in preProcess.default(thresh = 0.95, k = 5, freqCut = 19, uniqueCut = 10, :\n",
      "\"These variables have zero variances: cell_57\"\n",
      "Warning message in .local(x, ...):\n",
      "\"Variable(s) `' constant. Cannot scale data.\"\n",
      "Warning message:\n",
      "\"Setting row names on a tibble is deprecated.\"\n",
      "Warning message in preProcess.default(thresh = 0.95, k = 5, freqCut = 19, uniqueCut = 10, :\n",
      "\"These variables have zero variances: cell_57\"\n",
      "Warning message in .local(x, ...):\n",
      "\"Variable(s) `' constant. Cannot scale data.\"\n",
      "Warning message:\n",
      "\"Setting row names on a tibble is deprecated.\"\n",
      "Warning message in preProcess.default(thresh = 0.95, k = 5, freqCut = 19, uniqueCut = 10, :\n",
      "\"These variables have zero variances: cell_57\"\n",
      "Warning message in .local(x, ...):\n",
      "\"Variable(s) `' constant. Cannot scale data.\"\n",
      "Warning message:\n",
      "\"Setting row names on a tibble is deprecated.\"\n",
      "Warning message in preProcess.default(thresh = 0.95, k = 5, freqCut = 19, uniqueCut = 10, :\n",
      "\"These variables have zero variances: cell_57\"\n",
      "Warning message in .local(x, ...):\n",
      "\"Variable(s) `' constant. Cannot scale data.\"\n",
      "Warning message:\n",
      "\"Setting row names on a tibble is deprecated.\"\n",
      "Warning message in preProcess.default(thresh = 0.95, k = 5, freqCut = 19, uniqueCut = 10, :\n",
      "\"These variables have zero variances: cell_57\"\n",
      "Warning message in .local(x, ...):\n",
      "\"Variable(s) `' constant. Cannot scale data.\"\n",
      "Warning message:\n",
      "\"Setting row names on a tibble is deprecated.\"\n",
      "Warning message in preProcess.default(thresh = 0.95, k = 5, freqCut = 19, uniqueCut = 10, :\n",
      "\"These variables have zero variances: cell_57\"\n",
      "Warning message in .local(x, ...):\n",
      "\"Variable(s) `' constant. Cannot scale data.\"\n",
      "Warning message:\n",
      "\"Setting row names on a tibble is deprecated.\"\n",
      "Warning message in preProcess.default(thresh = 0.95, k = 5, freqCut = 19, uniqueCut = 10, :\n",
      "\"These variables have zero variances: cell_57\"\n",
      "Warning message in .local(x, ...):\n",
      "\"Variable(s) `' constant. Cannot scale data.\"\n",
      "Warning message:\n",
      "\"Setting row names on a tibble is deprecated.\"\n",
      "Warning message in preProcess.default(thresh = 0.95, k = 5, freqCut = 19, uniqueCut = 10, :\n",
      "\"These variables have zero variances: cell_57\"\n",
      "Warning message in .local(x, ...):\n",
      "\"Variable(s) `' constant. Cannot scale data.\"\n",
      "Warning message:\n",
      "\"Setting row names on a tibble is deprecated.\"\n",
      "Warning message in preProcess.default(thresh = 0.95, k = 5, freqCut = 19, uniqueCut = 10, :\n",
      "\"These variables have zero variances: cell_57\"\n",
      "Warning message in .local(x, ...):\n",
      "\"Variable(s) `' constant. Cannot scale data.\"\n",
      "Warning message:\n",
      "\"Setting row names on a tibble is deprecated.\"\n",
      "Warning message in preProcess.default(thresh = 0.95, k = 5, freqCut = 19, uniqueCut = 10, :\n",
      "\"These variables have zero variances: cell_57\"\n",
      "Warning message in .local(x, ...):\n",
      "\"Variable(s) `' constant. Cannot scale data.\"\n",
      "Warning message:\n",
      "\"Setting row names on a tibble is deprecated.\"\n",
      "Warning message in preProcess.default(thresh = 0.95, k = 5, freqCut = 19, uniqueCut = 10, :\n",
      "\"These variables have zero variances: cell_57\"\n",
      "Warning message in .local(x, ...):\n",
      "\"Variable(s) `' constant. Cannot scale data.\"\n",
      "Warning message:\n",
      "\"Setting row names on a tibble is deprecated.\"\n",
      "Warning message in preProcess.default(thresh = 0.95, k = 5, freqCut = 19, uniqueCut = 10, :\n",
      "\"These variables have zero variances: cell_57\"\n",
      "Warning message in .local(x, ...):\n",
      "\"Variable(s) `' constant. Cannot scale data.\"\n",
      "Warning message:\n",
      "\"Setting row names on a tibble is deprecated.\"\n",
      "Warning message in preProcess.default(thresh = 0.95, k = 5, freqCut = 19, uniqueCut = 10, :\n",
      "\"These variables have zero variances: cell_57\"\n",
      "Warning message in .local(x, ...):\n",
      "\"Variable(s) `' constant. Cannot scale data.\"\n",
      "Warning message:\n",
      "\"Setting row names on a tibble is deprecated.\"\n",
      "Warning message in preProcess.default(thresh = 0.95, k = 5, freqCut = 19, uniqueCut = 10, :\n",
      "\"These variables have zero variances: cell_57\"\n",
      "Warning message in .local(x, ...):\n",
      "\"Variable(s) `' constant. Cannot scale data.\"\n"
     ]
    },
    {
     "name": "stderr",
     "output_type": "stream",
     "text": [
      "Warning message:\n",
      "\"Setting row names on a tibble is deprecated.\"\n",
      "Warning message in preProcess.default(thresh = 0.95, k = 5, freqCut = 19, uniqueCut = 10, :\n",
      "\"These variables have zero variances: cell_57\"\n",
      "Warning message in .local(x, ...):\n",
      "\"Variable(s) `' constant. Cannot scale data.\"\n",
      "Warning message:\n",
      "\"Setting row names on a tibble is deprecated.\"\n",
      "Warning message in preProcess.default(thresh = 0.95, k = 5, freqCut = 19, uniqueCut = 10, :\n",
      "\"These variables have zero variances: cell_57\"\n",
      "Warning message in .local(x, ...):\n",
      "\"Variable(s) `' constant. Cannot scale data.\"\n",
      "Warning message:\n",
      "\"Setting row names on a tibble is deprecated.\"\n",
      "Warning message in preProcess.default(thresh = 0.95, k = 5, freqCut = 19, uniqueCut = 10, :\n",
      "\"These variables have zero variances: cell_57\"\n",
      "Warning message in .local(x, ...):\n",
      "\"Variable(s) `' constant. Cannot scale data.\"\n",
      "Warning message:\n",
      "\"Setting row names on a tibble is deprecated.\"\n",
      "Warning message in preProcess.default(thresh = 0.95, k = 5, freqCut = 19, uniqueCut = 10, :\n",
      "\"These variables have zero variances: cell_57\"\n",
      "Warning message in .local(x, ...):\n",
      "\"Variable(s) `' constant. Cannot scale data.\"\n",
      "Warning message:\n",
      "\"Setting row names on a tibble is deprecated.\"\n",
      "Warning message in preProcess.default(thresh = 0.95, k = 5, freqCut = 19, uniqueCut = 10, :\n",
      "\"These variables have zero variances: cell_57\"\n",
      "Warning message in .local(x, ...):\n",
      "\"Variable(s) `' constant. Cannot scale data.\"\n",
      "Warning message:\n",
      "\"Setting row names on a tibble is deprecated.\"\n",
      "Warning message in preProcess.default(thresh = 0.95, k = 5, freqCut = 19, uniqueCut = 10, :\n",
      "\"These variables have zero variances: cell_57\"\n",
      "Warning message in .local(x, ...):\n",
      "\"Variable(s) `' constant. Cannot scale data.\"\n",
      "Warning message:\n",
      "\"Setting row names on a tibble is deprecated.\"\n",
      "Warning message in preProcess.default(thresh = 0.95, k = 5, freqCut = 19, uniqueCut = 10, :\n",
      "\"These variables have zero variances: cell_57\"\n",
      "Warning message in .local(x, ...):\n",
      "\"Variable(s) `' constant. Cannot scale data.\"\n",
      "Warning message:\n",
      "\"Setting row names on a tibble is deprecated.\"\n",
      "Warning message in preProcess.default(thresh = 0.95, k = 5, freqCut = 19, uniqueCut = 10, :\n",
      "\"These variables have zero variances: cell_57\"\n",
      "Warning message in .local(x, ...):\n",
      "\"Variable(s) `' constant. Cannot scale data.\"\n",
      "Warning message:\n",
      "\"Setting row names on a tibble is deprecated.\"\n",
      "Warning message in preProcess.default(thresh = 0.95, k = 5, freqCut = 19, uniqueCut = 10, :\n",
      "\"These variables have zero variances: cell_57\"\n",
      "Warning message in .local(x, ...):\n",
      "\"Variable(s) `' constant. Cannot scale data.\"\n",
      "Warning message:\n",
      "\"Setting row names on a tibble is deprecated.\"\n",
      "Warning message in preProcess.default(thresh = 0.95, k = 5, freqCut = 19, uniqueCut = 10, :\n",
      "\"These variables have zero variances: cell_57\"\n",
      "Warning message in .local(x, ...):\n",
      "\"Variable(s) `' constant. Cannot scale data.\"\n",
      "Warning message:\n",
      "\"Setting row names on a tibble is deprecated.\"\n",
      "Warning message in preProcess.default(thresh = 0.95, k = 5, freqCut = 19, uniqueCut = 10, :\n",
      "\"These variables have zero variances: cell_57\"\n",
      "Warning message in .local(x, ...):\n",
      "\"Variable(s) `' constant. Cannot scale data.\"\n",
      "Warning message:\n",
      "\"Setting row names on a tibble is deprecated.\"\n",
      "Warning message in preProcess.default(thresh = 0.95, k = 5, freqCut = 19, uniqueCut = 10, :\n",
      "\"These variables have zero variances: cell_57\"\n",
      "Warning message in .local(x, ...):\n",
      "\"Variable(s) `' constant. Cannot scale data.\"\n",
      "Warning message:\n",
      "\"Setting row names on a tibble is deprecated.\"\n",
      "Warning message in preProcess.default(thresh = 0.95, k = 5, freqCut = 19, uniqueCut = 10, :\n",
      "\"These variables have zero variances: cell_57\"\n",
      "Warning message in .local(x, ...):\n",
      "\"Variable(s) `' constant. Cannot scale data.\"\n",
      "Warning message:\n",
      "\"Setting row names on a tibble is deprecated.\"\n",
      "Warning message in preProcess.default(thresh = 0.95, k = 5, freqCut = 19, uniqueCut = 10, :\n",
      "\"These variables have zero variances: cell_57\"\n",
      "Warning message in .local(x, ...):\n",
      "\"Variable(s) `' constant. Cannot scale data.\"\n",
      "Warning message:\n",
      "\"Setting row names on a tibble is deprecated.\"\n",
      "Warning message in preProcess.default(thresh = 0.95, k = 5, freqCut = 19, uniqueCut = 10, :\n",
      "\"These variables have zero variances: cell_57\"\n",
      "Warning message in .local(x, ...):\n",
      "\"Variable(s) `' constant. Cannot scale data.\"\n",
      "Warning message:\n",
      "\"Setting row names on a tibble is deprecated.\"\n",
      "Warning message in preProcess.default(thresh = 0.95, k = 5, freqCut = 19, uniqueCut = 10, :\n",
      "\"These variables have zero variances: cell_57\"\n",
      "Warning message in .local(x, ...):\n",
      "\"Variable(s) `' constant. Cannot scale data.\"\n",
      "Warning message:\n",
      "\"Setting row names on a tibble is deprecated.\"\n",
      "Warning message in preProcess.default(thresh = 0.95, k = 5, freqCut = 19, uniqueCut = 10, :\n",
      "\"These variables have zero variances: cell_57\"\n",
      "Warning message in .local(x, ...):\n",
      "\"Variable(s) `' constant. Cannot scale data.\"\n",
      "Warning message:\n",
      "\"Setting row names on a tibble is deprecated.\"\n",
      "Warning message in preProcess.default(thresh = 0.95, k = 5, freqCut = 19, uniqueCut = 10, :\n",
      "\"These variables have zero variances: cell_57\"\n",
      "Warning message in .local(x, ...):\n",
      "\"Variable(s) `' constant. Cannot scale data.\"\n",
      "Warning message:\n",
      "\"Setting row names on a tibble is deprecated.\"\n",
      "Warning message in preProcess.default(thresh = 0.95, k = 5, freqCut = 19, uniqueCut = 10, :\n",
      "\"These variables have zero variances: cell_57\"\n",
      "Warning message in .local(x, ...):\n",
      "\"Variable(s) `' constant. Cannot scale data.\"\n",
      "Warning message:\n",
      "\"Setting row names on a tibble is deprecated.\"\n",
      "Warning message in preProcess.default(thresh = 0.95, k = 5, freqCut = 19, uniqueCut = 10, :\n",
      "\"These variables have zero variances: cell_57\"\n",
      "Warning message in .local(x, ...):\n",
      "\"Variable(s) `' constant. Cannot scale data.\"\n",
      "Warning message:\n",
      "\"Setting row names on a tibble is deprecated.\"\n",
      "Warning message in preProcess.default(thresh = 0.95, k = 5, freqCut = 19, uniqueCut = 10, :\n",
      "\"These variables have zero variances: cell_57\"\n",
      "Warning message in .local(x, ...):\n",
      "\"Variable(s) `' constant. Cannot scale data.\"\n",
      "Warning message:\n",
      "\"Setting row names on a tibble is deprecated.\"\n",
      "Warning message in preProcess.default(thresh = 0.95, k = 5, freqCut = 19, uniqueCut = 10, :\n",
      "\"These variables have zero variances: cell_57\"\n",
      "Warning message in .local(x, ...):\n",
      "\"Variable(s) `' constant. Cannot scale data.\"\n",
      "Warning message:\n",
      "\"Setting row names on a tibble is deprecated.\"\n",
      "Warning message in preProcess.default(thresh = 0.95, k = 5, freqCut = 19, uniqueCut = 10, :\n",
      "\"These variables have zero variances: cell_57\"\n",
      "Warning message in .local(x, ...):\n",
      "\"Variable(s) `' constant. Cannot scale data.\"\n",
      "Warning message:\n",
      "\"Setting row names on a tibble is deprecated.\"\n",
      "Warning message in preProcess.default(thresh = 0.95, k = 5, freqCut = 19, uniqueCut = 10, :\n",
      "\"These variables have zero variances: cell_57\"\n",
      "Warning message in .local(x, ...):\n",
      "\"Variable(s) `' constant. Cannot scale data.\"\n",
      "Warning message:\n",
      "\"Setting row names on a tibble is deprecated.\"\n",
      "Warning message in preProcess.default(thresh = 0.95, k = 5, freqCut = 19, uniqueCut = 10, :\n",
      "\"These variables have zero variances: cell_57\"\n",
      "Warning message in .local(x, ...):\n",
      "\"Variable(s) `' constant. Cannot scale data.\"\n",
      "Warning message:\n",
      "\"Setting row names on a tibble is deprecated.\"\n",
      "Warning message in preProcess.default(thresh = 0.95, k = 5, freqCut = 19, uniqueCut = 10, :\n",
      "\"These variables have zero variances: cell_57\"\n",
      "Warning message in .local(x, ...):\n",
      "\"Variable(s) `' constant. Cannot scale data.\"\n",
      "Warning message:\n",
      "\"Setting row names on a tibble is deprecated.\"\n",
      "Warning message in preProcess.default(thresh = 0.95, k = 5, freqCut = 19, uniqueCut = 10, :\n",
      "\"These variables have zero variances: cell_57\"\n",
      "Warning message in .local(x, ...):\n",
      "\"Variable(s) `' constant. Cannot scale data.\"\n",
      "Warning message:\n",
      "\"Setting row names on a tibble is deprecated.\"\n",
      "Warning message in preProcess.default(thresh = 0.95, k = 5, freqCut = 19, uniqueCut = 10, :\n",
      "\"These variables have zero variances: cell_57\"\n",
      "Warning message in .local(x, ...):\n",
      "\"Variable(s) `' constant. Cannot scale data.\"\n",
      "Warning message:\n",
      "\"Setting row names on a tibble is deprecated.\"\n",
      "Warning message in preProcess.default(thresh = 0.95, k = 5, freqCut = 19, uniqueCut = 10, :\n",
      "\"These variables have zero variances: cell_57\"\n",
      "Warning message in .local(x, ...):\n",
      "\"Variable(s) `' constant. Cannot scale data.\"\n"
     ]
    },
    {
     "name": "stderr",
     "output_type": "stream",
     "text": [
      "Warning message:\n",
      "\"Setting row names on a tibble is deprecated.\"\n",
      "Warning message in preProcess.default(thresh = 0.95, k = 5, freqCut = 19, uniqueCut = 10, :\n",
      "\"These variables have zero variances: cell_57\"\n",
      "Warning message in .local(x, ...):\n",
      "\"Variable(s) `' constant. Cannot scale data.\"\n",
      "Warning message:\n",
      "\"Setting row names on a tibble is deprecated.\"\n",
      "Warning message in preProcess.default(thresh = 0.95, k = 5, freqCut = 19, uniqueCut = 10, :\n",
      "\"These variables have zero variances: cell_57\"\n",
      "Warning message in .local(x, ...):\n",
      "\"Variable(s) `' constant. Cannot scale data.\"\n",
      "Warning message:\n",
      "\"Setting row names on a tibble is deprecated.\"\n",
      "Warning message in preProcess.default(thresh = 0.95, k = 5, freqCut = 19, uniqueCut = 10, :\n",
      "\"These variables have zero variances: cell_57\"\n",
      "Warning message in .local(x, ...):\n",
      "\"Variable(s) `' constant. Cannot scale data.\"\n",
      "Warning message:\n",
      "\"Setting row names on a tibble is deprecated.\"\n",
      "Warning message in preProcess.default(thresh = 0.95, k = 5, freqCut = 19, uniqueCut = 10, :\n",
      "\"These variables have zero variances: cell_57\"\n",
      "Warning message in .local(x, ...):\n",
      "\"Variable(s) `' constant. Cannot scale data.\"\n",
      "Warning message:\n",
      "\"Setting row names on a tibble is deprecated.\"\n",
      "Warning message in preProcess.default(thresh = 0.95, k = 5, freqCut = 19, uniqueCut = 10, :\n",
      "\"These variables have zero variances: cell_57\"\n",
      "Warning message in .local(x, ...):\n",
      "\"Variable(s) `' constant. Cannot scale data.\"\n",
      "Warning message:\n",
      "\"Setting row names on a tibble is deprecated.\"\n",
      "Warning message in preProcess.default(thresh = 0.95, k = 5, freqCut = 19, uniqueCut = 10, :\n",
      "\"These variables have zero variances: cell_57\"\n",
      "Warning message in .local(x, ...):\n",
      "\"Variable(s) `' constant. Cannot scale data.\"\n",
      "Warning message:\n",
      "\"Setting row names on a tibble is deprecated.\"\n",
      "Warning message in preProcess.default(thresh = 0.95, k = 5, freqCut = 19, uniqueCut = 10, :\n",
      "\"These variables have zero variances: cell_57\"\n",
      "Warning message in .local(x, ...):\n",
      "\"Variable(s) `' constant. Cannot scale data.\"\n",
      "Warning message:\n",
      "\"Setting row names on a tibble is deprecated.\"\n",
      "Warning message in preProcess.default(thresh = 0.95, k = 5, freqCut = 19, uniqueCut = 10, :\n",
      "\"These variables have zero variances: cell_57\"\n",
      "Warning message in .local(x, ...):\n",
      "\"Variable(s) `' constant. Cannot scale data.\"\n",
      "Warning message:\n",
      "\"Setting row names on a tibble is deprecated.\"\n",
      "Warning message in preProcess.default(thresh = 0.95, k = 5, freqCut = 19, uniqueCut = 10, :\n",
      "\"These variables have zero variances: cell_57\"\n",
      "Warning message in .local(x, ...):\n",
      "\"Variable(s) `' constant. Cannot scale data.\"\n"
     ]
    },
    {
     "name": "stdout",
     "output_type": "stream",
     "text": [
      "maximum number of iterations reached 5.217364e-05 4.578922e-05"
     ]
    },
    {
     "name": "stderr",
     "output_type": "stream",
     "text": [
      "Warning message:\n",
      "\"Setting row names on a tibble is deprecated.\"\n",
      "Warning message in preProcess.default(thresh = 0.95, k = 5, freqCut = 19, uniqueCut = 10, :\n",
      "\"These variables have zero variances: cell_57\"\n",
      "Warning message in .local(x, ...):\n",
      "\"Variable(s) `' constant. Cannot scale data.\"\n"
     ]
    },
    {
     "name": "stdout",
     "output_type": "stream",
     "text": [
      "maximum number of iterations reached 4.579916e-05 4.096222e-05"
     ]
    },
    {
     "name": "stderr",
     "output_type": "stream",
     "text": [
      "Warning message:\n",
      "\"Setting row names on a tibble is deprecated.\"\n",
      "Warning message in preProcess.default(thresh = 0.95, k = 5, freqCut = 19, uniqueCut = 10, :\n",
      "\"These variables have zero variances: cell_57\"\n",
      "Warning message in .local(x, ...):\n",
      "\"Variable(s) `' constant. Cannot scale data.\"\n"
     ]
    },
    {
     "name": "stdout",
     "output_type": "stream",
     "text": [
      "maximum number of iterations reached 5.797611e-05 5.189412e-05"
     ]
    },
    {
     "name": "stderr",
     "output_type": "stream",
     "text": [
      "Warning message:\n",
      "\"Setting row names on a tibble is deprecated.\"\n",
      "Warning message in preProcess.default(thresh = 0.95, k = 5, freqCut = 19, uniqueCut = 10, :\n",
      "\"These variables have zero variances: cell_57\"\n",
      "Warning message in .local(x, ...):\n",
      "\"Variable(s) `' constant. Cannot scale data.\"\n"
     ]
    },
    {
     "name": "stdout",
     "output_type": "stream",
     "text": [
      "maximum number of iterations reached 9.864645e-06 8.580709e-06maximum number of iterations reached 0.00029271 0.0002624512"
     ]
    },
    {
     "name": "stderr",
     "output_type": "stream",
     "text": [
      "Warning message:\n",
      "\"Setting row names on a tibble is deprecated.\"\n",
      "Warning message in preProcess.default(thresh = 0.95, k = 5, freqCut = 19, uniqueCut = 10, :\n",
      "\"These variables have zero variances: cell_57\"\n",
      "Warning message in .local(x, ...):\n",
      "\"Variable(s) `' constant. Cannot scale data.\"\n"
     ]
    },
    {
     "name": "stdout",
     "output_type": "stream",
     "text": [
      "maximum number of iterations reached 6.912436e-05 6.025301e-05maximum number of iterations reached 7.020128e-05 -6.204425e-05"
     ]
    },
    {
     "name": "stderr",
     "output_type": "stream",
     "text": [
      "Warning message:\n",
      "\"Setting row names on a tibble is deprecated.\"\n",
      "Warning message in preProcess.default(thresh = 0.95, k = 5, freqCut = 19, uniqueCut = 10, :\n",
      "\"These variables have zero variances: cell_57\"\n",
      "Warning message in .local(x, ...):\n",
      "\"Variable(s) `' constant. Cannot scale data.\"\n",
      "Warning message:\n",
      "\"Setting row names on a tibble is deprecated.\"\n",
      "Warning message in preProcess.default(thresh = 0.95, k = 5, freqCut = 19, uniqueCut = 10, :\n",
      "\"These variables have zero variances: cell_57\"\n",
      "Warning message in .local(x, ...):\n",
      "\"Variable(s) `' constant. Cannot scale data.\"\n"
     ]
    },
    {
     "name": "stdout",
     "output_type": "stream",
     "text": [
      "maximum number of iterations reached 0.0001413411 0.0001269592"
     ]
    },
    {
     "name": "stderr",
     "output_type": "stream",
     "text": [
      "Warning message:\n",
      "\"Setting row names on a tibble is deprecated.\"\n",
      "Warning message in preProcess.default(thresh = 0.95, k = 5, freqCut = 19, uniqueCut = 10, :\n",
      "\"These variables have zero variances: cell_57\"\n",
      "Warning message in .local(x, ...):\n",
      "\"Variable(s) `' constant. Cannot scale data.\"\n"
     ]
    },
    {
     "name": "stdout",
     "output_type": "stream",
     "text": [
      "maximum number of iterations reached 0.001120136 0.001008153"
     ]
    },
    {
     "name": "stderr",
     "output_type": "stream",
     "text": [
      "Warning message:\n",
      "\"Setting row names on a tibble is deprecated.\"\n",
      "Warning message in preProcess.default(thresh = 0.95, k = 5, freqCut = 19, uniqueCut = 10, :\n",
      "\"These variables have zero variances: cell_57\"\n",
      "Warning message in .local(x, ...):\n",
      "\"Variable(s) `' constant. Cannot scale data.\"\n"
     ]
    },
    {
     "name": "stdout",
     "output_type": "stream",
     "text": [
      "maximum number of iterations reached 0.0003755002 0.0003372077maximum number of iterations reached 0.001154414 0.001037078"
     ]
    },
    {
     "name": "stderr",
     "output_type": "stream",
     "text": [
      "Warning message:\n",
      "\"Setting row names on a tibble is deprecated.\"\n",
      "Warning message in preProcess.default(thresh = 0.95, k = 5, freqCut = 19, uniqueCut = 10, :\n",
      "\"These variables have zero variances: cell_57\"\n",
      "Warning message in .local(x, ...):\n",
      "\"Variable(s) `' constant. Cannot scale data.\"\n"
     ]
    },
    {
     "name": "stdout",
     "output_type": "stream",
     "text": [
      "maximum number of iterations reached 0.0003852588 0.0003451456maximum number of iterations reached 2.399405e-05 2.130818e-05maximum number of iterations reached 0.002382283 0.002145129maximum number of iterations reached 2.201732e-05 1.953178e-05"
     ]
    },
    {
     "name": "stderr",
     "output_type": "stream",
     "text": [
      "Warning message:\n",
      "\"Setting row names on a tibble is deprecated.\"\n",
      "Warning message in preProcess.default(thresh = 0.95, k = 5, freqCut = 19, uniqueCut = 10, :\n",
      "\"These variables have zero variances: cell_57\"\n",
      "Warning message in .local(x, ...):\n",
      "\"Variable(s) `' constant. Cannot scale data.\"\n"
     ]
    },
    {
     "name": "stdout",
     "output_type": "stream",
     "text": [
      "maximum number of iterations reached 9.008109e-05 8.088736e-05maximum number of iterations reached 3.43037e-05 3.051888e-05maximum number of iterations reached 0.003871737 0.003489671maximum number of iterations reached 9.959706e-05 -7.434535e-07"
     ]
    },
    {
     "name": "stderr",
     "output_type": "stream",
     "text": [
      "Warning message:\n",
      "\"Setting row names on a tibble is deprecated.\"\n",
      "Warning message in preProcess.default(thresh = 0.95, k = 5, freqCut = 19, uniqueCut = 10, :\n",
      "\"These variables have zero variances: cell_57\"\n",
      "Warning message in .local(x, ...):\n",
      "\"Variable(s) `' constant. Cannot scale data.\"\n"
     ]
    },
    {
     "name": "stdout",
     "output_type": "stream",
     "text": [
      "maximum number of iterations reached 3.031956e-05 2.702211e-05maximum number of iterations reached 6.574218e-05 6.877555e-08maximum number of iterations reached 3.80344e-05 3.387999e-05maximum number of iterations reached 0.0002000141 -1.304392e-06maximum number of iterations reached 0.001766855 0.00159809maximum number of iterations reached 0.0008156201 0.0007305673maximum number of iterations reached 1.248646e-05 -1.016804e-07"
     ]
    },
    {
     "name": "stderr",
     "output_type": "stream",
     "text": [
      "Warning message:\n",
      "\"Setting row names on a tibble is deprecated.\"\n",
      "Warning message in preProcess.default(thresh = 0.95, k = 5, freqCut = 19, uniqueCut = 10, :\n",
      "\"These variables have zero variances: cell_57\"\n",
      "Warning message in .local(x, ...):\n",
      "\"Variable(s) `' constant. Cannot scale data.\"\n"
     ]
    },
    {
     "name": "stdout",
     "output_type": "stream",
     "text": [
      "maximum number of iterations reached 1.140035e-05 1.016893e-05maximum number of iterations reached 0.003947413 0.003570885maximum number of iterations reached 4.738995e-05 -2.423457e-07maximum number of iterations reached 0.000839013 0.0007571338maximum number of iterations reached 9.929939e-06 8.85166e-06"
     ]
    },
    {
     "name": "stderr",
     "output_type": "stream",
     "text": [
      "Warning message:\n",
      "\"Setting row names on a tibble is deprecated.\"\n",
      "Warning message in preProcess.default(thresh = 0.95, k = 5, freqCut = 19, uniqueCut = 10, :\n",
      "\"These variables have zero variances: cell_57\"\n",
      "Warning message in .local(x, ...):\n",
      "\"Variable(s) `' constant. Cannot scale data.\"\n"
     ]
    },
    {
     "name": "stdout",
     "output_type": "stream",
     "text": [
      "maximum number of iterations reached 2.280093e-05 1.935331e-05maximum number of iterations reached 0.002818777 0.002537471maximum number of iterations reached 0.0001229172 0.0001097981maximum number of iterations reached 0.0008968763 0.0008055664maximum number of iterations reached 0.002305985 0.002083658maximum number of iterations reached 0.0001580219 -0.0001418227"
     ]
    },
    {
     "name": "stderr",
     "output_type": "stream",
     "text": [
      "Warning message:\n",
      "\"Setting row names on a tibble is deprecated.\"\n",
      "Warning message in preProcess.default(thresh = 0.95, k = 5, freqCut = 19, uniqueCut = 10, :\n",
      "\"These variables have zero variances: cell_57\"\n",
      "Warning message in .local(x, ...):\n",
      "\"Variable(s) `' constant. Cannot scale data.\"\n"
     ]
    },
    {
     "name": "stdout",
     "output_type": "stream",
     "text": [
      "maximum number of iterations reached 9.460153e-05 -8.460589e-05maximum number of iterations reached 0.002629135 0.002365503maximum number of iterations reached 1.286811e-05 3.398216e-07maximum number of iterations reached 0.0001007307 9.090986e-05maximum number of iterations reached 0.0002697896 0.0002417474maximum number of iterations reached 0.0004223577 -3.703834e-06maximum number of iterations reached 0.0005257966 -0.0004739758"
     ]
    },
    {
     "name": "stderr",
     "output_type": "stream",
     "text": [
      "Warning message:\n",
      "\"Setting row names on a tibble is deprecated.\"\n",
      "Warning message in preProcess.default(thresh = 0.95, k = 5, freqCut = 19, uniqueCut = 10, :\n",
      "\"These variables have zero variances: cell_57\"\n",
      "Warning message in .local(x, ...):\n",
      "\"Variable(s) `' constant. Cannot scale data.\"\n"
     ]
    },
    {
     "name": "stdout",
     "output_type": "stream",
     "text": [
      "maximum number of iterations reached 0.005572516 0.005048201maximum number of iterations reached 0.001081976 0.000970901maximum number of iterations reached 0.001454373 0.001309248maximum number of iterations reached 0.0004321618 -1.30816e-06maximum number of iterations reached 0.0004718476 0.0004263252maximum number of iterations reached 0.0002643798 0.0002369488maximum number of iterations reached 0.005357221 -0.004809375"
     ]
    },
    {
     "name": "stderr",
     "output_type": "stream",
     "text": [
      "Warning message:\n",
      "\"Setting row names on a tibble is deprecated.\"\n",
      "Warning message in preProcess.default(thresh = 0.95, k = 5, freqCut = 19, uniqueCut = 10, :\n",
      "\"These variables have zero variances: cell_57\"\n",
      "Warning message in .local(x, ...):\n",
      "\"Variable(s) `' constant. Cannot scale data.\"\n"
     ]
    },
    {
     "name": "stdout",
     "output_type": "stream",
     "text": [
      "maximum number of iterations reached 7.255339e-05 6.51728e-05maximum number of iterations reached 3.892722e-05 3.489968e-05maximum number of iterations reached 0.005072861 0.004558735maximum number of iterations reached 3.830815e-05 3.434842e-05maximum number of iterations reached 0.0001660648 -2.855814e-08maximum number of iterations reached 9.51177e-05 8.587223e-05maximum number of iterations reached 0.0005023159 -0.0004526538"
     ]
    },
    {
     "name": "stderr",
     "output_type": "stream",
     "text": [
      "Warning message:\n",
      "\"Setting row names on a tibble is deprecated.\"\n",
      "Warning message in preProcess.default(thresh = 0.95, k = 5, freqCut = 19, uniqueCut = 10, :\n",
      "\"These variables have zero variances: cell_57\"\n",
      "Warning message in .local(x, ...):\n",
      "\"Variable(s) `' constant. Cannot scale data.\"\n"
     ]
    },
    {
     "name": "stdout",
     "output_type": "stream",
     "text": [
      "maximum number of iterations reached 0.001096192 0.0009911301maximum number of iterations reached 0.0004588247 0.000413168maximum number of iterations reached 0.001774731 0.001601889maximum number of iterations reached 0.0001106122 9.93571e-05maximum number of iterations reached 0.001145868 0.001040278maximum number of iterations reached 0.003862573 0.00344989maximum number of iterations reached 0.001298885 -0.00117314"
     ]
    },
    {
     "name": "stderr",
     "output_type": "stream",
     "text": [
      "Warning message:\n",
      "\"Setting row names on a tibble is deprecated.\"\n",
      "Warning message in preProcess.default(thresh = 0.95, k = 5, freqCut = 19, uniqueCut = 10, :\n",
      "\"These variables have zero variances: cell_57\"\n",
      "Warning message in .local(x, ...):\n",
      "\"Variable(s) `' constant. Cannot scale data.\"\n"
     ]
    },
    {
     "name": "stdout",
     "output_type": "stream",
     "text": [
      "maximum number of iterations reached 2.446451e-05 -2.196123e-05maximum number of iterations reached 0.0005743223 0.0005173089maximum number of iterations reached 0.0001032377 9.277305e-05maximum number of iterations reached 0.001163478 0.001042776maximum number of iterations reached 0.0006294346 0.0005630959maximum number of iterations reached 0.000118748 4.112025e-07maximum number of iterations reached 0.0002320798 -6.733925e-07maximum number of iterations reached 0.00265811 0.002415184maximum number of iterations reached 0.003855658 0.003453761maximum number of iterations reached 0.003843156 -0.003461019"
     ]
    },
    {
     "name": "stderr",
     "output_type": "stream",
     "text": [
      "Warning message:\n",
      "\"Setting row names on a tibble is deprecated.\"\n",
      "Warning message in preProcess.default(thresh = 0.95, k = 5, freqCut = 19, uniqueCut = 10, :\n",
      "\"These variables have zero variances: cell_57\"\n",
      "Warning message in .local(x, ...):\n",
      "\"Variable(s) `' constant. Cannot scale data.\"\n"
     ]
    },
    {
     "name": "stdout",
     "output_type": "stream",
     "text": [
      "maximum number of iterations reached 0.004431716 0.003982548maximum number of iterations reached 0.000580675 0.0005224698maximum number of iterations reached 0.0001789245 0.0001608454maximum number of iterations reached 0.002529077 0.002269329maximum number of iterations reached 0.003909249 0.003484168maximum number of iterations reached 0.00114532 0.001039203maximum number of iterations reached 4.292686e-05 3.81478e-05maximum number of iterations reached 2.819753e-05 2.534914e-05maximum number of iterations reached 0.003900275 -0.003497547"
     ]
    },
    {
     "name": "stderr",
     "output_type": "stream",
     "text": [
      "Warning message:\n",
      "\"Setting row names on a tibble is deprecated.\"\n",
      "Warning message in preProcess.default(thresh = 0.95, k = 5, freqCut = 19, uniqueCut = 10, :\n",
      "\"These variables have zero variances: cell_57\"\n",
      "Warning message in .local(x, ...):\n",
      "\"Variable(s) `' constant. Cannot scale data.\"\n"
     ]
    },
    {
     "name": "stdout",
     "output_type": "stream",
     "text": [
      "maximum number of iterations reached 0.0008049842 -0.0007220112maximum number of iterations reached 2.636962e-05 -2.376096e-05maximum number of iterations reached 0.005997464 0.005405639maximum number of iterations reached 0.00275013 0.00245833maximum number of iterations reached 0.0001681878 0.0001509844maximum number of iterations reached 0.0001100365 9.917683e-05maximum number of iterations reached 0.003690972 0.003317763maximum number of iterations reached 0.002344624 0.002123469maximum number of iterations reached 0.0006510983 0.000578376maximum number of iterations reached 4.244084e-05 -6.730939e-07maximum number of iterations reached 0.001290775 0.001160477maximum number of iterations reached 0.00511727 -0.004635522"
     ]
    },
    {
     "name": "stderr",
     "output_type": "stream",
     "text": [
      "Warning message:\n",
      "\"Setting row names on a tibble is deprecated.\"\n",
      "Warning message in preProcess.default(thresh = 0.95, k = 5, freqCut = 19, uniqueCut = 10, :\n",
      "\"These variables have zero variances: cell_57\"\n",
      "Warning message in .local(x, ...):\n",
      "\"Variable(s) `' constant. Cannot scale data.\"\n"
     ]
    },
    {
     "name": "stdout",
     "output_type": "stream",
     "text": [
      "maximum number of iterations reached 0.0008849298 -0.0007975366maximum number of iterations reached 0.000465641 -0.0004181485maximum number of iterations reached 0.004110972 0.003694463maximum number of iterations reached 0.000541053 0.0004874812maximum number of iterations reached 0.000544852 0.0004903637maximum number of iterations reached 0.004250096 0.003803862maximum number of iterations reached 0.001089092 0.0009751749maximum number of iterations reached 0.0001656042 0.00014905maximum number of iterations reached 0.002767915 0.002498744maximum number of iterations reached 2.93086e-05 2.634476e-05maximum number of iterations reached 0.006731478 -0.006062523"
     ]
    },
    {
     "name": "stderr",
     "output_type": "stream",
     "text": [
      "Warning message:\n",
      "\"Setting row names on a tibble is deprecated.\"\n",
      "Warning message in preProcess.default(thresh = 0.95, k = 5, freqCut = 19, uniqueCut = 10, :\n",
      "\"These variables have zero variances: cell_57\"\n",
      "Warning message in .local(x, ...):\n",
      "\"Variable(s) `' constant. Cannot scale data.\"\n"
     ]
    },
    {
     "name": "stdout",
     "output_type": "stream",
     "text": [
      "maximum number of iterations reached 0.0003478285 -0.0003124956maximum number of iterations reached 0.0001705886 -0.0001536058maximum number of iterations reached 0.002413067 0.002166685maximum number of iterations reached 1.919561e-05 1.726008e-05maximum number of iterations reached 7.941436e-05 7.141175e-05maximum number of iterations reached 0.004399869 0.003942841maximum number of iterations reached 0.002279241 0.00205262maximum number of iterations reached 0.00101379 0.0009134989maximum number of iterations reached 0.0001154151 0.0001038323maximum number of iterations reached 0.001846504 0.001673677maximum number of iterations reached 2.858915e-05 -2.320773e-07maximum number of iterations reached 0.004452359 0.003962336maximum number of iterations reached 0.005130628 -0.004618422"
     ]
    },
    {
     "name": "stderr",
     "output_type": "stream",
     "text": [
      "Warning message:\n",
      "\"Setting row names on a tibble is deprecated.\"\n",
      "Warning message in preProcess.default(thresh = 0.95, k = 5, freqCut = 19, uniqueCut = 10, :\n",
      "\"These variables have zero variances: cell_57\"\n",
      "Warning message in .local(x, ...):\n",
      "\"Variable(s) `' constant. Cannot scale data.\"\n"
     ]
    },
    {
     "name": "stdout",
     "output_type": "stream",
     "text": [
      "maximum number of iterations reached 0.0009252803 -0.0008332092maximum number of iterations reached 4.021567e-05 -3.625713e-05maximum number of iterations reached 0.002100649 0.00187513maximum number of iterations reached 0.004411054 0.004012465maximum number of iterations reached 0.002164489 0.001951497maximum number of iterations reached 0.004367428 0.003922259maximum number of iterations reached 0.0005083983 0.0004577185maximum number of iterations reached 0.001426756 0.001285844maximum number of iterations reached 0.000285853 3.711074e-07maximum number of iterations reached 0.001543538 0.001385322maximum number of iterations reached 0.002126918 0.001924228maximum number of iterations reached 0.002912213 0.002568917maximum number of iterations reached 0.005659271 0.005049134maximum number of iterations reached 0.006959482 -0.00622578"
     ]
    },
    {
     "name": "stderr",
     "output_type": "stream",
     "text": [
      "Warning message:\n",
      "\"Setting row names on a tibble is deprecated.\"\n",
      "Warning message in preProcess.default(thresh = 0.95, k = 5, freqCut = 19, uniqueCut = 10, :\n",
      "\"These variables have zero variances: cell_57\"\n",
      "Warning message in .local(x, ...):\n",
      "\"Variable(s) `' constant. Cannot scale data.\"\n"
     ]
    },
    {
     "name": "stdout",
     "output_type": "stream",
     "text": [
      "maximum number of iterations reached 0.002961105 -0.002677899maximum number of iterations reached 0.003657311 0.003198985maximum number of iterations reached 7.987796e-05 -7.196502e-05maximum number of iterations reached 0.0005786978 0.0005191441maximum number of iterations reached 0.002923698 0.002626892maximum number of iterations reached 0.0004447965 0.000399962maximum number of iterations reached 0.002511776 0.002257568maximum number of iterations reached 0.0006225942 0.0005619414maximum number of iterations reached 0.005980783 0.005374948maximum number of iterations reached 0.000947169 0.000845034maximum number of iterations reached 0.001147397 0.001039736maximum number of iterations reached 0.0009331826 0.0008337334maximum number of iterations reached 0.004873919 0.004342826maximum number of iterations reached 0.001223444 -2.333058e-06maximum number of iterations reached 0.006645264 -0.005917921"
     ]
    },
    {
     "name": "stderr",
     "output_type": "stream",
     "text": [
      "Warning message:\n",
      "\"Setting row names on a tibble is deprecated.\"\n",
      "Warning message in preProcess.default(thresh = 0.95, k = 5, freqCut = 19, uniqueCut = 10, :\n",
      "\"These variables have zero variances: cell_57\"\n",
      "Warning message in .local(x, ...):\n",
      "\"Variable(s) `' constant. Cannot scale data.\"\n"
     ]
    },
    {
     "name": "stdout",
     "output_type": "stream",
     "text": [
      "maximum number of iterations reached 0.001206897 -0.001083489maximum number of iterations reached 0.000601387 0.0005357669maximum number of iterations reached 4.729716e-05 -4.264231e-05maximum number of iterations reached 0.001647038 0.001472185maximum number of iterations reached 0.002595741 0.002334566maximum number of iterations reached 0.003878847 0.003543466maximum number of iterations reached 0.002195387 0.00197432maximum number of iterations reached 0.0009887628 0.0008835691maximum number of iterations reached 0.0003007376 0.0002708549maximum number of iterations reached 0.001856844 -5.29263e-07maximum number of iterations reached 0.005110405 0.004528863maximum number of iterations reached 0.002680796 0.002443781maximum number of iterations reached 0.003035635 0.002679416maximum number of iterations reached 0.001452572 -1.629377e-05maximum number of iterations reached 0.006603339 0.005817918maximum number of iterations reached 0.007701423 -0.006872915"
     ]
    },
    {
     "name": "stderr",
     "output_type": "stream",
     "text": [
      "Warning message:\n",
      "\"Setting row names on a tibble is deprecated.\"\n",
      "Warning message in preProcess.default(thresh = 0.95, k = 5, freqCut = 19, uniqueCut = 10, :\n",
      "\"These variables have zero variances: cell_57\"\n",
      "Warning message in .local(x, ...):\n",
      "\"Variable(s) `' constant. Cannot scale data.\"\n"
     ]
    },
    {
     "name": "stdout",
     "output_type": "stream",
     "text": [
      "maximum number of iterations reached 0.003632025 -0.003286085maximum number of iterations reached 0.0001915237 0.0001713628maximum number of iterations reached 8.03979e-05 -7.252513e-05maximum number of iterations reached 0.002119658 0.001898411maximum number of iterations reached 0.002689514 0.002421146maximum number of iterations reached 0.002839601 0.002564032maximum number of iterations reached 0.0007460136 0.0006717629maximum number of iterations reached 0.001289488 0.001151692maximum number of iterations reached 0.002935551 0.002617233maximum number of iterations reached 0.004426046 0.003923645maximum number of iterations reached 0.001798928 0.001630128maximum number of iterations reached 0.0001754414 0.0001573362maximum number of iterations reached 0.006834015 0.006032456maximum number of iterations reached 0.006410814 -0.005710201"
     ]
    },
    {
     "name": "stderr",
     "output_type": "stream",
     "text": [
      "Warning message:\n",
      "\"Setting row names on a tibble is deprecated.\"\n",
      "Warning message in preProcess.default(thresh = 0.95, k = 5, freqCut = 19, uniqueCut = 10, :\n",
      "\"These variables have zero variances: cell_57\"\n",
      "Warning message in .local(x, ...):\n",
      "\"Variable(s) `' constant. Cannot scale data.\"\n"
     ]
    },
    {
     "name": "stdout",
     "output_type": "stream",
     "text": [
      "maximum number of iterations reached 0.004280785 -0.003883939maximum number of iterations reached 0.003855782 0.003418165maximum number of iterations reached 0.0001876033 -0.0001693337maximum number of iterations reached 0.001540912 0.001378375maximum number of iterations reached 0.0009604281 0.0008624176maximum number of iterations reached 0.004291013 0.003877821maximum number of iterations reached 0.003971675 0.003574375maximum number of iterations reached 0.000814908 0.0007328707maximum number of iterations reached 0.0002380444 0.0002143423maximum number of iterations reached 0.003811948 0.003390459maximum number of iterations reached 0.001709495 0.001552119maximum number of iterations reached 0.004242243 0.003746666maximum number of iterations reached 0.00396377 0.003520514maximum number of iterations reached 2.197661e-05 -3.495859e-08maximum number of iterations reached 0.007350588 -0.006532009"
     ]
    },
    {
     "name": "stderr",
     "output_type": "stream",
     "text": [
      "Warning message:\n",
      "\"Setting row names on a tibble is deprecated.\"\n",
      "Warning message in preProcess.default(thresh = 0.95, k = 5, freqCut = 19, uniqueCut = 10, :\n",
      "\"These variables have zero variances: cell_57\"\n",
      "Warning message in .local(x, ...):\n",
      "\"Variable(s) `' constant. Cannot scale data.\"\n"
     ]
    },
    {
     "name": "stdout",
     "output_type": "stream",
     "text": [
      "maximum number of iterations reached 0.002039392 -0.001837059maximum number of iterations reached 4.097343e-05 -3.697227e-05maximum number of iterations reached 0.002953201 0.002641187maximum number of iterations reached 0.002722962 0.002466371maximum number of iterations reached 0.002853826 0.002574634maximum number of iterations reached 0.003125364 0.002815299maximum number of iterations reached 0.001588179 0.001425382maximum number of iterations reached 0.001004202 0.0009002512maximum number of iterations reached 0.0001375554 8.074811e-07maximum number of iterations reached 0.005866365 0.005169736maximum number of iterations reached 0.00187767 0.001702834maximum number of iterations reached 0.005036113 0.004428442maximum number of iterations reached 0.006924157 0.006080712maximum number of iterations reached 0.007405158 -0.006554703"
     ]
    },
    {
     "name": "stderr",
     "output_type": "stream",
     "text": [
      "Warning message:\n",
      "\"Setting row names on a tibble is deprecated.\"\n",
      "Warning message in preProcess.default(thresh = 0.95, k = 5, freqCut = 19, uniqueCut = 10, :\n",
      "\"These variables have zero variances: cell_57\"\n",
      "Warning message in .local(x, ...):\n",
      "\"Variable(s) `' constant. Cannot scale data.\"\n"
     ]
    },
    {
     "name": "stdout",
     "output_type": "stream",
     "text": [
      "maximum number of iterations reached 0.003407042 -0.003053286maximum number of iterations reached 8.648419e-05 7.764752e-05maximum number of iterations reached 0.0001383184 -0.0001248323maximum number of iterations reached 0.0006042803 0.0005427555maximum number of iterations reached 0.001651946 0.001485106maximum number of iterations reached 0.002832541 0.002549798maximum number of iterations reached 0.00312163 0.002804813maximum number of iterations reached 0.001626587 0.001453666maximum number of iterations reached 0.002201739 0.001980263maximum number of iterations reached 0.003315991 2.464113e-05maximum number of iterations reached 0.0003405308 1.327185e-07maximum number of iterations reached 0.00555894 0.004892685maximum number of iterations reached 0.001661521 0.001507191maximum number of iterations reached 0.003870378 0.003468676maximum number of iterations reached 0.003757061 0.003344604maximum number of iterations reached 0.006820693 -0.006059312"
     ]
    },
    {
     "name": "stderr",
     "output_type": "stream",
     "text": [
      "Warning message:\n",
      "\"Setting row names on a tibble is deprecated.\"\n",
      "Warning message in preProcess.default(thresh = 0.95, k = 5, freqCut = 19, uniqueCut = 10, :\n",
      "\"These variables have zero variances: cell_57\"\n",
      "Warning message in .local(x, ...):\n",
      "\"Variable(s) `' constant. Cannot scale data.\"\n"
     ]
    },
    {
     "name": "stdout",
     "output_type": "stream",
     "text": [
      "maximum number of iterations reached 0.001957605 -0.001766629maximum number of iterations reached 0.0006434943 0.0005747371maximum number of iterations reached 7.87052e-05 -7.104372e-05maximum number of iterations reached 0.001727488 0.001544406maximum number of iterations reached 0.002494787 0.002266122maximum number of iterations reached 0.002784833 0.002524076maximum number of iterations reached 0.002463211 0.002214492maximum number of iterations reached 0.005566288 0.004961444maximum number of iterations reached 0.003220072 0.002882413maximum number of iterations reached 2.484506e-05 8.237621e-09maximum number of iterations reached 0.006882911 0.006058712maximum number of iterations reached 0.0001317123 -2.084751e-07maximum number of iterations reached 0.001468785 0.001329385maximum number of iterations reached 0.001865913 0.001667381maximum number of iterations reached 0.00517129 -4.278051e-05maximum number of iterations reached 0.006590716 0.005797734maximum number of iterations reached 0.00682624 -0.006101565"
     ]
    },
    {
     "name": "stderr",
     "output_type": "stream",
     "text": [
      "Warning message:\n",
      "\"Setting row names on a tibble is deprecated.\"\n",
      "Warning message in preProcess.default(thresh = 0.95, k = 5, freqCut = 19, uniqueCut = 10, :\n",
      "\"These variables have zero variances: cell_57\"\n",
      "Warning message in .local(x, ...):\n",
      "\"Variable(s) `' constant. Cannot scale data.\"\n"
     ]
    },
    {
     "name": "stdout",
     "output_type": "stream",
     "text": [
      "maximum number of iterations reached 0.001300674 -0.00117496maximum number of iterations reached 0.0005753118 0.0005173163maximum number of iterations reached 0.0001347565 -0.0001216259maximum number of iterations reached 0.0005747516 0.0005148318maximum number of iterations reached 0.003756008 0.00338898maximum number of iterations reached 0.003104291 0.002799674maximum number of iterations reached 0.00160102 0.001441528maximum number of iterations reached 0.001748123 0.001568218maximum number of iterations reached 0.0009333916 0.0008357833maximum number of iterations reached 0.005814335 0.005115958maximum number of iterations reached 0.001374907 0.001245482maximum number of iterations reached 0.00107963 0.0009699015maximum number of iterations reached 0.004803194 0.004216961maximum number of iterations reached 0.005928968 -0.005233823"
     ]
    },
    {
     "name": "stderr",
     "output_type": "stream",
     "text": [
      "Warning message:\n",
      "\"Setting row names on a tibble is deprecated.\"\n",
      "Warning message in preProcess.default(thresh = 0.95, k = 5, freqCut = 19, uniqueCut = 10, :\n",
      "\"These variables have zero variances: cell_57\"\n",
      "Warning message in .local(x, ...):\n",
      "\"Variable(s) `' constant. Cannot scale data.\"\n"
     ]
    },
    {
     "name": "stdout",
     "output_type": "stream",
     "text": [
      "maximum number of iterations reached 0.002709216 -0.002451272maximum number of iterations reached 0.003015112 0.002663861maximum number of iterations reached 1.889218e-05 -1.705169e-05maximum number of iterations reached 0.0009750606 0.0008732567maximum number of iterations reached 0.003016527 0.002721294maximum number of iterations reached 0.001370949 0.001237019maximum number of iterations reached 0.000978422 0.0008845391maximum number of iterations reached 0.001224562 0.001100859maximum number of iterations reached 0.002617132 0.002345869maximum number of iterations reached 0.001947379 6.229974e-07maximum number of iterations reached 0.005509661 0.004841453maximum number of iterations reached 0.001977147 0.001793656maximum number of iterations reached 0.0004124325 -2.145798e-06maximum number of iterations reached 0.005281979 0.004652754maximum number of iterations reached 0.005935234 0.005265086maximum number of iterations reached 0.006377352 -0.005678425"
     ]
    },
    {
     "name": "stderr",
     "output_type": "stream",
     "text": [
      "Warning message:\n",
      "\"Setting row names on a tibble is deprecated.\"\n",
      "Warning message in preProcess.default(thresh = 0.95, k = 5, freqCut = 19, uniqueCut = 10, :\n",
      "\"These variables have zero variances: cell_57\"\n",
      "Warning message in .local(x, ...):\n",
      "\"Variable(s) `' constant. Cannot scale data.\"\n"
     ]
    },
    {
     "name": "stdout",
     "output_type": "stream",
     "text": [
      "maximum number of iterations reached 0.001957537 -0.001763279maximum number of iterations reached 0.000142018 0.0001276589maximum number of iterations reached 0.002591715 0.002308316maximum number of iterations reached 0.001880037 0.001696471maximum number of iterations reached 0.002095577 0.001884376maximum number of iterations reached 0.001367051 0.001229927maximum number of iterations reached 0.001752896 0.001571216maximum number of iterations reached 0.002466305 0.002208614maximum number of iterations reached 0.0005283927 -2.585389e-07maximum number of iterations reached 0.006348677 0.005635381maximum number of iterations reached 8.880682e-05 -1.742167e-07maximum number of iterations reached 0.001623069 0.001469212maximum number of iterations reached 0.00706417 0.006185783maximum number of iterations reached 0.006713518 0.00592259maximum number of iterations reached 0.006313125 -0.005659074"
     ]
    },
    {
     "name": "stderr",
     "output_type": "stream",
     "text": [
      "Warning message:\n",
      "\"Setting row names on a tibble is deprecated.\"\n",
      "Warning message in preProcess.default(thresh = 0.95, k = 5, freqCut = 19, uniqueCut = 10, :\n",
      "\"These variables have zero variances: cell_57\"\n",
      "Warning message in .local(x, ...):\n",
      "\"Variable(s) `' constant. Cannot scale data.\"\n"
     ]
    },
    {
     "name": "stdout",
     "output_type": "stream",
     "text": [
      "maximum number of iterations reached 0.0009135751 -0.0008277564maximum number of iterations reached 0.003579279 0.003141942maximum number of iterations reached 1.704267e-05 -1.538271e-05maximum number of iterations reached 0.002097295 0.001875096maximum number of iterations reached 0.001121142 0.001010835maximum number of iterations reached 0.002605316 0.002342105maximum number of iterations reached 0.001266342 0.001145845maximum number of iterations reached 0.002490478 0.002232754maximum number of iterations reached 0.001488811 0.001336615maximum number of iterations reached 0.006054822 0.005292499maximum number of iterations reached 0.001266607 0.001145814maximum number of iterations reached 3.99088e-05 -9.55706e-08maximum number of iterations reached 0.006126003 0.005373826maximum number of iterations reached 0.005495381 0.00483684maximum number of iterations reached 1.379181e-05 -8.451505e-10maximum number of iterations reached 0.005194676 -0.004626691"
     ]
    },
    {
     "name": "stderr",
     "output_type": "stream",
     "text": [
      "Warning message:\n",
      "\"Setting row names on a tibble is deprecated.\"\n",
      "Warning message in preProcess.default(thresh = 0.95, k = 5, freqCut = 19, uniqueCut = 10, :\n",
      "\"These variables have zero variances: cell_57\"\n",
      "Warning message in .local(x, ...):\n",
      "\"Variable(s) `' constant. Cannot scale data.\"\n"
     ]
    },
    {
     "name": "stdout",
     "output_type": "stream",
     "text": [
      "maximum number of iterations reached 0.001633478 -0.001482585maximum number of iterations reached 0.005886582 0.00512602maximum number of iterations reached 9.673766e-05 -8.729748e-05maximum number of iterations reached 0.001746909 0.00156268maximum number of iterations reached 0.001851587 0.001676614maximum number of iterations reached 0.003039489 0.002731132maximum number of iterations reached 0.002606383 0.002353047maximum number of iterations reached 0.0009927648 0.0008924644maximum number of iterations reached 0.002062314 0.001849363maximum number of iterations reached 0.001886703 2.418035e-06maximum number of iterations reached 0.006327577 0.005610027maximum number of iterations reached 7.356102e-05 -5.632884e-08maximum number of iterations reached 0.001026245 0.0009285871maximum number of iterations reached 0.0005831816 -3.420901e-06maximum number of iterations reached 0.005645276 0.00495613maximum number of iterations reached 0.005867854 0.005145165maximum number of iterations reached 2.260305e-05 2.521322e-09maximum number of iterations reached 0.005447997 -0.004864357"
     ]
    },
    {
     "name": "stderr",
     "output_type": "stream",
     "text": [
      "Warning message:\n",
      "\"Setting row names on a tibble is deprecated.\"\n",
      "Warning message in preProcess.default(thresh = 0.95, k = 5, freqCut = 19, uniqueCut = 10, :\n",
      "\"These variables have zero variances: cell_57\"\n",
      "Warning message in .local(x, ...):\n",
      "\"Variable(s) `' constant. Cannot scale data.\"\n"
     ]
    },
    {
     "name": "stdout",
     "output_type": "stream",
     "text": [
      "maximum number of iterations reached 0.0013892 -0.001255562maximum number of iterations reached 0.001331958 0.001183424maximum number of iterations reached 0.0002400503 -0.0002166704maximum number of iterations reached 0.0008793198 0.0007870522maximum number of iterations reached 0.00172509 0.001568137maximum number of iterations reached 0.002028421 0.001824127maximum number of iterations reached 0.001126927 0.001013333maximum number of iterations reached 0.001049122 0.0009464571maximum number of iterations reached 0.001457038 0.001303674maximum number of iterations reached 0.0002360827 1.05298e-06maximum number of iterations reached 0.0007145112 -7.862831e-07maximum number of iterations reached 0.005118181 0.004511082maximum number of iterations reached 0.001133354 -5.21536e-06maximum number of iterations reached 0.001071707 0.0009693353maximum number of iterations reached 0.006222503 0.005486364maximum number of iterations reached 0.005143608 0.004495402maximum number of iterations reached 0.004789721 -0.0042782"
     ]
    },
    {
     "name": "stderr",
     "output_type": "stream",
     "text": [
      "Warning message:\n",
      "\"Setting row names on a tibble is deprecated.\"\n",
      "Warning message in preProcess.default(thresh = 0.95, k = 5, freqCut = 19, uniqueCut = 10, :\n",
      "\"These variables have zero variances: cell_57\"\n",
      "Warning message in .local(x, ...):\n",
      "\"Variable(s) `' constant. Cannot scale data.\"\n"
     ]
    },
    {
     "name": "stdout",
     "output_type": "stream",
     "text": [
      "maximum number of iterations reached 0.001523667 -0.001378884maximum number of iterations reached 0.002909738 0.002570299maximum number of iterations reached 0.000155251 -0.0001402045maximum number of iterations reached 0.001346711 0.001211257maximum number of iterations reached 0.001686759 0.001523821maximum number of iterations reached 0.002145094 0.001933772maximum number of iterations reached 0.001384641 0.001247957maximum number of iterations reached 0.001913535 0.001714235maximum number of iterations reached 0.001174166 0.00105396maximum number of iterations reached 0.0006195968 1.031299e-07maximum number of iterations reached 0.005576641 0.004894062maximum number of iterations reached 0.0008915939 0.0008063668maximum number of iterations reached 0.006441946 0.005650396maximum number of iterations reached 0.005650467 0.00498134maximum number of iterations reached 0.0005390501 8.492357e-08maximum number of iterations reached 0.004261181 -0.003799499"
     ]
    },
    {
     "name": "stderr",
     "output_type": "stream",
     "text": [
      "Warning message:\n",
      "\"Setting row names on a tibble is deprecated.\"\n",
      "Warning message in preProcess.default(thresh = 0.95, k = 5, freqCut = 19, uniqueCut = 10, :\n",
      "\"These variables have zero variances: cell_57\"\n",
      "Warning message in .local(x, ...):\n",
      "\"Variable(s) `' constant. Cannot scale data.\"\n"
     ]
    },
    {
     "name": "stdout",
     "output_type": "stream",
     "text": [
      "maximum number of iterations reached 0.002579258 -0.002342497maximum number of iterations reached 0.005340391 0.004659797maximum number of iterations reached 6.477033e-05 -5.849185e-05maximum number of iterations reached 0.001049772 0.0009448692maximum number of iterations reached 0.002515069 0.002283509maximum number of iterations reached 0.002545153 0.002298199maximum number of iterations reached 0.001043337 0.0009400506maximum number of iterations reached 0.001502211 0.001346508maximum number of iterations reached 0.000861162 0.0007711394maximum number of iterations reached 0.001698095 -8.857035e-07maximum number of iterations reached 0.004949407 0.004341602maximum number of iterations reached 0.0007484469 0.0006768201maximum number of iterations reached 4.937793e-05 -1.280401e-07maximum number of iterations reached 0.006304179 0.005536364maximum number of iterations reached 0.005318617 0.004683439maximum number of iterations reached 0.0002755199 -5.524713e-07maximum number of iterations reached 0.003464125 -0.00312604"
     ]
    },
    {
     "name": "stderr",
     "output_type": "stream",
     "text": [
      "Warning message:\n",
      "\"Setting row names on a tibble is deprecated.\"\n",
      "Warning message in preProcess.default(thresh = 0.95, k = 5, freqCut = 19, uniqueCut = 10, :\n",
      "\"These variables have zero variances: cell_57\"\n",
      "Warning message in .local(x, ...):\n",
      "\"Variable(s) `' constant. Cannot scale data.\"\n"
     ]
    },
    {
     "name": "stdout",
     "output_type": "stream",
     "text": [
      "maximum number of iterations reached 0.003246736 -0.002938572maximum number of iterations reached 0.005706482 0.004968052maximum number of iterations reached 6.721836e-05 -6.068495e-05maximum number of iterations reached 0.0008099307 0.0007285743maximum number of iterations reached 0.001054394 0.0009505283maximum number of iterations reached 0.002091467 0.001886549maximum number of iterations reached 0.0008265187 0.0007431819maximum number of iterations reached 0.001496481 0.001342827maximum number of iterations reached 0.001149677 0.001028269maximum number of iterations reached 0.0004281257 6.485621e-07maximum number of iterations reached 0.00397993 -1.333539e-05maximum number of iterations reached 0.004931122 0.00431972maximum number of iterations reached 0.0005359224 0.0004845338maximum number of iterations reached 0.002990533 -6.424844e-06maximum number of iterations reached 0.00634843 0.005518663maximum number of iterations reached 5.898438e-05 -1.579484e-07maximum number of iterations reached 0.005489718 0.004853227maximum number of iterations reached 0.0002710904 -2.243507e-07maximum number of iterations reached 0.003952825 -0.003530158"
     ]
    },
    {
     "name": "stderr",
     "output_type": "stream",
     "text": [
      "Warning message:\n",
      "\"Setting row names on a tibble is deprecated.\"\n",
      "Warning message in preProcess.default(thresh = 0.95, k = 5, freqCut = 19, uniqueCut = 10, :\n",
      "\"These variables have zero variances: cell_57\"\n",
      "Warning message in .local(x, ...):\n",
      "\"Variable(s) `' constant. Cannot scale data.\"\n"
     ]
    },
    {
     "name": "stdout",
     "output_type": "stream",
     "text": [
      "maximum number of iterations reached 0.002254851 -0.002035442maximum number of iterations reached 0.004709377 0.004123731maximum number of iterations reached 0.002088481 0.001851489maximum number of iterations reached 4.063466e-05 -3.668108e-05maximum number of iterations reached 0.0006058065 0.0005448072maximum number of iterations reached 0.001082479 0.0009773537maximum number of iterations reached 0.0011352 0.001027462maximum number of iterations reached 0.001871549 0.001680536maximum number of iterations reached 0.0009429385 0.0008483678maximum number of iterations reached 0.0007032706 0.0006327113maximum number of iterations reached 0.002523994 5.252792e-06maximum number of iterations reached 0.003595915 -2.294637e-06maximum number of iterations reached 0.005197908 0.004572158maximum number of iterations reached 4.231679e-05 -3.435243e-08maximum number of iterations reached 0.0005430102 0.0004909636maximum number of iterations reached 0.006884861 -1.615367e-05maximum number of iterations reached 0.006209083 0.005484678maximum number of iterations reached 1.964225e-05 -4.880945e-08maximum number of iterations reached 0.004525308 0.004039542maximum number of iterations reached 0.0006154528 -2.898412e-07maximum number of iterations reached 0.003420592 -0.003060472"
     ]
    },
    {
     "name": "stderr",
     "output_type": "stream",
     "text": [
      "Warning message:\n",
      "\"Setting row names on a tibble is deprecated.\"\n",
      "Warning message in preProcess.default(thresh = 0.95, k = 5, freqCut = 19, uniqueCut = 10, :\n",
      "\"These variables have zero variances: cell_57\"\n",
      "Warning message in .local(x, ...):\n",
      "\"Variable(s) `' constant. Cannot scale data.\"\n"
     ]
    },
    {
     "name": "stdout",
     "output_type": "stream",
     "text": [
      "maximum number of iterations reached 0.002153006 -0.001938904maximum number of iterations reached 7.497696e-05 -2.135053e-07maximum number of iterations reached 0.0057874 0.00505341maximum number of iterations reached 9.098022e-05 -8.215069e-05maximum number of iterations reached 0.0008412946 0.0007569544maximum number of iterations reached 0.001446668 0.001305479maximum number of iterations reached 0.00196236 0.001776144maximum number of iterations reached 0.001451352 0.001300818maximum number of iterations reached 0.0006678446 0.0006022434maximum number of iterations reached 0.0008529146 0.0007670004maximum number of iterations reached 0.008256836 2.740337e-05maximum number of iterations reached 0.004222263 -1.66786e-06maximum number of iterations reached 0.004790596 0.004216114maximum number of iterations reached 0.00127197 -3.176723e-06maximum number of iterations reached 0.0003032965 0.0002741934maximum number of iterations reached 0.004920783 -2.978647e-05maximum number of iterations reached 0.005655923 0.004960689maximum number of iterations reached 0.002123337 -1.327573e-05maximum number of iterations reached 0.004723823 0.004208maximum number of iterations reached 0.0005164068 -6.23661e-07maximum number of iterations reached 0.002508196 -0.002264747"
     ]
    },
    {
     "name": "stderr",
     "output_type": "stream",
     "text": [
      "Warning message:\n",
      "\"Setting row names on a tibble is deprecated.\"\n",
      "Warning message in preProcess.default(thresh = 0.95, k = 5, freqCut = 19, uniqueCut = 10, :\n",
      "\"These variables have zero variances: cell_57\"\n",
      "Warning message in .local(x, ...):\n",
      "\"Variable(s) `' constant. Cannot scale data.\"\n"
     ]
    },
    {
     "name": "stdout",
     "output_type": "stream",
     "text": [
      "maximum number of iterations reached 0.002027997 -0.001827621maximum number of iterations reached 0.005511414 0.004832048maximum number of iterations reached 8.535473e-05 -7.705371e-05maximum number of iterations reached 0.0004890451 0.0004405673maximum number of iterations reached 0.001365396 0.001231512maximum number of iterations reached 0.00104601 0.000947865maximum number of iterations reached 0.001503032 0.0013533maximum number of iterations reached 0.0007560973 0.0006817615maximum number of iterations reached 0.0009644288 0.0008661426maximum number of iterations reached 0.004122008 -9.086357e-06maximum number of iterations reached 0.004080792 0.003666544maximum number of iterations reached 0.001540293 -3.473643e-06maximum number of iterations reached 0.0003000365 0.0002712468maximum number of iterations reached 0.005230293 0.004562022maximum number of iterations reached 0.006658834 -6.31506e-05maximum number of iterations reached 0.00378505 0.003405257maximum number of iterations reached 0.0001892857 -8.595565e-08maximum number of iterations reached 0.002060445 -0.001860557"
     ]
    },
    {
     "name": "stderr",
     "output_type": "stream",
     "text": [
      "Warning message:\n",
      "\"Setting row names on a tibble is deprecated.\"\n",
      "Warning message in preProcess.default(thresh = 0.95, k = 5, freqCut = 19, uniqueCut = 10, :\n",
      "\"These variables have zero variances: cell_57\"\n",
      "Warning message in .local(x, ...):\n",
      "\"Variable(s) `' constant. Cannot scale data.\"\n"
     ]
    },
    {
     "name": "stdout",
     "output_type": "stream",
     "text": [
      "maximum number of iterations reached 0.002258993 -0.002033669maximum number of iterations reached 0.006001617 0.005252282maximum number of iterations reached 0.001495316 0.001329598maximum number of iterations reached 4.664174e-05 -4.211148e-05maximum number of iterations reached 0.0006378995 0.0005751024maximum number of iterations reached 0.001381259 0.001245548maximum number of iterations reached 0.001724893 0.001562268maximum number of iterations reached 0.00149578 0.001347463maximum number of iterations reached 0.0005728023 0.0005175318maximum number of iterations reached 0.000702294 0.0006323635maximum number of iterations reached 0.002979653 -4.443747e-06maximum number of iterations reached 0.004917248 0.004364259maximum number of iterations reached 0.0004790438 -1.351436e-07maximum number of iterations reached 0.0002401489 0.0002171062maximum number of iterations reached 0.001006668 -3.356937e-06maximum number of iterations reached 0.005564838 0.004856092maximum number of iterations reached 0.004459856 -2.560587e-05maximum number of iterations reached 0.003725969 0.003352213maximum number of iterations reached 0.0009362472 -7.56664e-07maximum number of iterations reached 0.002481755 -0.002234277"
     ]
    },
    {
     "name": "stderr",
     "output_type": "stream",
     "text": [
      "Warning message:\n",
      "\"Setting row names on a tibble is deprecated.\"\n",
      "Warning message in preProcess.default(thresh = 0.95, k = 5, freqCut = 19, uniqueCut = 10, :\n",
      "\"These variables have zero variances: cell_57\"\n",
      "Warning message in .local(x, ...):\n",
      "\"Variable(s) `' constant. Cannot scale data.\"\n"
     ]
    },
    {
     "name": "stdout",
     "output_type": "stream",
     "text": [
      "maximum number of iterations reached 0.001521028 -0.0013747maximum number of iterations reached 5.27048e-05 -9.636833e-08maximum number of iterations reached 0.006293485 0.005539796maximum number of iterations reached 2.120848e-05 1.910261e-05maximum number of iterations reached 3.367697e-05 -3.040727e-05maximum number of iterations reached 0.0004309871 0.0003885699maximum number of iterations reached 0.00127538 0.001152796maximum number of iterations reached 0.001412727 0.001281027maximum number of iterations reached 0.001113239 0.001000678maximum number of iterations reached 0.000647232 0.0005846273maximum number of iterations reached 0.0006592963 0.0005935685maximum number of iterations reached 0.0001356827 2.151325e-07maximum number of iterations reached 0.002588136 4.35608e-07maximum number of iterations reached 0.00399907 0.003580417maximum number of iterations reached 0.003379117 -1.716729e-05maximum number of iterations reached 0.0001933788 0.0001748245maximum number of iterations reached 0.0007221874 -2.654028e-06maximum number of iterations reached 0.005225383 0.004575401maximum number of iterations reached 6.602417e-05 -6.02063e-08maximum number of iterations reached 0.00364045 0.003274maximum number of iterations reached 0.000716414 2.170362e-07maximum number of iterations reached 0.001390138 -0.001255352"
     ]
    },
    {
     "name": "stderr",
     "output_type": "stream",
     "text": [
      "Warning message:\n",
      "\"Setting row names on a tibble is deprecated.\"\n",
      "Warning message in preProcess.default(thresh = 0.95, k = 5, freqCut = 19, uniqueCut = 10, :\n",
      "\"These variables have zero variances: cell_57\"\n",
      "Warning message in .local(x, ...):\n",
      "\"Variable(s) `' constant. Cannot scale data.\"\n"
     ]
    },
    {
     "name": "stdout",
     "output_type": "stream",
     "text": [
      "maximum number of iterations reached 0.001925762 -0.001739324maximum number of iterations reached 0.005699045 0.005020993maximum number of iterations reached 0.002192063 0.001949983maximum number of iterations reached 5.188233e-05 -4.684546e-05maximum number of iterations reached 0.0003806352 0.0003432419maximum number of iterations reached 0.001514588 0.001364315maximum number of iterations reached 0.001593651 0.001434416maximum number of iterations reached 0.001004079 0.0009029525maximum number of iterations reached 0.0004130468 0.0003735179maximum number of iterations reached 0.001018423 0.0009170369maximum number of iterations reached 0.007950574 3.509795e-05maximum number of iterations reached 0.001387846 -7.278857e-07maximum number of iterations reached 0.003511012 0.003152198maximum number of iterations reached 0.001023498 -1.103502e-06maximum number of iterations reached 0.0001015395 9.179777e-05maximum number of iterations reached 0.005668775 -2.155157e-05maximum number of iterations reached 0.005072052 0.004433192maximum number of iterations reached 0.00114064 -2.769124e-06maximum number of iterations reached 0.002779418 0.002505317maximum number of iterations reached 0.0009783281 1.000909e-07maximum number of iterations reached 0.001813181 -0.001635846"
     ]
    },
    {
     "name": "stderr",
     "output_type": "stream",
     "text": [
      "Warning message:\n",
      "\"Setting row names on a tibble is deprecated.\"\n",
      "Warning message in preProcess.default(thresh = 0.95, k = 5, freqCut = 19, uniqueCut = 10, :\n",
      "\"These variables have zero variances: cell_57\"\n",
      "Warning message in .local(x, ...):\n",
      "\"Variable(s) `' constant. Cannot scale data.\"\n"
     ]
    },
    {
     "name": "stdout",
     "output_type": "stream",
     "text": [
      "maximum number of iterations reached 0.001828095 -0.001654048maximum number of iterations reached 0.005465105 0.004850673maximum number of iterations reached 0.0008393847 0.0007479296maximum number of iterations reached 3.342693e-05 -3.018348e-05maximum number of iterations reached 0.0005205674 0.0004693892maximum number of iterations reached 0.001173064 0.001054309maximum number of iterations reached 0.001591664 0.001436509maximum number of iterations reached 0.001046724 0.0009412093maximum number of iterations reached 0.0006829928 0.0006175581maximum number of iterations reached 0.0007512419 0.0006765019maximum number of iterations reached 0.005602709 4.072333e-05maximum number of iterations reached 0.002297447 -2.650094e-06maximum number of iterations reached 0.003907484 0.003515367maximum number of iterations reached 0.002102965 -5.792001e-06maximum number of iterations reached 0.0001018906 9.211623e-05maximum number of iterations reached 0.004635042 -2.663399e-05maximum number of iterations reached 0.005150008 0.004561635maximum number of iterations reached 0.0002250932 -3.78707e-07maximum number of iterations reached 0.0032912 0.002964841maximum number of iterations reached 0.002346375 -6.895727e-08maximum number of iterations reached 0.001590631 -0.001435698"
     ]
    },
    {
     "name": "stderr",
     "output_type": "stream",
     "text": [
      "Warning message:\n",
      "\"Setting row names on a tibble is deprecated.\"\n",
      "Warning message in preProcess.default(thresh = 0.95, k = 5, freqCut = 19, uniqueCut = 10, :\n",
      "\"These variables have zero variances: cell_57\"\n",
      "Warning message in .local(x, ...):\n",
      "\"Variable(s) `' constant. Cannot scale data.\"\n"
     ]
    },
    {
     "name": "stdout",
     "output_type": "stream",
     "text": [
      "maximum number of iterations reached 0.001391812 -0.001259613maximum number of iterations reached 0.005036921 0.004481009maximum number of iterations reached 0.000269698 0.0002423971maximum number of iterations reached 3.204333e-05 -2.893435e-05maximum number of iterations reached 0.0002371185 0.0002138607maximum number of iterations reached 0.001046639 0.0009420823maximum number of iterations reached 0.00142106 0.001285954maximum number of iterations reached 0.0009760206 0.0008782621maximum number of iterations reached 0.0002371588 0.0002145973maximum number of iterations reached 0.0007808686 0.000703895maximum number of iterations reached 0.004511797 2.530211e-05maximum number of iterations reached 0.002562715 -4.715788e-06maximum number of iterations reached 0.003958437 0.003552938maximum number of iterations reached 0.0005527122 -5.334833e-07maximum number of iterations reached 4.100733e-05 3.707423e-05maximum number of iterations reached 0.003928585 -1.870023e-05maximum number of iterations reached 0.004163534 0.003712954maximum number of iterations reached 0.0001267325 -1.661417e-07maximum number of iterations reached 0.001450865 0.001310116maximum number of iterations reached 0.001345557 -1.012857e-06maximum number of iterations reached 0.00146278 -0.001320589"
     ]
    },
    {
     "name": "stderr",
     "output_type": "stream",
     "text": [
      "Warning message:\n",
      "\"Setting row names on a tibble is deprecated.\"\n",
      "Warning message in preProcess.default(thresh = 0.95, k = 5, freqCut = 19, uniqueCut = 10, :\n",
      "\"These variables have zero variances: cell_57\"\n",
      "Warning message in .local(x, ...):\n",
      "\"Variable(s) `' constant. Cannot scale data.\"\n"
     ]
    },
    {
     "name": "stdout",
     "output_type": "stream",
     "text": [
      "maximum number of iterations reached 0.001188001 -0.001073832maximum number of iterations reached 0.004671788 0.004183801maximum number of iterations reached 0.002116518 0.001863006maximum number of iterations reached 3.633029e-05 -3.280566e-05maximum number of iterations reached 0.0001650332 0.0001488575maximum number of iterations reached 0.001078576 0.0009704972maximum number of iterations reached 0.001160526 0.001044205maximum number of iterations reached 0.0005838061 0.0005260844maximum number of iterations reached 0.0004830067 0.0004369487maximum number of iterations reached 0.000573663 0.0005171984maximum number of iterations reached 0.0005856442 6.099143e-07maximum number of iterations reached 0.002922932 -4.147258e-06maximum number of iterations reached 0.002592623 0.002337834maximum number of iterations reached 0.001878417 -3.302648e-06maximum number of iterations reached 0.002168117 -6.153361e-06maximum number of iterations reached 0.005203856 0.004616735maximum number of iterations reached 0.0003104241 -4.435961e-07maximum number of iterations reached 0.001603171 0.001447646maximum number of iterations reached 0.001156688 -5.163053e-07maximum number of iterations reached 0.001184729 -0.001069769"
     ]
    },
    {
     "name": "stderr",
     "output_type": "stream",
     "text": [
      "Warning message:\n",
      "\"Setting row names on a tibble is deprecated.\"\n",
      "Warning message in preProcess.default(thresh = 0.95, k = 5, freqCut = 19, uniqueCut = 10, :\n",
      "\"These variables have zero variances: cell_57\"\n",
      "Warning message in .local(x, ...):\n",
      "\"Variable(s) `' constant. Cannot scale data.\"\n"
     ]
    },
    {
     "name": "stdout",
     "output_type": "stream",
     "text": [
      "maximum number of iterations reached 0.001388425 -0.001256824maximum number of iterations reached 0.0001147377 -1.415386e-07maximum number of iterations reached 0.0001115129 -1.198867e-07maximum number of iterations reached 0.004496012 0.004007279maximum number of iterations reached 2.305199e-05 -2.081517e-05maximum number of iterations reached 0.0001246511 0.0001124379maximum number of iterations reached 0.0008960311 0.0008076451maximum number of iterations reached 0.001178772 0.001061416maximum number of iterations reached 0.0006613463 0.0005961166maximum number of iterations reached 9.939219e-05 8.994869e-05maximum number of iterations reached 0.0003685487 0.0003323363maximum number of iterations reached 0.004527687 9.373529e-06maximum number of iterations reached 0.006966938 -1.839642e-05maximum number of iterations reached 0.002797226 0.002521718maximum number of iterations reached 0.001615635 -3.700729e-07maximum number of iterations reached 1.573874e-05 1.422942e-05maximum number of iterations reached 0.002428593 -1.209332e-05maximum number of iterations reached 0.004064912 0.003636941maximum number of iterations reached 0.002237993 -1.02153e-05maximum number of iterations reached 0.0012578 0.001135852maximum number of iterations reached 0.001856416 -7.261009e-07maximum number of iterations reached 0.001176345 -0.001062258"
     ]
    },
    {
     "name": "stderr",
     "output_type": "stream",
     "text": [
      "Warning message:\n",
      "\"Setting row names on a tibble is deprecated.\"\n",
      "Warning message in preProcess.default(thresh = 0.95, k = 5, freqCut = 19, uniqueCut = 10, :\n",
      "\"These variables have zero variances: cell_57\"\n",
      "Warning message in .local(x, ...):\n",
      "\"Variable(s) `' constant. Cannot scale data.\"\n"
     ]
    },
    {
     "name": "stdout",
     "output_type": "stream",
     "text": [
      "maximum number of iterations reached 0.001310432 -0.001180579maximum number of iterations reached 1.779775e-05 -1.573111e-08maximum number of iterations reached 4.070629e-05 -4.155023e-08maximum number of iterations reached 0.00452939 0.004073042maximum number of iterations reached 3.114784e-05 -3.927842e-08maximum number of iterations reached 2.688775e-05 -2.427968e-05maximum number of iterations reached 0.00019371 0.0001747261maximum number of iterations reached 0.000724457 0.0006528038maximum number of iterations reached 0.001609849 0.001451029maximum number of iterations reached 0.0006526507 0.0005883048maximum number of iterations reached 0.0003192913 0.0002888826maximum number of iterations reached 0.000393205 0.0003545752maximum number of iterations reached 0.007394547 4.492168e-05maximum number of iterations reached 0.004935925 -5.433435e-06maximum number of iterations reached 0.002653297 0.002393764maximum number of iterations reached 0.005194536 -6.156122e-06maximum number of iterations reached 0.007295699 -4.747286e-05maximum number of iterations reached 0.004121677 0.003682481maximum number of iterations reached 0.003272445 -1.476892e-05maximum number of iterations reached 0.001844294 0.001665325maximum number of iterations reached 0.002713273 7.91142e-08maximum number of iterations reached 0.001039746 -0.0009389534"
     ]
    },
    {
     "name": "stderr",
     "output_type": "stream",
     "text": [
      "Warning message:\n",
      "\"Setting row names on a tibble is deprecated.\"\n",
      "Warning message in preProcess.default(thresh = 0.95, k = 5, freqCut = 19, uniqueCut = 10, :\n",
      "\"These variables have zero variances: cell_57\"\n",
      "Warning message in .local(x, ...):\n",
      "\"Variable(s) `' constant. Cannot scale data.\"\n"
     ]
    },
    {
     "name": "stdout",
     "output_type": "stream",
     "text": [
      "maximum number of iterations reached 0.001172664 -0.001059286maximum number of iterations reached 1.169801e-05 -1.102402e-08maximum number of iterations reached 0.000137289 -2.599476e-07maximum number of iterations reached 0.003823112 0.003405383maximum number of iterations reached 0.0002211616 0.0001990846maximum number of iterations reached 2.196013e-05 -1.983017e-05maximum number of iterations reached 0.0001119516 0.0001009844maximum number of iterations reached 0.0008284797 0.0007466094maximum number of iterations reached 0.001009332 0.0009086874maximum number of iterations reached 0.0002482934 0.0002239191maximum number of iterations reached 0.0001988512 0.0001799426maximum number of iterations reached 0.0002515023 0.0002268192maximum number of iterations reached 0.001535086 1.685384e-06maximum number of iterations reached 0.003497082 -4.739948e-07maximum number of iterations reached 0.002669987 0.002409485maximum number of iterations reached 0.002391329 -6.969671e-07maximum number of iterations reached -4.119469e-05 -3.724535e-05maximum number of iterations reached 0.003081549 -6.947306e-06maximum number of iterations reached 0.003673234 0.003296536maximum number of iterations reached 0.004747741 -1.63765e-05maximum number of iterations reached 0.001388693 0.001254052maximum number of iterations reached 0.002414916 1.202569e-09maximum number of iterations reached 0.000935171 -0.0008445413"
     ]
    },
    {
     "name": "stderr",
     "output_type": "stream",
     "text": [
      "Warning message:\n",
      "\"Setting row names on a tibble is deprecated.\"\n",
      "Warning message in preProcess.default(thresh = 0.95, k = 5, freqCut = 19, uniqueCut = 10, :\n",
      "\"These variables have zero variances: cell_57\"\n",
      "Warning message in .local(x, ...):\n",
      "\"Variable(s) `' constant. Cannot scale data.\"\n"
     ]
    },
    {
     "name": "stdout",
     "output_type": "stream",
     "text": [
      "maximum number of iterations reached 0.001050566 -0.000945699maximum number of iterations reached 9.824397e-06 -1.169584e-08maximum number of iterations reached 0.0008024266 -3.467279e-09maximum number of iterations reached 2.308202e-05 -3.037836e-08maximum number of iterations reached 0.003615061 0.003222626maximum number of iterations reached 3.793375e-05 3.422208e-05maximum number of iterations reached 2.144953e-05 -1.936932e-05maximum number of iterations reached 5.411249e-05 4.881295e-05maximum number of iterations reached 0.0004944259 0.0004457402maximum number of iterations reached 0.001204563 0.00108505maximum number of iterations reached 0.0005103164 0.0004600758maximum number of iterations reached 0.0002113928 0.0001912978maximum number of iterations reached 0.0003812479 0.0003437857maximum number of iterations reached 0.004271746 1.749843e-05maximum number of iterations reached 0.004248227 -2.494477e-06maximum number of iterations reached 0.002023314 0.001826702maximum number of iterations reached 0.003495211 -1.32905e-06maximum number of iterations reached -5.774883e-05 -5.221303e-05maximum number of iterations reached 0.00625566 -3.034097e-05maximum number of iterations reached 0.003145947 0.002833401maximum number of iterations reached 0.003103513 -5.273912e-06maximum number of iterations reached 0.001333554 0.001204304maximum number of iterations reached 0.002594443 1.020876e-07maximum number of iterations reached 0.000731143 -0.0006602981"
     ]
    },
    {
     "name": "stderr",
     "output_type": "stream",
     "text": [
      "Warning message:\n",
      "\"Setting row names on a tibble is deprecated.\"\n",
      "Warning message in preProcess.default(thresh = 0.95, k = 5, freqCut = 19, uniqueCut = 10, :\n",
      "\"These variables have zero variances: cell_57\"\n",
      "Warning message in .local(x, ...):\n",
      "\"Variable(s) `' constant. Cannot scale data.\"\n"
     ]
    },
    {
     "name": "stdout",
     "output_type": "stream",
     "text": [
      "maximum number of iterations reached 0.0007677823 -0.0006918327maximum number of iterations reached 0.001232897 -2.361805e-06maximum number of iterations reached 0.0008278506 -7.629373e-07maximum number of iterations reached 8.552685e-05 -7.100956e-08maximum number of iterations reached 0.003362997 0.003004842maximum number of iterations reached 1.842354e-05 -1.41313e-08maximum number of iterations reached 0.001472884 0.001316888maximum number of iterations reached 0.0001053872 9.506506e-05maximum number of iterations reached 0.0004443749 0.0004006862maximum number of iterations reached 0.0008570882 0.0007724102maximum number of iterations reached 0.0003002718 0.000270786maximum number of iterations reached 0.0001834408 0.0001660044maximum number of iterations reached 0.0001537946 0.000138716maximum number of iterations reached 0.003116646 4.572326e-06maximum number of iterations reached 0.003061744 -1.328672e-06maximum number of iterations reached 0.001917224 0.001731148maximum number of iterations reached 0.001919747 -3.094311e-07maximum number of iterations reached -3.981654e-05 -3.59994e-05maximum number of iterations reached 0.004719346 -4.798016e-06maximum number of iterations reached 0.003108821 0.002800591maximum number of iterations reached 0.001876055 -1.507026e-06maximum number of iterations reached 0.0006647201 0.0006003051maximum number of iterations reached 0.001434621 -2.397549e-07maximum number of iterations reached 0.0002191252 -0.0001978929"
     ]
    },
    {
     "name": "stderr",
     "output_type": "stream",
     "text": [
      "Warning message:\n",
      "\"Setting row names on a tibble is deprecated.\"\n",
      "Warning message in preProcess.default(thresh = 0.95, k = 5, freqCut = 19, uniqueCut = 10, :\n",
      "\"These variables have zero variances: cell_57\"\n",
      "Warning message in .local(x, ...):\n",
      "\"Variable(s) `' constant. Cannot scale data.\"\n"
     ]
    },
    {
     "name": "stdout",
     "output_type": "stream",
     "text": [
      "maximum number of iterations reached 0.0007122524 -0.0006424619maximum number of iterations reached 0.0003264741 -4.610417e-07maximum number of iterations reached 0.0001272727 -6.395189e-08maximum number of iterations reached 0.0002002985 -1.483227e-07maximum number of iterations reached 0.00280427 0.002512081maximum number of iterations reached 5.38225e-05 -4.382046e-08maximum number of iterations reached 0.002992581 0.00264958maximum number of iterations reached 7.228114e-05 6.520252e-05maximum number of iterations reached 0.0002702969 0.0002437698maximum number of iterations reached 0.0008920282 0.0008034739maximum number of iterations reached 0.0002912773 0.0002626839maximum number of iterations reached 0.0001664944 0.0001506748maximum number of iterations reached 0.0002604734 0.0002349194maximum number of iterations reached 0.004831937 6.728991e-06maximum number of iterations reached 0.00345047 -9.342944e-07maximum number of iterations reached 0.001331483 0.001202391maximum number of iterations reached 0.001542699 -1.903992e-07maximum number of iterations reached -5.593292e-05 -5.057117e-05maximum number of iterations reached 0.002676471 -2.285983e-06maximum number of iterations reached 0.002234576 0.002017271maximum number of iterations reached 0.003761235 -6.046364e-06maximum number of iterations reached 0.0009245615 0.0008349796maximum number of iterations reached 0.001639376 -1.685289e-07maximum number of iterations reached 0.0004727134 -0.0004269152"
     ]
    },
    {
     "name": "stderr",
     "output_type": "stream",
     "text": [
      "Warning message:\n",
      "\"Setting row names on a tibble is deprecated.\"\n",
      "Warning message in preProcess.default(thresh = 0.95, k = 5, freqCut = 19, uniqueCut = 10, :\n",
      "\"These variables have zero variances: cell_57\"\n",
      "Warning message in .local(x, ...):\n",
      "\"Variable(s) `' constant. Cannot scale data.\"\n"
     ]
    },
    {
     "name": "stdout",
     "output_type": "stream",
     "text": [
      "maximum number of iterations reached 0.0006987103 -0.0006296804maximum number of iterations reached 0.0006716787 -6.508972e-07maximum number of iterations reached 0.0002647211 -2.433779e-07maximum number of iterations reached 0.000968856 -1.398346e-06maximum number of iterations reached 0.002284802 0.002056039maximum number of iterations reached 0.0002286397 -1.713444e-07maximum number of iterations reached -1.011182e-05 -9.121729e-06maximum number of iterations reached 0.0002247557 0.0002027071maximum number of iterations reached 0.0008008703 0.0007215975maximum number of iterations reached 0.0002130324 0.0001921335maximum number of iterations reached -4.522875e-05 -4.093623e-05maximum number of iterations reached 9.767347e-05 8.809866e-05maximum number of iterations reached 0.002809325 8.00472e-07maximum number of iterations reached 0.002299748 -3.936894e-07maximum number of iterations reached 0.001134846 0.001024852maximum number of iterations reached 0.001752754 -1.440542e-07maximum number of iterations reached -5.038622e-05 -4.555609e-05maximum number of iterations reached 0.004090283 -5.171916e-06maximum number of iterations reached 0.002156393 0.001946523maximum number of iterations reached 0.00234885 -1.324441e-06maximum number of iterations reached 0.0006930641 0.0006259145maximum number of iterations reached 0.0014987 -4.835116e-08maximum number of iterations reached 9.724888e-05 -8.782632e-05"
     ]
    },
    {
     "name": "stderr",
     "output_type": "stream",
     "text": [
      "Warning message:\n",
      "\"Setting row names on a tibble is deprecated.\"\n",
      "Warning message in preProcess.default(thresh = 0.95, k = 5, freqCut = 19, uniqueCut = 10, :\n",
      "\"These variables have zero variances: cell_57\"\n",
      "Warning message in .local(x, ...):\n",
      "\"Variable(s) `' constant. Cannot scale data.\"\n"
     ]
    },
    {
     "name": "stdout",
     "output_type": "stream",
     "text": [
      "maximum number of iterations reached 0.0006408047 -0.0005780662maximum number of iterations reached 0.001518629 -2.474175e-06maximum number of iterations reached 0.000255942 -5.297635e-08maximum number of iterations reached 0.0003275621 -1.980491e-07maximum number of iterations reached 0.00214606 0.001933093maximum number of iterations reached 0.001256692 -1.764377e-06maximum number of iterations reached -1.631193e-05 -1.471484e-05maximum number of iterations reached 0.00041488 0.000374117maximum number of iterations reached 0.0004661832 0.0004203525maximum number of iterations reached 0.0002088195 0.000188337maximum number of iterations reached 7.055066e-05 6.385158e-05maximum number of iterations reached 0.0001541017 0.000138993maximum number of iterations reached 0.004316278 3.207103e-06maximum number of iterations reached 0.002988203 -4.308128e-07maximum number of iterations reached 0.0004797309 0.0004332398maximum number of iterations reached 0.002019301 -3.604129e-07maximum number of iterations reached -6.069547e-05 -5.48774e-05maximum number of iterations reached 0.004584369 -5.315865e-06maximum number of iterations reached 0.002545998 0.002298057maximum number of iterations reached 0.003345041 -2.541097e-06maximum number of iterations reached 0.0003254298 0.0002938978maximum number of iterations reached 0.001918961 -4.105042e-08maximum number of iterations reached 0.0003832517 -0.0003461231"
     ]
    },
    {
     "name": "stderr",
     "output_type": "stream",
     "text": [
      "Warning message:\n",
      "\"Setting row names on a tibble is deprecated.\"\n",
      "Warning message in preProcess.default(thresh = 0.95, k = 5, freqCut = 19, uniqueCut = 10, :\n",
      "\"These variables have zero variances: cell_57\"\n",
      "Warning message in .local(x, ...):\n",
      "\"Variable(s) `' constant. Cannot scale data.\"\n"
     ]
    },
    {
     "name": "stdout",
     "output_type": "stream",
     "text": [
      "maximum number of iterations reached 0.0006328876 -0.0005706317maximum number of iterations reached 0.001758126 -2.755874e-06maximum number of iterations reached 0.002108748 -2.768212e-06maximum number of iterations reached 0.000648099 -3.625368e-07maximum number of iterations reached 0.002073749 0.001869077maximum number of iterations reached 0.0005833318 -5.390939e-07maximum number of iterations reached 0.0002557993 0.0002300863maximum number of iterations reached -1.1221e-05 -1.012238e-05maximum number of iterations reached 0.0003205088 0.0002890468maximum number of iterations reached 0.0006089175 0.0005489437maximum number of iterations reached 0.0001659157 0.0001496496maximum number of iterations reached 6.136768e-05 5.554111e-05maximum number of iterations reached 5.401039e-05 4.871802e-05maximum number of iterations reached 0.002336042 5.796696e-07maximum number of iterations reached 0.0024568 -2.070744e-07maximum number of iterations reached 0.0006687109 0.0006039138maximum number of iterations reached 0.001383419 -2.581199e-07maximum number of iterations reached -6.090972e-05 -5.507118e-05maximum number of iterations reached 0.003631882 -1.67953e-06maximum number of iterations reached 0.001295229 0.001169645maximum number of iterations reached 0.003716456 -1.916722e-06maximum number of iterations reached 0.0003411412 0.0003080889maximum number of iterations reached 0.0009844232 -7.315206e-08maximum number of iterations reached 0.0003108488 -0.0002807346"
     ]
    },
    {
     "name": "stderr",
     "output_type": "stream",
     "text": [
      "Warning message:\n",
      "\"Setting row names on a tibble is deprecated.\"\n",
      "Warning message in preProcess.default(thresh = 0.95, k = 5, freqCut = 19, uniqueCut = 10, :\n",
      "\"These variables have zero variances: cell_57\"\n",
      "Warning message in .local(x, ...):\n",
      "\"Variable(s) `' constant. Cannot scale data.\"\n"
     ]
    },
    {
     "name": "stdout",
     "output_type": "stream",
     "text": [
      "maximum number of iterations reached 0.0004539094 -0.0004093506maximum number of iterations reached 0.001750527 -1.809869e-06maximum number of iterations reached 0.001175807 -5.854462e-07maximum number of iterations reached 0.000422582 -3.654525e-07maximum number of iterations reached 0.0008154883 0.0007364233maximum number of iterations reached 0.0004704355 -2.325338e-07maximum number of iterations reached 0.0005076611 0.0004560352maximum number of iterations reached 0.0002153903 0.000194265maximum number of iterations reached 0.0004151387 0.0003743308maximum number of iterations reached 8.207236e-05 7.402793e-05maximum number of iterations reached 3.473144e-05 3.143441e-05maximum number of iterations reached 2.562162e-05 2.311087e-05maximum number of iterations reached 0.002933169 6.408409e-07maximum number of iterations reached 0.00236654 -1.158756e-07maximum number of iterations reached 0.0005642261 0.0005095569maximum number of iterations reached 0.001499203 -6.264943e-08maximum number of iterations reached -6.259018e-05 -5.659063e-05maximum number of iterations reached 0.002274203 -6.640947e-07maximum number of iterations reached 0.001427829 0.001289389maximum number of iterations reached 0.002811725 -1.080184e-06maximum number of iterations reached 0.0003360546 0.0003034968maximum number of iterations reached 0.001180267 -2.595219e-08maximum number of iterations reached 0.0002696838 -0.0002435578"
     ]
    },
    {
     "name": "stderr",
     "output_type": "stream",
     "text": [
      "Warning message:\n",
      "\"Setting row names on a tibble is deprecated.\"\n",
      "Warning message in preProcess.default(thresh = 0.95, k = 5, freqCut = 19, uniqueCut = 10, :\n",
      "\"These variables have zero variances: cell_57\"\n",
      "Warning message in .local(x, ...):\n",
      "\"Variable(s) `' constant. Cannot scale data.\"\n"
     ]
    },
    {
     "name": "stdout",
     "output_type": "stream",
     "text": [
      "maximum number of iterations reached 0.0005206674 -0.0004694344maximum number of iterations reached 0.001273146 -7.672638e-07maximum number of iterations reached 0.0007071317 -5.836067e-08maximum number of iterations reached 0.001231305 -9.861361e-07maximum number of iterations reached 0.001680424 0.001516644maximum number of iterations reached 0.001126728 -6.117788e-07maximum number of iterations reached 0.004065297 0.003611874maximum number of iterations reached -4.591875e-05 -4.142324e-05maximum number of iterations reached 0.0001309712 0.0001181307maximum number of iterations reached 0.0002616793 0.0002359996maximum number of iterations reached 0.0001178924 0.0001063365maximum number of iterations reached 2.253126e-05 2.039257e-05maximum number of iterations reached 7.040768e-05 6.350798e-05maximum number of iterations reached 0.002660004 5.378915e-07maximum number of iterations reached 0.001350069 1.140919e-08maximum number of iterations reached 0.0004897154 0.000442268maximum number of iterations reached 0.001592408 -1.060201e-07maximum number of iterations reached -6.502988e-05 -5.879658e-05maximum number of iterations reached 0.00219529 -6.658893e-07maximum number of iterations reached 0.001562166 0.001410751maximum number of iterations reached 0.002697187 -8.430652e-07maximum number of iterations reached 0.0001031721 9.317593e-05maximum number of iterations reached 0.0006143283 -3.218049e-08maximum number of iterations reached 0.0002153237 -0.0001944641"
     ]
    },
    {
     "name": "stderr",
     "output_type": "stream",
     "text": [
      "Warning message:\n",
      "\"Setting row names on a tibble is deprecated.\"\n",
      "Warning message in preProcess.default(thresh = 0.95, k = 5, freqCut = 19, uniqueCut = 10, :\n",
      "\"These variables have zero variances: cell_57\"\n",
      "Warning message in .local(x, ...):\n",
      "\"Variable(s) `' constant. Cannot scale data.\"\n"
     ]
    },
    {
     "name": "stdout",
     "output_type": "stream",
     "text": [
      "maximum number of iterations reached 0.0001041285 -9.392247e-05maximum number of iterations reached 0.00132002 -5.234335e-07maximum number of iterations reached 0.001988924 -1.222563e-06maximum number of iterations reached 0.001554353 -9.767586e-07maximum number of iterations reached 0.001260828 0.001138362maximum number of iterations reached 0.000815348 -2.76974e-07maximum number of iterations reached 0.0005261067 0.0004712694maximum number of iterations reached -1.052902e-05 9.508362e-06maximum number of iterations reached -6.361171e-05 -5.738403e-05maximum number of iterations reached 8.78435e-05 7.923459e-05maximum number of iterations reached 0.000242203 0.0002184402maximum number of iterations reached 6.970539e-05 6.287456e-05maximum number of iterations reached -6.466145e-05 -5.852593e-05maximum number of iterations reached 1.153792e-05 1.040752e-05maximum number of iterations reached 0.003336344 4.616828e-07maximum number of iterations reached 0.00141076 -7.975247e-08maximum number of iterations reached 0.0003005017 0.0002713861maximum number of iterations reached 0.0009865487 -1.182386e-07maximum number of iterations reached -7.048951e-05 -6.373309e-05maximum number of iterations reached 0.001745679 -3.191695e-07maximum number of iterations reached 0.001131308 0.001021674maximum number of iterations reached 0.001942513 -5.004392e-07maximum number of iterations reached 0.0002909477 0.0002627615maximum number of iterations reached 0.0008202485 -5.133725e-09maximum number of iterations reached 0.000184655 -0.0001667664"
     ]
    },
    {
     "name": "stderr",
     "output_type": "stream",
     "text": [
      "Warning message:\n",
      "\"Setting row names on a tibble is deprecated.\"\n",
      "Warning message in preProcess.default(thresh = 0.95, k = 5, freqCut = 19, uniqueCut = 10, :\n",
      "\"These variables have zero variances: cell_57\"\n",
      "Warning message in .local(x, ...):\n",
      "\"Variable(s) `' constant. Cannot scale data.\"\n"
     ]
    },
    {
     "name": "stdout",
     "output_type": "stream",
     "text": [
      "maximum number of iterations reached 0.0003029831 -0.0002732458maximum number of iterations reached 0.001127077 -2.889217e-07maximum number of iterations reached 0.001740364 -3.565354e-07maximum number of iterations reached 0.0009226386 -5.110163e-07maximum number of iterations reached 0.001349538 0.001218518maximum number of iterations reached 0.001548804 -6.709499e-07maximum number of iterations reached 0.0001815474 0.000163266maximum number of iterations reached -1.077624e-05 9.731645e-06maximum number of iterations reached -3.539505e-05 -3.192993e-05maximum number of iterations reached -2.754747e-05 -2.484851e-05maximum number of iterations reached 0.0002480231 0.0002236887maximum number of iterations reached 6.599603e-05 5.952879e-05maximum number of iterations reached -1.853097e-05 -1.671538e-05maximum number of iterations reached 0.002017212 2.606259e-07maximum number of iterations reached 0.001213185 -5.398486e-08maximum number of iterations reached 0.0004272269 0.0003858368maximum number of iterations reached 0.001145809 -5.244049e-08maximum number of iterations reached -6.854673e-05 -6.197648e-05maximum number of iterations reached 0.001567294 -2.266189e-07maximum number of iterations reached 0.0009437172 0.0008522757maximum number of iterations reached 0.001936596 -3.604335e-07maximum number of iterations reached 6.968564e-05 6.293428e-05maximum number of iterations reached 0.0006444309 -8.075632e-09maximum number of iterations reached 0.0001537093 -0.0001388187"
     ]
    },
    {
     "name": "stderr",
     "output_type": "stream",
     "text": [
      "Warning message:\n",
      "\"Setting row names on a tibble is deprecated.\"\n",
      "Warning message in preProcess.default(thresh = 0.95, k = 5, freqCut = 19, uniqueCut = 10, :\n",
      "\"These variables have zero variances: cell_57\"\n",
      "Warning message in .local(x, ...):\n",
      "\"Variable(s) `' constant. Cannot scale data.\"\n"
     ]
    },
    {
     "name": "stdout",
     "output_type": "stream",
     "text": [
      "maximum number of iterations reached 0.0002838765 -0.0002560176maximum number of iterations reached 0.001761714 -5.780676e-07maximum number of iterations reached 0.001592927 -2.258443e-07maximum number of iterations reached 0.001181524 -3.002325e-07maximum number of iterations reached 0.0009477896 0.0008558962maximum number of iterations reached 0.0005117158 -2.310438e-07maximum number of iterations reached 0.0002293512 0.0002063494maximum number of iterations reached -1.392691e-05 1.257685e-05maximum number of iterations reached -6.862313e-05 -6.190501e-05maximum number of iterations reached 4.183164e-05 3.773272e-05maximum number of iterations reached 0.0001612308 0.0001454225maximum number of iterations reached 3.938167e-05 3.55229e-05maximum number of iterations reached -2.328444e-05 -2.107482e-05maximum number of iterations reached -3.029197e-05 -2.732419e-05maximum number of iterations reached 0.00177435 2.916951e-07maximum number of iterations reached 0.0009147433 -4.648927e-08maximum number of iterations reached 0.0003154081 0.0002848511maximum number of iterations reached 0.0005389959 -7.007631e-09maximum number of iterations reached -7.004536e-05 -6.333153e-05maximum number of iterations reached 0.001746936 -2.389355e-07maximum number of iterations reached 0.000614279 0.000554759maximum number of iterations reached 0.001584583 -1.69967e-07maximum number of iterations reached 0.0001488943 0.0001344697maximum number of iterations reached 0.0005396356 -5.993438e-09maximum number of iterations reached 0.000130822 -0.0001181486"
     ]
    },
    {
     "name": "stderr",
     "output_type": "stream",
     "text": [
      "Warning message:\n",
      "\"Setting row names on a tibble is deprecated.\"\n",
      "Warning message in preProcess.default(thresh = 0.95, k = 5, freqCut = 19, uniqueCut = 10, :\n",
      "\"These variables have zero variances: cell_57\"\n",
      "Warning message in .local(x, ...):\n",
      "\"Variable(s) `' constant. Cannot scale data.\"\n"
     ]
    },
    {
     "name": "stdout",
     "output_type": "stream",
     "text": [
      "maximum number of iterations reached 0.0002291207 -0.0002066436maximum number of iterations reached 0.0009601427 -3.967644e-07maximum number of iterations reached 0.001875386 -3.395625e-07maximum number of iterations reached 0.001284277 -3.516727e-07maximum number of iterations reached 0.0003509155 0.0003169093maximum number of iterations reached 0.0007386192 -3.084516e-07maximum number of iterations reached 0.001244004 0.001114754maximum number of iterations reached -1.192575e-05 1.076973e-05maximum number of iterations reached -5.494322e-05 -4.956443e-05maximum number of iterations reached 2.365571e-05 2.133776e-05maximum number of iterations reached 0.0001356996 0.0001223969maximum number of iterations reached 1.263295e-05 1.139523e-05maximum number of iterations reached -6.713652e-05 -6.07665e-05maximum number of iterations reached -3.491862e-05 -3.149765e-05maximum number of iterations reached 0.0008776499 9.538648e-08maximum number of iterations reached 0.0008352666 -3.587256e-08maximum number of iterations reached 0.0002955917 0.0002669554maximum number of iterations reached 0.0006310432 -3.397411e-08maximum number of iterations reached -7.149805e-05 -6.464504e-05maximum number of iterations reached 0.001551413 -1.358647e-07maximum number of iterations reached 0.000639409 0.0005774589maximum number of iterations reached 0.001321069 -1.377613e-07maximum number of iterations reached 0.0001468848 0.0001326552maximum number of iterations reached 0.0004666596 -2.124136e-09maximum number of iterations reached 0.0001003102 -9.05926e-05"
     ]
    },
    {
     "name": "stderr",
     "output_type": "stream",
     "text": [
      "Warning message:\n",
      "\"Setting row names on a tibble is deprecated.\"\n",
      "Warning message in preProcess.default(thresh = 0.95, k = 5, freqCut = 19, uniqueCut = 10, :\n",
      "\"These variables have zero variances: cell_57\"\n",
      "Warning message in .local(x, ...):\n",
      "\"Variable(s) `' constant. Cannot scale data.\"\n"
     ]
    },
    {
     "name": "stdout",
     "output_type": "stream",
     "text": [
      "maximum number of iterations reached 2.122537e-05 -1.914573e-05maximum number of iterations reached 0.001205533 -1.820749e-07maximum number of iterations reached 0.001006109 -2.413628e-07maximum number of iterations reached 0.001077656 -1.917971e-07maximum number of iterations reached 0.0008012244 0.0007235785maximum number of iterations reached 0.001040741 -2.02279e-07maximum number of iterations reached 0.0007078202 0.0006324654maximum number of iterations reached -1.502047e-05 1.356446e-05maximum number of iterations reached -6.36389e-05 -5.740885e-05maximum number of iterations reached 4.163783e-05 3.755787e-05maximum number of iterations reached 0.0001278237 0.0001152935maximum number of iterations reached -1.984779e-05 -1.790338e-05maximum number of iterations reached -3.69135e-05 -3.34108e-05maximum number of iterations reached -3.991312e-05 -3.600312e-05maximum number of iterations reached 0.0009370959 6.713237e-08maximum number of iterations reached 0.0005676627 -7.523866e-09maximum number of iterations reached 0.0002953044 0.0002666966maximum number of iterations reached 0.0006892355 -2.514189e-08maximum number of iterations reached -7.138656e-05 -6.454423e-05maximum number of iterations reached 0.0007862427 -7.863052e-08maximum number of iterations reached 0.0004612434 0.0004165554maximum number of iterations reached 0.0007967625 -8.548e-08maximum number of iterations reached 0.0001182674 0.0001068101maximum number of iterations reached 0.0004037968 2.711116e-10maximum number of iterations reached 8.621531e-05 -7.786319e-05"
     ]
    },
    {
     "name": "stderr",
     "output_type": "stream",
     "text": [
      "Warning message:\n",
      "\"Setting row names on a tibble is deprecated.\"\n",
      "Warning message in preProcess.default(thresh = 0.95, k = 5, freqCut = 19, uniqueCut = 10, :\n",
      "\"These variables have zero variances: cell_57\"\n",
      "Warning message in .local(x, ...):\n",
      "\"Variable(s) `' constant. Cannot scale data.\"\n"
     ]
    },
    {
     "name": "stdout",
     "output_type": "stream",
     "text": [
      "maximum number of iterations reached 0.000153382 -0.0001383438maximum number of iterations reached 0.0006355829 -1.869805e-07maximum number of iterations reached 0.001400722 -1.536017e-07maximum number of iterations reached 0.0005659261 -1.761974e-07maximum number of iterations reached 0.0001955601 0.0001766104maximum number of iterations reached 0.00115578 -2.037637e-07maximum number of iterations reached 0.001027656 0.0009177036maximum number of iterations reached -1.420109e-05 1.282456e-05maximum number of iterations reached -7.143969e-05 -6.444598e-05maximum number of iterations reached 1.449704e-05 1.307666e-05maximum number of iterations reached 4.985127e-05 4.496636e-05maximum number of iterations reached -4.105213e-05 -3.703037e-05maximum number of iterations reached -7.45692e-05 -6.749427e-05maximum number of iterations reached -2.408156e-05 -2.172239e-05maximum number of iterations reached 0.0008943709 5.01909e-08maximum number of iterations reached 0.0002275878 -9.279996e-09maximum number of iterations reached 0.0001520456 0.0001373156maximum number of iterations reached 0.0004290487 -1.240607e-08maximum number of iterations reached -7.249806e-05 -6.554924e-05maximum number of iterations reached 0.0006671912 -7.012824e-08maximum number of iterations reached 0.0003851799 0.0003478623maximum number of iterations reached 0.0006961672 -4.786195e-08maximum number of iterations reached 8.116858e-05 7.330527e-05maximum number of iterations reached 0.000310404 -2.1992e-10"
     ]
    },
    {
     "name": "stderr",
     "output_type": "stream",
     "text": [
      "Warning message:\n",
      "\"Setting row names on a tibble is deprecated.\"\n",
      "Warning message in preProcess.default(thresh = 0.95, k = 5, freqCut = 19, uniqueCut = 10, :\n",
      "\"These variables have zero variances: cell_57\"\n",
      "Warning message in .local(x, ...):\n",
      "\"Variable(s) `' constant. Cannot scale data.\"\n"
     ]
    },
    {
     "name": "stdout",
     "output_type": "stream",
     "text": [
      "maximum number of iterations reached 0.0001145334 -0.0001033068maximum number of iterations reached 0.00121376 -1.501689e-07maximum number of iterations reached 0.0008900348 -1.968179e-07maximum number of iterations reached 0.001039525 -1.46794e-07maximum number of iterations reached 0.0005006107 0.0004521082maximum number of iterations reached 0.001029045 -1.447586e-07maximum number of iterations reached 0.0004353317 0.0003908108maximum number of iterations reached -1.505146e-05 1.359252e-05maximum number of iterations reached -6.374371e-05 -5.750348e-05maximum number of iterations reached -9.962555e-06 -8.986527e-06maximum number of iterations reached 2.290297e-05 2.065885e-05maximum number of iterations reached -3.240713e-05 -2.923238e-05maximum number of iterations reached -5.0846e-05 -4.602155e-05maximum number of iterations reached -4.86245e-05 -4.386119e-05maximum number of iterations reached 0.0006799514 2.410541e-08maximum number of iterations reached 0.0002452475 -8.709199e-09maximum number of iterations reached 0.0001549264 0.0001399176maximum number of iterations reached 0.0002824824 -1.222413e-08maximum number of iterations reached -7.28609e-05 -6.587733e-05maximum number of iterations reached 0.0009220077 -5.582067e-08maximum number of iterations reached 0.0003752013 0.000338852maximum number of iterations reached 0.0007241714 -6.151649e-08maximum number of iterations reached 4.310154e-05 3.8926e-05maximum number of iterations reached 0.0002531988 3.700136e-10maximum number of iterations reached 5.582836e-05 -5.041999e-05"
     ]
    },
    {
     "name": "stderr",
     "output_type": "stream",
     "text": [
      "Warning message:\n",
      "\"Setting row names on a tibble is deprecated.\"\n",
      "Warning message in preProcess.default(thresh = 0.95, k = 5, freqCut = 19, uniqueCut = 10, :\n",
      "\"These variables have zero variances: cell_57\"\n",
      "Warning message in .local(x, ...):\n",
      "\"Variable(s) `' constant. Cannot scale data.\"\n"
     ]
    },
    {
     "name": "stdout",
     "output_type": "stream",
     "text": [
      "maximum number of iterations reached 6.743656e-05 -6.082771e-05maximum number of iterations reached 0.000519007 -1.094889e-07maximum number of iterations reached 0.001327752 -9.706795e-08maximum number of iterations reached 0.0008588972 -1.189223e-07maximum number of iterations reached 0.0001161606 0.0001049055maximum number of iterations reached 0.0008263114 -1.117819e-07maximum number of iterations reached 5.047915e-05 4.556533e-05maximum number of iterations reached -1.614627e-05 1.458119e-05maximum number of iterations reached -6.231865e-05 -5.621795e-05maximum number of iterations reached -2.2288e-05 -2.010451e-05maximum number of iterations reached -5.571008e-05 -5.025251e-05maximum number of iterations reached -5.753741e-05 -5.207822e-05maximum number of iterations reached -5.311641e-05 -4.79131e-05maximum number of iterations reached 0.000644451 2.658697e-08maximum number of iterations reached 0.0002352921 -5.86364e-09maximum number of iterations reached 0.0001095241 9.891373e-05maximum number of iterations reached 0.0002535226 -1.737985e-09maximum number of iterations reached -7.258641e-05 -6.562914e-05maximum number of iterations reached 0.0003111352 -2.523382e-08maximum number of iterations reached 0.0003749937 0.0003386659maximum number of iterations reached 0.0007277888 -4.070832e-08maximum number of iterations reached 1.924775e-05 1.738309e-05maximum number of iterations reached 0.0002027683 -3.930666e-10maximum number of iterations reached 4.496654e-05 -4.06104e-05"
     ]
    },
    {
     "name": "stderr",
     "output_type": "stream",
     "text": [
      "Warning message:\n",
      "\"Setting row names on a tibble is deprecated.\"\n",
      "Warning message in preProcess.default(thresh = 0.95, k = 5, freqCut = 19, uniqueCut = 10, :\n",
      "\"These variables have zero variances: cell_57\"\n",
      "Warning message in .local(x, ...):\n",
      "\"Variable(s) `' constant. Cannot scale data.\"\n"
     ]
    },
    {
     "name": "stdout",
     "output_type": "stream",
     "text": [
      "maximum number of iterations reached 5.82569e-05 -5.254809e-05maximum number of iterations reached 0.0008302329 -7.630169e-08maximum number of iterations reached 0.0004533956 -7.473239e-08maximum number of iterations reached 0.0002450651 -4.704424e-08maximum number of iterations reached 0.0004348395 0.000392713maximum number of iterations reached 0.000719237 -6.554305e-08maximum number of iterations reached 0.0005060214 0.0004535651maximum number of iterations reached -1.606611e-05 1.45088e-05maximum number of iterations reached -6.447862e-05 -5.816649e-05maximum number of iterations reached -2.168673e-05 -1.956214e-05maximum number of iterations reached 1.519049e-05 1.370215e-05maximum number of iterations reached -5.207744e-05 -4.697588e-05maximum number of iterations reached -7.568619e-05 -6.850544e-05maximum number of iterations reached -4.713927e-05 -4.252142e-05maximum number of iterations reached 0.0005474599 1.169733e-08maximum number of iterations reached 0.000176632 -4.537699e-09maximum number of iterations reached 4.652451e-05 4.20173e-05maximum number of iterations reached 0.0001217365 -3.675549e-09maximum number of iterations reached -7.27033e-05 -6.573483e-05maximum number of iterations reached 0.0005506384 -1.376634e-08maximum number of iterations reached 0.000189533 0.000171171maximum number of iterations reached 0.0003700349 -2.198867e-08maximum number of iterations reached 5.012426e-05 4.526846e-05maximum number of iterations reached 0.0001044105 -7.740834e-10"
     ]
    },
    {
     "name": "stderr",
     "output_type": "stream",
     "text": [
      "Warning message:\n",
      "\"Setting row names on a tibble is deprecated.\"\n",
      "Warning message in preProcess.default(thresh = 0.95, k = 5, freqCut = 19, uniqueCut = 10, :\n",
      "\"These variables have zero variances: cell_57\"\n",
      "Warning message in .local(x, ...):\n",
      "\"Variable(s) `' constant. Cannot scale data.\"\n"
     ]
    },
    {
     "name": "stdout",
     "output_type": "stream",
     "text": [
      "maximum number of iterations reached -3.051869e-05 2.752892e-05maximum number of iterations reached 0.0007431806 -5.322276e-08maximum number of iterations reached 0.0003377391 -4.255951e-08maximum number of iterations reached 0.0006984362 -6.379727e-08maximum number of iterations reached 0.000341745 0.0003086375maximum number of iterations reached 0.0006277479 -4.702477e-08maximum number of iterations reached 0.0001803587 0.0001626655maximum number of iterations reached -1.564135e-05 1.412525e-05maximum number of iterations reached -6.609987e-05 -5.962903e-05maximum number of iterations reached -3.379258e-05 -3.04821e-05maximum number of iterations reached -2.709545e-05 -2.444095e-05maximum number of iterations reached -5.076999e-05 -4.579649e-05maximum number of iterations reached -6.328416e-05 -5.727988e-05maximum number of iterations reached -5.23417e-05 -4.721424e-05maximum number of iterations reached 0.0005803403 8.815096e-09maximum number of iterations reached 0.0002362163 -3.156542e-09maximum number of iterations reached 4.993014e-05 4.509305e-05maximum number of iterations reached 0.0001653144 -3.353728e-09maximum number of iterations reached -7.298045e-05 -6.598543e-05maximum number of iterations reached 0.0004452644 -1.798292e-08maximum number of iterations reached 0.0001704851 0.0001539688maximum number of iterations reached 0.0003146509 -1.806069e-08maximum number of iterations reached 4.098585e-05 3.701534e-05maximum number of iterations reached 0.0001194534 -1.597951e-10maximum number of iterations reached 2.929884e-05 -2.646051e-05"
     ]
    },
    {
     "name": "stderr",
     "output_type": "stream",
     "text": [
      "Warning message:\n",
      "\"Setting row names on a tibble is deprecated.\"\n",
      "Warning message in preProcess.default(thresh = 0.95, k = 5, freqCut = 19, uniqueCut = 10, :\n",
      "\"These variables have zero variances: cell_57\"\n",
      "Warning message in .local(x, ...):\n",
      "\"Variable(s) `' constant. Cannot scale data.\"\n"
     ]
    },
    {
     "name": "stdout",
     "output_type": "stream",
     "text": [
      "maximum number of iterations reached 2.104064e-05 -1.897907e-05maximum number of iterations reached 0.0002217762 -3.196772e-08maximum number of iterations reached 0.0007560883 -2.281196e-08maximum number of iterations reached 0.0005959518 -4.304124e-08maximum number of iterations reached 4.119014e-05 3.719939e-05maximum number of iterations reached 0.0001696773 -2.582962e-08maximum number of iterations reached 0.0003986767 0.0003582908maximum number of iterations reached -1.590924e-05 1.436717e-05maximum number of iterations reached -6.894391e-05 -6.219466e-05maximum number of iterations reached -4.979923e-05 -4.492081e-05maximum number of iterations reached -1.955928e-05 -1.764305e-05maximum number of iterations reached -5.588469e-05 -5.041019e-05maximum number of iterations reached -7.556796e-05 -6.839849e-05maximum number of iterations reached -6.261071e-05 -5.647739e-05maximum number of iterations reached 0.0004628079 3.60856e-09maximum number of iterations reached 0.0001529028 -7.267041e-10maximum number of iterations reached 7.342693e-05 6.631367e-05maximum number of iterations reached 0.0001511686 -1.252056e-10maximum number of iterations reached -7.310619e-05 -6.609912e-05maximum number of iterations reached 0.0003714805 -1.174849e-08maximum number of iterations reached 0.0001577237 0.0001424439maximum number of iterations reached 0.0001275735 -4.72509e-09maximum number of iterations reached 2.595581e-05 2.344133e-05maximum number of iterations reached 7.033198e-05 -2.800467e-10maximum number of iterations reached 2.280943e-05 -2.059977e-05"
     ]
    },
    {
     "name": "stderr",
     "output_type": "stream",
     "text": [
      "Warning message:\n",
      "\"Setting row names on a tibble is deprecated.\"\n",
      "Warning message in preProcess.default(thresh = 0.95, k = 5, freqCut = 19, uniqueCut = 10, :\n",
      "\"These variables have zero variances: cell_57\"\n",
      "Warning message in .local(x, ...):\n",
      "\"Variable(s) `' constant. Cannot scale data.\"\n"
     ]
    },
    {
     "name": "stdout",
     "output_type": "stream",
     "text": [
      "maximum number of iterations reached 0.0001877323 -2.250936e-08maximum number of iterations reached 0.0005724309 -1.782099e-08maximum number of iterations reached 0.0001065559 -1.352267e-08maximum number of iterations reached 0.0002502195 0.0002259793maximum number of iterations reached 0.0004690623 -3.06358e-08maximum number of iterations reached 0.0005459347 0.0004900922maximum number of iterations reached -1.595567e-05 1.440911e-05maximum number of iterations reached -7.096655e-05 -6.40193e-05maximum number of iterations reached -4.700812e-05 -4.24031e-05maximum number of iterations reached -2.723632e-05 -2.456807e-05maximum number of iterations reached -5.878849e-05 -5.302955e-05maximum number of iterations reached -6.768248e-05 -6.126102e-05maximum number of iterations reached -5.966194e-05 -5.381744e-05maximum number of iterations reached 0.000370361 5.14815e-09maximum number of iterations reached 9.058474e-05 -6.612527e-10maximum number of iterations reached 6.028155e-05 5.444177e-05maximum number of iterations reached 7.731802e-05 -1.84197e-10maximum number of iterations reached -7.321432e-05 -6.619689e-05maximum number of iterations reached 0.0002459545 -3.333548e-09maximum number of iterations reached 0.0001143024 0.0001032292maximum number of iterations reached 0.0002694729 -4.66199e-09maximum number of iterations reached 6.881838e-05 -3.823497e-11"
     ]
    },
    {
     "name": "stderr",
     "output_type": "stream",
     "text": [
      "Warning message:\n",
      "\"Setting row names on a tibble is deprecated.\"\n",
      "Warning message in preProcess.default(thresh = 0.95, k = 5, freqCut = 19, uniqueCut = 10, :\n",
      "\"These variables have zero variances: cell_57\"\n",
      "Warning message in .local(x, ...):\n",
      "\"Variable(s) `' constant. Cannot scale data.\"\n"
     ]
    },
    {
     "name": "stdout",
     "output_type": "stream",
     "text": [
      "maximum number of iterations reached 0.0003845819 -1.634532e-08maximum number of iterations reached 0.0004939118 -1.825314e-08maximum number of iterations reached 0.0001039733 -1.145134e-08maximum number of iterations reached 4.373399e-05 3.949696e-05maximum number of iterations reached 0.0004162277 -2.11301e-08maximum number of iterations reached 0.0008065755 0.0007234565maximum number of iterations reached -1.621058e-05 1.463932e-05maximum number of iterations reached -7.135981e-05 -6.437406e-05maximum number of iterations reached -6.212958e-05 -5.604338e-05maximum number of iterations reached -4.37649e-05 -3.947756e-05maximum number of iterations reached -6.819136e-05 -6.151132e-05maximum number of iterations reached -6.983712e-05 -6.321129e-05maximum number of iterations reached -7.249968e-05 -6.539764e-05maximum number of iterations reached 0.0002529393 3.376938e-09maximum number of iterations reached 0.0001230206 -8.123555e-10maximum number of iterations reached 3.022763e-05 2.72993e-05maximum number of iterations reached 0.0001100173 -5.763461e-10maximum number of iterations reached -7.311272e-05 -6.610503e-05maximum number of iterations reached 0.000252356 -4.700394e-09maximum number of iterations reached 0.0001220768 0.0001102506maximum number of iterations reached 0.0001235908 -3.059132e-09maximum number of iterations reached 1.603584e-05 1.448236e-05maximum number of iterations reached 1.043164e-05 1.860256e-11maximum number of iterations reached 1.475481e-05 -1.332544e-05"
     ]
    },
    {
     "name": "stderr",
     "output_type": "stream",
     "text": [
      "Warning message:\n",
      "\"Setting row names on a tibble is deprecated.\"\n",
      "Warning message in preProcess.default(thresh = 0.95, k = 5, freqCut = 19, uniqueCut = 10, :\n",
      "\"These variables have zero variances: cell_57\"\n",
      "Warning message in .local(x, ...):\n",
      "\"Variable(s) `' constant. Cannot scale data.\"\n"
     ]
    },
    {
     "name": "stdout",
     "output_type": "stream",
     "text": [
      "maximum number of iterations reached -5.892694e-05 5.315444e-05maximum number of iterations reached 0.0003911476 -1.468159e-08maximum number of iterations reached 0.0001961083 -1.391631e-08maximum number of iterations reached 0.0001005638 -8.970598e-09maximum number of iterations reached 2.361004e-05 2.132267e-05maximum number of iterations reached 5.944716e-05 -5.165014e-09maximum number of iterations reached 0.0006873959 0.000619329maximum number of iterations reached -1.6601e-05 1.49919e-05maximum number of iterations reached -7.074551e-05 -6.381991e-05maximum number of iterations reached -5.75912e-05 -5.194953e-05maximum number of iterations reached -3.870509e-05 -3.491338e-05maximum number of iterations reached -6.398786e-05 -5.771964e-05maximum number of iterations reached -7.63891e-05 -6.914179e-05maximum number of iterations reached -6.747253e-05 -6.086299e-05maximum number of iterations reached 0.0001597374 1.15258e-09maximum number of iterations reached 6.781242e-05 -2.089934e-10maximum number of iterations reached 3.694581e-05 3.336669e-05maximum number of iterations reached 8.648806e-05 -4.852452e-10maximum number of iterations reached -7.315867e-05 -6.614657e-05maximum number of iterations reached 0.0001915108 -3.305611e-09maximum number of iterations reached 9.00929e-05 8.136511e-05maximum number of iterations reached 9.065853e-05 -2.141396e-09maximum number of iterations reached 1.101637e-05 9.949161e-06maximum number of iterations reached 2.55982e-05 9.362427e-11maximum number of iterations reached 1.148706e-05 -1.037425e-05"
     ]
    },
    {
     "name": "stderr",
     "output_type": "stream",
     "text": [
      "Warning message:\n",
      "\"Setting row names on a tibble is deprecated.\"\n",
      "Warning message in preProcess.default(thresh = 0.95, k = 5, freqCut = 19, uniqueCut = 10, :\n",
      "\"These variables have zero variances: cell_57\"\n",
      "Warning message in .local(x, ...):\n",
      "\"Variable(s) `' constant. Cannot scale data.\"\n"
     ]
    },
    {
     "name": "stdout",
     "output_type": "stream",
     "text": [
      "maximum number of iterations reached -2.91848e-05 2.632567e-05maximum number of iterations reached 7.879989e-05 -5.63417e-09maximum number of iterations reached 0.0003272785 -7.876624e-09maximum number of iterations reached 0.0002757485 -1.051624e-08maximum number of iterations reached 0.0001360405 0.0001228615maximum number of iterations reached 0.0002773656 -9.940188e-09maximum number of iterations reached 0.000470003 0.0004242665maximum number of iterations reached -1.657014e-05 1.496403e-05maximum number of iterations reached -7.174532e-05 -6.472184e-05maximum number of iterations reached -6.812598e-05 -6.145237e-05maximum number of iterations reached -6.084057e-05 -5.488056e-05maximum number of iterations reached -6.606602e-05 -5.959424e-05maximum number of iterations reached -7.648419e-05 -6.922787e-05maximum number of iterations reached -6.611469e-05 -5.963814e-05maximum number of iterations reached 0.0001880943 1.335332e-09maximum number of iterations reached 6.479014e-05 -2.593989e-10maximum number of iterations reached 2.884994e-05 2.60551e-05maximum number of iterations reached 2.125546e-05 -1.104027e-10maximum number of iterations reached -7.318654e-05 -6.617177e-05maximum number of iterations reached 0.0001522783 -1.643053e-09maximum number of iterations reached 6.935169e-05 6.263322e-05maximum number of iterations reached 0.0001306875 -1.767635e-09maximum number of iterations reached 3.241377e-05 -3.010869e-12"
     ]
    },
    {
     "name": "stderr",
     "output_type": "stream",
     "text": [
      "Warning message:\n",
      "\"Setting row names on a tibble is deprecated.\"\n",
      "Warning message in preProcess.default(thresh = 0.95, k = 5, freqCut = 19, uniqueCut = 10, :\n",
      "\"These variables have zero variances: cell_57\"\n",
      "Warning message in .local(x, ...):\n",
      "\"Variable(s) `' constant. Cannot scale data.\"\n"
     ]
    },
    {
     "name": "stdout",
     "output_type": "stream",
     "text": [
      "maximum number of iterations reached -3.96764e-05 3.578951e-05maximum number of iterations reached 0.0002588275 -7.055887e-09maximum number of iterations reached 0.0002807126 -4.87857e-09maximum number of iterations reached 0.0002187496 -6.912542e-09maximum number of iterations reached 0.0001139899 0.0001029471maximum number of iterations reached 5.177718e-05 -3.235549e-09maximum number of iterations reached 0.0004719508 0.0004261981maximum number of iterations reached -1.688408e-05 1.524754e-05maximum number of iterations reached -7.143334e-05 -6.444041e-05maximum number of iterations reached -6.388759e-05 -5.762918e-05maximum number of iterations reached -5.598286e-05 -5.049872e-05maximum number of iterations reached -6.9272e-05 -6.248619e-05maximum number of iterations reached -7.330459e-05 -6.634989e-05maximum number of iterations reached -6.76914e-05 -6.106041e-05maximum number of iterations reached 0.0001146496 3.215463e-10maximum number of iterations reached 4.555929e-05 -1.746733e-10maximum number of iterations reached 2.031935e-05 1.835092e-05maximum number of iterations reached 3.77428e-05 -1.601805e-10maximum number of iterations reached -7.323519e-05 -6.621576e-05maximum number of iterations reached 5.671087e-05 -8.158505e-10maximum number of iterations reached 2.947835e-05 2.66226e-05maximum number of iterations reached 5.339556e-05 -8.039607e-10maximum number of iterations reached 1.543552e-05 -2.142725e-11"
     ]
    },
    {
     "name": "stderr",
     "output_type": "stream",
     "text": [
      "Warning message:\n",
      "\"Setting row names on a tibble is deprecated.\"\n",
      "Warning message in preProcess.default(thresh = 0.95, k = 5, freqCut = 19, uniqueCut = 10, :\n",
      "\"These variables have zero variances: cell_57\"\n",
      "Warning message in .local(x, ...):\n",
      "\"Variable(s) `' constant. Cannot scale data.\"\n"
     ]
    },
    {
     "name": "stdout",
     "output_type": "stream",
     "text": [
      "maximum number of iterations reached -4.284015e-05 3.864338e-05maximum number of iterations reached 0.0002017451 -4.835587e-09maximum number of iterations reached 0.0002206274 -3.306396e-09maximum number of iterations reached 4.221903e-05 -2.19674e-09maximum number of iterations reached 1.422378e-05 1.284581e-05maximum number of iterations reached 3.878806e-05 -2.072266e-09maximum number of iterations reached 0.0008869472 0.0007992655maximum number of iterations reached -1.689331e-05 1.525588e-05maximum number of iterations reached -7.165208e-05 -6.463773e-05maximum number of iterations reached -6.826088e-05 -6.15741e-05maximum number of iterations reached -6.434641e-05 -5.804302e-05maximum number of iterations reached -6.878718e-05 -6.204885e-05maximum number of iterations reached -7.402531e-05 -6.700225e-05maximum number of iterations reached -6.885727e-05 -6.211208e-05maximum number of iterations reached 0.0001153854 3.097876e-10maximum number of iterations reached 4.07483e-05 -1.097931e-10maximum number of iterations reached 1.599846e-05 1.444861e-05maximum number of iterations reached 2.272974e-05 -1.136796e-10maximum number of iterations reached -7.32272e-05 -6.620854e-05maximum number of iterations reached 8.043617e-05 -5.510024e-10maximum number of iterations reached 4.192125e-05 3.786012e-05maximum number of iterations reached 7.874157e-05 -5.048741e-10maximum number of iterations reached 2.000145e-05 2.722877e-12"
     ]
    },
    {
     "name": "stderr",
     "output_type": "stream",
     "text": [
      "Warning message:\n",
      "\"Setting row names on a tibble is deprecated.\"\n",
      "Warning message in preProcess.default(thresh = 0.95, k = 5, freqCut = 19, uniqueCut = 10, :\n",
      "\"These variables have zero variances: cell_57\"\n",
      "Warning message in .local(x, ...):\n",
      "\"Variable(s) `' constant. Cannot scale data.\"\n"
     ]
    },
    {
     "name": "stdout",
     "output_type": "stream",
     "text": [
      "maximum number of iterations reached -4.867073e-05 4.390283e-05maximum number of iterations reached 0.000149316 -2.742955e-09maximum number of iterations reached 0.0001699324 -2.371651e-09maximum number of iterations reached 1.926005e-05 -8.350945e-10maximum number of iterations reached 1.155905e-05 1.043923e-05maximum number of iterations reached 0.0001391496 -2.925783e-09maximum number of iterations reached 0.0007867352 0.0007099132maximum number of iterations reached -1.679095e-05 1.516344e-05maximum number of iterations reached -7.211029e-05 -6.505109e-05maximum number of iterations reached -6.990617e-05 -6.305821e-05maximum number of iterations reached -6.362553e-05 -5.739279e-05maximum number of iterations reached -6.97653e-05 -6.293116e-05maximum number of iterations reached -7.476209e-05 -6.766915e-05maximum number of iterations reached -6.988312e-05 -6.303744e-05maximum number of iterations reached 5.266346e-05 3.777491e-10maximum number of iterations reached 2.725365e-05 -1.300066e-11maximum number of iterations reached 1.320259e-05 1.192359e-05maximum number of iterations reached 2.757613e-05 -5.722334e-11maximum number of iterations reached -7.32383e-05 -6.621858e-05maximum number of iterations reached 5.711957e-05 -3.818752e-10maximum number of iterations reached 3.332856e-05 3.009985e-05maximum number of iterations reached 4.343805e-05 -3.578118e-10"
     ]
    },
    {
     "name": "stderr",
     "output_type": "stream",
     "text": [
      "Warning message:\n",
      "\"Setting row names on a tibble is deprecated.\"\n",
      "Warning message in preProcess.default(thresh = 0.95, k = 5, freqCut = 19, uniqueCut = 10, :\n",
      "\"These variables have zero variances: cell_57\"\n",
      "Warning message in .local(x, ...):\n",
      "\"Variable(s) `' constant. Cannot scale data.\"\n"
     ]
    },
    {
     "name": "stdout",
     "output_type": "stream",
     "text": [
      "maximum number of iterations reached -5.31734e-05 4.796445e-05maximum number of iterations reached 0.0001321466 -2.062404e-09maximum number of iterations reached 5.928893e-05 -1.785959e-09maximum number of iterations reached 2.179281e-05 -7.732273e-10maximum number of iterations reached 6.110444e-05 5.518494e-05maximum number of iterations reached 0.0001178791 -1.876333e-09maximum number of iterations reached 0.0006531776 0.0005903283maximum number of iterations reached -1.686515e-05 1.523045e-05maximum number of iterations reached -7.191786e-05 -6.48775e-05maximum number of iterations reached -7.003458e-05 -6.317407e-05maximum number of iterations reached -6.706083e-05 -6.049159e-05maximum number of iterations reached -7.202452e-05 -6.496907e-05maximum number of iterations reached -7.668114e-05 -6.940617e-05maximum number of iterations reached -7.138477e-05 -6.439201e-05maximum number of iterations reached 4.160453e-05 1.469481e-10maximum number of iterations reached 1.981833e-05 -2.771411e-11maximum number of iterations reached 2.282892e-05 -2.546952e-11maximum number of iterations reached -7.323431e-05 -6.621497e-05maximum number of iterations reached 4.958528e-05 -2.618702e-10maximum number of iterations reached 1.591248e-05 1.437095e-05maximum number of iterations reached 3.088053e-05 -1.126167e-10"
     ]
    },
    {
     "name": "stderr",
     "output_type": "stream",
     "text": [
      "Warning message:\n",
      "\"Setting row names on a tibble is deprecated.\"\n",
      "Warning message in preProcess.default(thresh = 0.95, k = 5, freqCut = 19, uniqueCut = 10, :\n",
      "\"These variables have zero variances: cell_57\"\n",
      "Warning message in .local(x, ...):\n",
      "\"Variable(s) `' constant. Cannot scale data.\"\n"
     ]
    },
    {
     "name": "stdout",
     "output_type": "stream",
     "text": [
      "maximum number of iterations reached -7.03202e-05 6.343171e-05maximum number of iterations reached 1.786463e-05 -5.103866e-10maximum number of iterations reached 0.0001313384 -1.383097e-09maximum number of iterations reached 1.308322e-05 -3.927156e-10maximum number of iterations reached 5.039365e-05 4.551177e-05maximum number of iterations reached 1.315187e-05 -3.865228e-10maximum number of iterations reached 0.0003360096 0.0003037317maximum number of iterations reached -1.689415e-05 1.525665e-05maximum number of iterations reached -7.193724e-05 -6.489499e-05maximum number of iterations reached -7.009287e-05 -6.322664e-05maximum number of iterations reached -6.672296e-05 -6.01868e-05maximum number of iterations reached -7.123744e-05 -6.42591e-05maximum number of iterations reached -7.550048e-05 -6.833751e-05maximum number of iterations reached -7.175864e-05 -6.472925e-05maximum number of iterations reached 2.932557e-05 8.460577e-11maximum number of iterations reached 1.642812e-05 -1.948658e-11maximum number of iterations reached 1.657649e-05 -1.976019e-11maximum number of iterations reached -7.323546e-05 -6.621601e-05maximum number of iterations reached 2.754608e-05 -1.148449e-10maximum number of iterations reached 2.08072e-05 -1.166726e-10"
     ]
    },
    {
     "name": "stderr",
     "output_type": "stream",
     "text": [
      "Warning message:\n",
      "\"Setting row names on a tibble is deprecated.\"\n",
      "Warning message in preProcess.default(thresh = 0.95, k = 5, freqCut = 19, uniqueCut = 10, :\n",
      "\"These variables have zero variances: cell_57\"\n",
      "Warning message in .local(x, ...):\n",
      "\"Variable(s) `' constant. Cannot scale data.\"\n"
     ]
    },
    {
     "name": "stdout",
     "output_type": "stream",
     "text": [
      "maximum number of iterations reached -6.021388e-05 5.43153e-05maximum number of iterations reached 8.407325e-05 -8.556812e-10maximum number of iterations reached 0.0001030551 -9.142106e-10maximum number of iterations reached 7.800167e-05 -9.310283e-10maximum number of iterations reached 4.045813e-05 3.653875e-05maximum number of iterations reached 1.140087e-05 -2.735134e-10maximum number of iterations reached 0.00012619 0.0001140717maximum number of iterations reached -1.687799e-05 1.524205e-05maximum number of iterations reached -7.203134e-05 -6.497987e-05maximum number of iterations reached -7.216734e-05 -6.509791e-05maximum number of iterations reached -6.886191e-05 -6.211626e-05maximum number of iterations reached -7.169141e-05 -6.466861e-05maximum number of iterations reached -7.667967e-05 -6.940485e-05maximum number of iterations reached -7.238632e-05 -6.529544e-05maximum number of iterations reached 1.678306e-05 5.349177e-11maximum number of iterations reached 1.135415e-05 -1.028083e-11maximum number of iterations reached -7.323772e-05 -6.621805e-05maximum number of iterations reached 1.784865e-05 -7.132495e-11maximum number of iterations reached 1.031542e-05 9.316112e-06maximum number of iterations reached 2.014696e-05 -6.227335e-11"
     ]
    },
    {
     "name": "stderr",
     "output_type": "stream",
     "text": [
      "Warning message:\n",
      "\"Setting row names on a tibble is deprecated.\"\n",
      "Warning message in preProcess.default(thresh = 0.95, k = 5, freqCut = 19, uniqueCut = 10, :\n",
      "\"These variables have zero variances: cell_57\"\n",
      "Warning message in .local(x, ...):\n",
      "\"Variable(s) `' constant. Cannot scale data.\"\n"
     ]
    },
    {
     "name": "stdout",
     "output_type": "stream",
     "text": [
      "maximum number of iterations reached -7.200748e-05 6.495371e-05maximum number of iterations reached 6.262988e-05 -5.151459e-10maximum number of iterations reached 6.832381e-05 -4.686181e-10maximum number of iterations reached 6.351091e-05 -5.952406e-10maximum number of iterations reached 6.228483e-05 -5.964358e-10maximum number of iterations reached 0.0002987507 0.0002700433maximum number of iterations reached -1.695647e-05 1.531292e-05maximum number of iterations reached -7.211022e-05 -6.505103e-05maximum number of iterations reached -7.196113e-05 -6.49119e-05maximum number of iterations reached -6.90486e-05 -6.228466e-05maximum number of iterations reached -7.218156e-05 -6.511075e-05maximum number of iterations reached -7.604412e-05 -6.882959e-05maximum number of iterations reached -7.189439e-05 -6.485171e-05maximum number of iterations reached 1.130234e-05 2.598305e-11maximum number of iterations reached -7.323688e-05 -6.621729e-05maximum number of iterations reached 2.457695e-05 -5.190154e-11maximum number of iterations reached 1.140405e-05 -2.546507e-11"
     ]
    },
    {
     "name": "stderr",
     "output_type": "stream",
     "text": [
      "Warning message:\n",
      "\"Setting row names on a tibble is deprecated.\"\n",
      "Warning message in preProcess.default(thresh = 0.95, k = 5, freqCut = 19, uniqueCut = 10, :\n",
      "\"These variables have zero variances: cell_57\"\n",
      "Warning message in .local(x, ...):\n",
      "\"Variable(s) `' constant. Cannot scale data.\"\n"
     ]
    },
    {
     "name": "stdout",
     "output_type": "stream",
     "text": [
      "maximum number of iterations reached -7.196462e-05 6.491505e-05maximum number of iterations reached 5.299939e-05 -3.721903e-10maximum number of iterations reached 6.027586e-05 -3.249657e-10maximum number of iterations reached 2.540998e-05 2.294839e-05maximum number of iterations reached 4.947056e-05 -3.662096e-10maximum number of iterations reached 0.0006280191 0.0005677165maximum number of iterations reached -1.69404e-05 1.529841e-05maximum number of iterations reached -7.219237e-05 -6.512514e-05maximum number of iterations reached -7.159415e-05 -6.458087e-05maximum number of iterations reached -6.982505e-05 -6.298505e-05maximum number of iterations reached -7.267475e-05 -6.555562e-05maximum number of iterations reached -7.621001e-05 -6.897974e-05maximum number of iterations reached -7.24339e-05 -6.533837e-05maximum number of iterations reached 1.184745e-05 1.130251e-11maximum number of iterations reached -7.323923e-05 -6.621942e-05maximum number of iterations reached 1.69118e-05 -2.67002e-11maximum number of iterations reached 1.028864e-05 -1.792627e-11"
     ]
    },
    {
     "name": "stderr",
     "output_type": "stream",
     "text": [
      "Warning message:\n",
      "\"Setting row names on a tibble is deprecated.\"\n",
      "Warning message in preProcess.default(thresh = 0.95, k = 5, freqCut = 19, uniqueCut = 10, :\n",
      "\"These variables have zero variances: cell_57\"\n",
      "Warning message in .local(x, ...):\n",
      "\"Variable(s) `' constant. Cannot scale data.\"\n"
     ]
    },
    {
     "name": "stdout",
     "output_type": "stream",
     "text": [
      "maximum number of iterations reached -6.66172e-05 6.009141e-05maximum number of iterations reached 4.140794e-05 -2.282031e-10maximum number of iterations reached 3.764947e-05 -2.248585e-10maximum number of iterations reached 2.029419e-05 1.832819e-05maximum number of iterations reached 0.0002555013 0.0002309747maximum number of iterations reached -1.694614e-05 1.53036e-05maximum number of iterations reached -7.219634e-05 -6.512872e-05maximum number of iterations reached -7.197192e-05 -6.492164e-05maximum number of iterations reached -7.14823e-05 -6.447998e-05maximum number of iterations reached -7.240274e-05 -6.531026e-05maximum number of iterations reached -7.63408e-05 -6.909813e-05maximum number of iterations reached -7.270307e-05 -6.558117e-05maximum number of iterations reached -7.323898e-05 -6.621919e-05maximum number of iterations reached 1.082951e-05 -1.295797e-11"
     ]
    },
    {
     "name": "stderr",
     "output_type": "stream",
     "text": [
      "Warning message:\n",
      "\"Setting row names on a tibble is deprecated.\"\n",
      "Warning message in preProcess.default(thresh = 0.95, k = 5, freqCut = 19, uniqueCut = 10, :\n",
      "\"These variables have zero variances: cell_57\"\n",
      "Warning message in .local(x, ...):\n",
      "\"Variable(s) `' constant. Cannot scale data.\"\n"
     ]
    },
    {
     "name": "stdout",
     "output_type": "stream",
     "text": [
      "maximum number of iterations reached -7.253207e-05 6.542692e-05maximum number of iterations reached 3.344645e-05 -1.494744e-10maximum number of iterations reached 3.542827e-05 -1.324582e-10maximum number of iterations reached 1.584608e-05 1.431099e-05maximum number of iterations reached 3.039014e-05 -1.336001e-10maximum number of iterations reached 0.0003456357 0.0003124617maximum number of iterations reached -1.695182e-05 1.530872e-05maximum number of iterations reached -7.223862e-05 -6.516687e-05maximum number of iterations reached -7.254582e-05 -6.543932e-05maximum number of iterations reached -7.192597e-05 -6.488019e-05maximum number of iterations reached -7.254472e-05 -6.543834e-05maximum number of iterations reached -7.643309e-05 -6.918167e-05maximum number of iterations reached -7.250809e-05 -6.540529e-05maximum number of iterations reached -7.323874e-05 -6.621897e-05"
     ]
    },
    {
     "name": "stderr",
     "output_type": "stream",
     "text": [
      "Warning message:\n",
      "\"Setting row names on a tibble is deprecated.\"\n",
      "Warning message in preProcess.default(thresh = 0.95, k = 5, freqCut = 19, uniqueCut = 10, :\n",
      "\"These variables have zero variances: cell_57\"\n",
      "Warning message in .local(x, ...):\n",
      "\"Variable(s) `' constant. Cannot scale data.\"\n"
     ]
    },
    {
     "name": "stdout",
     "output_type": "stream",
     "text": [
      "maximum number of iterations reached -6.917785e-05 6.240124e-05maximum number of iterations reached 2.38515e-05 -7.827217e-11maximum number of iterations reached 3.038974e-05 -9.076218e-11maximum number of iterations reached 2.39991e-05 -8.465612e-11maximum number of iterations reached 1.246225e-05 1.125497e-05maximum number of iterations reached 0.0004346097 0.0003929139maximum number of iterations reached -1.697449e-05 1.53292e-05maximum number of iterations reached -7.225378e-05 -6.518054e-05maximum number of iterations reached -7.239459e-05 -6.530291e-05maximum number of iterations reached -7.184896e-05 -6.481072e-05maximum number of iterations reached -7.289349e-05 -6.575294e-05maximum number of iterations reached -7.650906e-05 -6.925043e-05maximum number of iterations reached -7.28001e-05 -6.56687e-05maximum number of iterations reached -7.323902e-05 -6.621923e-05"
     ]
    },
    {
     "name": "stderr",
     "output_type": "stream",
     "text": [
      "Warning message:\n",
      "\"Setting row names on a tibble is deprecated.\"\n",
      "Warning message in preProcess.default(thresh = 0.95, k = 5, freqCut = 19, uniqueCut = 10, :\n",
      "\"These variables have zero variances: cell_57\"\n",
      "Warning message in .local(x, ...):\n",
      "\"Variable(s) `' constant. Cannot scale data.\"\n"
     ]
    },
    {
     "name": "stdout",
     "output_type": "stream",
     "text": [
      "maximum number of iterations reached -6.995552e-05 6.310274e-05maximum number of iterations reached 1.798211e-05 -4.747425e-11maximum number of iterations reached 1.943787e-05 -4.004402e-11maximum number of iterations reached 1.852288e-05 -5.14781e-11maximum number of iterations reached 0.0003512343 0.0003175363maximum number of iterations reached -1.695957e-05 1.531573e-05maximum number of iterations reached -7.225787e-05 -6.518423e-05maximum number of iterations reached -7.270592e-05 -6.558374e-05maximum number of iterations reached -7.206711e-05 -6.50075e-05maximum number of iterations reached -7.272828e-05 -6.560391e-05maximum number of iterations reached -7.656731e-05 -6.930315e-05maximum number of iterations reached -7.276717e-05 -6.563899e-05maximum number of iterations reached -7.323926e-05 -6.621945e-05"
     ]
    },
    {
     "name": "stderr",
     "output_type": "stream",
     "text": [
      "Warning message:\n",
      "\"Setting row names on a tibble is deprecated.\"\n",
      "Warning message in preProcess.default(thresh = 0.95, k = 5, freqCut = 19, uniqueCut = 10, :\n",
      "\"These variables have zero variances: cell_57\"\n",
      "Warning message in .local(x, ...):\n",
      "\"Variable(s) `' constant. Cannot scale data.\"\n"
     ]
    },
    {
     "name": "stdout",
     "output_type": "stream",
     "text": [
      "maximum number of iterations reached -7.063145e-05 6.371246e-05maximum number of iterations reached 1.483691e-05 -3.24627e-11maximum number of iterations reached 1.435117e-05 -3.092931e-11maximum number of iterations reached 0.0001178022 0.0001064988maximum number of iterations reached -1.697104e-05 1.532609e-05maximum number of iterations reached -7.228364e-05 -6.520748e-05maximum number of iterations reached -7.280921e-05 -6.567691e-05maximum number of iterations reached -7.247354e-05 -6.537413e-05maximum number of iterations reached -7.286908e-05 -6.573092e-05maximum number of iterations reached -7.66015e-05 -6.93341e-05maximum number of iterations reached -7.275894e-05 -6.563157e-05maximum number of iterations reached -7.323927e-05 -6.621945e-05"
     ]
    },
    {
     "name": "stderr",
     "output_type": "stream",
     "text": [
      "Warning message:\n",
      "\"Setting row names on a tibble is deprecated.\"\n",
      "Warning message in preProcess.default(thresh = 0.95, k = 5, freqCut = 19, uniqueCut = 10, :\n",
      "\"These variables have zero variances: cell_57\"\n",
      "Warning message in .local(x, ...):\n",
      "\"Variable(s) `' constant. Cannot scale data.\"\n"
     ]
    },
    {
     "name": "stdout",
     "output_type": "stream",
     "text": [
      "maximum number of iterations reached -7.117253e-05 6.420055e-05maximum number of iterations reached 1.103511e-05 -1.75312e-11maximum number of iterations reached 1.09227e-05 -1.879497e-11maximum number of iterations reached 3.853527e-05 3.483847e-05maximum number of iterations reached -1.696898e-05 1.532422e-05maximum number of iterations reached -7.228496e-05 -6.520867e-05maximum number of iterations reached -7.280497e-05 -6.567309e-05maximum number of iterations reached -7.260161e-05 -6.548965e-05maximum number of iterations reached -7.287449e-05 -6.57358e-05maximum number of iterations reached -7.663193e-05 -6.936164e-05maximum number of iterations reached -7.286531e-05 -6.572752e-05maximum number of iterations reached -7.323928e-05 -6.621946e-05"
     ]
    },
    {
     "name": "stderr",
     "output_type": "stream",
     "text": [
      "Warning message:\n",
      "\"Setting row names on a tibble is deprecated.\"\n",
      "Warning message in preProcess.default(thresh = 0.95, k = 5, freqCut = 19, uniqueCut = 10, :\n",
      "\"These variables have zero variances: cell_57\"\n",
      "Warning message in .local(x, ...):\n",
      "\"Variable(s) `' constant. Cannot scale data.\"\n"
     ]
    },
    {
     "name": "stdout",
     "output_type": "stream",
     "text": [
      "maximum number of iterations reached -7.286143e-05 6.572402e-05maximum number of iterations reached 0.0002031669 0.0001836752maximum number of iterations reached -1.697052e-05 1.532562e-05maximum number of iterations reached -7.228604e-05 -6.520964e-05maximum number of iterations reached -7.280002e-05 -6.566862e-05maximum number of iterations reached -7.265786e-05 -6.554039e-05maximum number of iterations reached -7.290055e-05 -6.57593e-05maximum number of iterations reached -7.665276e-05 -6.93805e-05maximum number of iterations reached -7.283167e-05 -6.569718e-05maximum number of iterations reached -7.323933e-05 -6.621951e-05"
     ]
    },
    {
     "name": "stderr",
     "output_type": "stream",
     "text": [
      "Warning message:\n",
      "\"Setting row names on a tibble is deprecated.\"\n",
      "Warning message in preProcess.default(thresh = 0.95, k = 5, freqCut = 19, uniqueCut = 10, :\n",
      "\"These variables have zero variances: cell_57\"\n",
      "Warning message in .local(x, ...):\n",
      "\"Variable(s) `' constant. Cannot scale data.\"\n"
     ]
    },
    {
     "name": "stdout",
     "output_type": "stream",
     "text": [
      "maximum number of iterations reached -7.194504e-05 6.489739e-05maximum number of iterations reached 7.718957e-05 6.978479e-05maximum number of iterations reached -1.697318e-05 1.532802e-05maximum number of iterations reached -7.2282e-05 -6.5206e-05maximum number of iterations reached -7.285944e-05 -6.572223e-05maximum number of iterations reached -7.27885e-05 -6.565823e-05maximum number of iterations reached -7.285804e-05 -6.572097e-05maximum number of iterations reached -7.666795e-05 -6.939425e-05maximum number of iterations reached -7.287015e-05 -6.573189e-05maximum number of iterations reached -7.323934e-05 -6.621952e-05"
     ]
    },
    {
     "name": "stderr",
     "output_type": "stream",
     "text": [
      "Warning message:\n",
      "\"Setting row names on a tibble is deprecated.\"\n",
      "Warning message in preProcess.default(thresh = 0.95, k = 5, freqCut = 19, uniqueCut = 10, :\n",
      "\"These variables have zero variances: cell_57\"\n",
      "Warning message in .local(x, ...):\n",
      "\"Variable(s) `' constant. Cannot scale data.\"\n"
     ]
    },
    {
     "name": "stdout",
     "output_type": "stream",
     "text": [
      "maximum number of iterations reached -7.215051e-05 6.508274e-05maximum number of iterations reached 0.0001350772 0.0001221193maximum number of iterations reached -1.697129e-05 1.532631e-05maximum number of iterations reached -7.228768e-05 -6.521112e-05maximum number of iterations reached -7.286843e-05 -6.573034e-05maximum number of iterations reached -7.281539e-05 -6.568249e-05maximum number of iterations reached -7.287905e-05 -6.573992e-05maximum number of iterations reached -7.667867e-05 -6.940395e-05maximum number of iterations reached -7.287915e-05 -6.574001e-05maximum number of iterations reached -7.323933e-05 -6.621951e-05"
     ]
    },
    {
     "name": "stderr",
     "output_type": "stream",
     "text": [
      "Warning message:\n",
      "\"Setting row names on a tibble is deprecated.\"\n",
      "Warning message in preProcess.default(thresh = 0.95, k = 5, freqCut = 19, uniqueCut = 10, :\n",
      "\"These variables have zero variances: cell_57\"\n",
      "Warning message in .local(x, ...):\n",
      "\"Variable(s) `' constant. Cannot scale data.\"\n"
     ]
    },
    {
     "name": "stdout",
     "output_type": "stream",
     "text": [
      "maximum number of iterations reached -7.234277e-05 6.525617e-05maximum number of iterations reached 1.111107e-05 1.004546e-05maximum number of iterations reached -1.697198e-05 1.532693e-05maximum number of iterations reached -7.228725e-05 -6.521074e-05maximum number of iterations reached -7.288548e-05 -6.574571e-05maximum number of iterations reached -7.28469e-05 -6.571091e-05maximum number of iterations reached -7.289655e-05 -6.57557e-05maximum number of iterations reached -7.668663e-05 -6.941115e-05maximum number of iterations reached -7.287934e-05 -6.574017e-05maximum number of iterations reached -7.323934e-05 -6.621952e-05"
     ]
    },
    {
     "name": "stderr",
     "output_type": "stream",
     "text": [
      "Warning message:\n",
      "\"Setting row names on a tibble is deprecated.\"\n",
      "Warning message in preProcess.default(thresh = 0.95, k = 5, freqCut = 19, uniqueCut = 10, :\n",
      "\"These variables have zero variances: cell_57\"\n",
      "Warning message in .local(x, ...):\n",
      "\"Variable(s) `' constant. Cannot scale data.\"\n"
     ]
    },
    {
     "name": "stdout",
     "output_type": "stream",
     "text": [
      "maximum number of iterations reached -7.249719e-05 6.539546e-05maximum number of iterations reached 1.580334e-05 1.428776e-05maximum number of iterations reached -1.697249e-05 1.532739e-05maximum number of iterations reached -7.228766e-05 -6.521111e-05maximum number of iterations reached -7.288858e-05 -6.574851e-05maximum number of iterations reached -7.284258e-05 -6.570702e-05maximum number of iterations reached -7.289787e-05 -6.575689e-05maximum number of iterations reached -7.669132e-05 -6.94154e-05maximum number of iterations reached -7.289655e-05 -6.57557e-05maximum number of iterations reached -7.323934e-05 -6.621952e-05"
     ]
    },
    {
     "name": "stderr",
     "output_type": "stream",
     "text": [
      "Warning message:\n",
      "\"Setting row names on a tibble is deprecated.\"\n",
      "Warning message in preProcess.default(thresh = 0.95, k = 5, freqCut = 19, uniqueCut = 10, :\n",
      "\"These variables have zero variances: cell_57\"\n",
      "Warning message in .local(x, ...):\n",
      "\"Variable(s) `' constant. Cannot scale data.\"\n"
     ]
    },
    {
     "name": "stdout",
     "output_type": "stream",
     "text": [
      "maximum number of iterations reached -7.260136e-05 6.548943e-05maximum number of iterations reached 5.686554e-05 5.141161e-05maximum number of iterations reached -1.697294e-05 1.53278e-05maximum number of iterations reached -7.228764e-05 -6.521108e-05maximum number of iterations reached -7.289856e-05 -6.575751e-05maximum number of iterations reached -7.286864e-05 -6.573053e-05maximum number of iterations reached -7.290086e-05 -6.575958e-05maximum number of iterations reached -7.670159e-05 -6.94247e-05maximum number of iterations reached -7.28916e-05 -6.575124e-05maximum number of iterations reached -7.323934e-05 -6.621952e-05"
     ]
    },
    {
     "name": "stderr",
     "output_type": "stream",
     "text": [
      "Warning message:\n",
      "\"Setting row names on a tibble is deprecated.\"\n",
      "Warning message in preProcess.default(thresh = 0.95, k = 5, freqCut = 19, uniqueCut = 10, :\n",
      "\"These variables have zero variances: cell_57\"\n",
      "Warning message in .local(x, ...):\n",
      "\"Variable(s) `' constant. Cannot scale data.\"\n"
     ]
    },
    {
     "name": "stdout",
     "output_type": "stream",
     "text": [
      "maximum number of iterations reached -7.268632e-05 6.556607e-05maximum number of iterations reached 3.734316e-05 3.376188e-05maximum number of iterations reached -1.697311e-05 1.532795e-05maximum number of iterations reached -7.228757e-05 -6.521102e-05maximum number of iterations reached -7.289131e-05 -6.575098e-05maximum number of iterations reached -7.288988e-05 -6.574969e-05maximum number of iterations reached -7.289571e-05 -6.575494e-05maximum number of iterations reached -7.669737e-05 -6.942088e-05maximum number of iterations reached -7.289489e-05 -6.57542e-05maximum number of iterations reached -7.323935e-05 -6.621952e-05"
     ]
    },
    {
     "name": "stderr",
     "output_type": "stream",
     "text": [
      "Warning message:\n",
      "\"Setting row names on a tibble is deprecated.\"\n",
      "Warning message in preProcess.default(thresh = 0.95, k = 5, freqCut = 19, uniqueCut = 10, :\n",
      "\"These variables have zero variances: cell_57\"\n",
      "Warning message in .local(x, ...):\n",
      "\"Variable(s) `' constant. Cannot scale data.\"\n"
     ]
    },
    {
     "name": "stdout",
     "output_type": "stream",
     "text": [
      "maximum number of iterations reached -7.274924e-05 6.562282e-05maximum number of iterations reached -1.827748e-05 -1.652497e-05maximum number of iterations reached -1.697322e-05 1.532805e-05maximum number of iterations reached -7.228738e-05 -6.521085e-05maximum number of iterations reached -7.289768e-05 -6.575672e-05maximum number of iterations reached -7.288581e-05 -6.574601e-05maximum number of iterations reached -7.289816e-05 -6.575715e-05maximum number of iterations reached -7.669882e-05 -6.94222e-05maximum number of iterations reached -7.289821e-05 -6.57572e-05maximum number of iterations reached -7.323935e-05 -6.621952e-05"
     ]
    },
    {
     "name": "stderr",
     "output_type": "stream",
     "text": [
      "Warning message:\n",
      "\"Setting row names on a tibble is deprecated.\"\n",
      "Warning message in preProcess.default(thresh = 0.95, k = 5, freqCut = 19, uniqueCut = 10, :\n",
      "\"These variables have zero variances: cell_57\"\n",
      "Warning message in .local(x, ...):\n",
      "\"Variable(s) `' constant. Cannot scale data.\"\n"
     ]
    },
    {
     "name": "stdout",
     "output_type": "stream",
     "text": [
      "maximum number of iterations reached -7.279109e-05 6.566057e-05maximum number of iterations reached -1.98638e-05 -1.795925e-05maximum number of iterations reached -1.69733e-05 1.532812e-05maximum number of iterations reached -7.22875e-05 -6.521096e-05maximum number of iterations reached -7.289878e-05 -6.575772e-05maximum number of iterations reached -7.289098e-05 -6.575067e-05maximum number of iterations reached -7.289885e-05 -6.575777e-05maximum number of iterations reached -7.669993e-05 -6.942319e-05maximum number of iterations reached -7.289921e-05 -6.57581e-05maximum number of iterations reached -7.323935e-05 -6.621952e-05"
     ]
    },
    {
     "name": "stderr",
     "output_type": "stream",
     "text": [
      "Warning message:\n",
      "\"Setting row names on a tibble is deprecated.\"\n",
      "Warning message in preProcess.default(thresh = 0.95, k = 5, freqCut = 19, uniqueCut = 10, :\n",
      "\"These variables have zero variances: cell_57\"\n",
      "Warning message in .local(x, ...):\n",
      "\"Variable(s) `' constant. Cannot scale data.\"\n"
     ]
    },
    {
     "name": "stdout",
     "output_type": "stream",
     "text": [
      "maximum number of iterations reached -7.282365e-05 6.568994e-05maximum number of iterations reached -1.25989e-05 -1.13909e-05maximum number of iterations reached -1.697343e-05 1.532824e-05maximum number of iterations reached -7.228764e-05 -6.521108e-05maximum number of iterations reached -7.290064e-05 -6.575939e-05maximum number of iterations reached -7.289895e-05 -6.575787e-05maximum number of iterations reached -7.290068e-05 -6.575943e-05maximum number of iterations reached -7.670059e-05 -6.942379e-05maximum number of iterations reached -7.289986e-05 -6.575869e-05maximum number of iterations reached -7.323935e-05 -6.621952e-05"
     ]
    },
    {
     "name": "stderr",
     "output_type": "stream",
     "text": [
      "Warning message:\n",
      "\"Setting row names on a tibble is deprecated.\"\n",
      "Warning message in preProcess.default(thresh = 0.95, k = 5, freqCut = 19, uniqueCut = 10, :\n",
      "\"These variables have zero variances: cell_57\"\n",
      "Warning message in .local(x, ...):\n",
      "\"Variable(s) `' constant. Cannot scale data.\"\n"
     ]
    },
    {
     "name": "stdout",
     "output_type": "stream",
     "text": [
      "maximum number of iterations reached -7.284671e-05 6.571074e-05maximum number of iterations reached -6.784869e-05 -6.134486e-05maximum number of iterations reached -1.697342e-05 1.532823e-05maximum number of iterations reached -7.228766e-05 -6.52111e-05maximum number of iterations reached -7.289941e-05 -6.575828e-05maximum number of iterations reached -7.289699e-05 -6.57561e-05maximum number of iterations reached -7.290029e-05 -6.575908e-05maximum number of iterations reached -7.67017e-05 -6.94248e-05maximum number of iterations reached -7.290069e-05 -6.575943e-05maximum number of iterations reached -7.323935e-05 -6.621952e-05"
     ]
    },
    {
     "name": "stderr",
     "output_type": "stream",
     "text": [
      "Warning message:\n",
      "\"Setting row names on a tibble is deprecated.\"\n",
      "Warning message in preProcess.default(thresh = 0.95, k = 5, freqCut = 19, uniqueCut = 10, :\n",
      "\"These variables have zero variances: cell_57\"\n",
      "Warning message in .local(x, ...):\n",
      "\"Variable(s) `' constant. Cannot scale data.\"\n"
     ]
    },
    {
     "name": "stdout",
     "output_type": "stream",
     "text": [
      "maximum number of iterations reached -7.290033e-05 6.575911e-05maximum number of iterations reached -3.159021e-05 -2.85616e-05maximum number of iterations reached -1.69734e-05 1.532821e-05maximum number of iterations reached -7.228762e-05 -6.521107e-05maximum number of iterations reached -7.29004e-05 -6.575918e-05maximum number of iterations reached -7.28986e-05 -6.575755e-05maximum number of iterations reached -7.290045e-05 -6.575922e-05maximum number of iterations reached -7.670128e-05 -6.942441e-05maximum number of iterations reached -7.290039e-05 -6.575917e-05maximum number of iterations reached -7.323935e-05 -6.621952e-05"
     ]
    },
    {
     "name": "stderr",
     "output_type": "stream",
     "text": [
      "Warning message:\n",
      "\"Setting row names on a tibble is deprecated.\"\n",
      "Warning message in preProcess.default(thresh = 0.95, k = 5, freqCut = 19, uniqueCut = 10, :\n",
      "\"These variables have zero variances: cell_57\"\n",
      "Warning message in .local(x, ...):\n",
      "\"Variable(s) `' constant. Cannot scale data.\"\n"
     ]
    },
    {
     "name": "stdout",
     "output_type": "stream",
     "text": [
      "maximum number of iterations reached -7.290093e-05 6.575965e-05maximum number of iterations reached -3.582035e-05 -3.238629e-05maximum number of iterations reached -1.697341e-05 1.532822e-05maximum number of iterations reached -7.228764e-05 -6.521108e-05maximum number of iterations reached -7.290042e-05 -6.575919e-05maximum number of iterations reached -7.289932e-05 -6.57582e-05maximum number of iterations reached -7.290065e-05 -6.57594e-05maximum number of iterations reached -7.670144e-05 -6.942456e-05maximum number of iterations reached -7.290086e-05 -6.575959e-05maximum number of iterations reached -7.323935e-05 -6.621952e-05"
     ]
    },
    {
     "name": "stderr",
     "output_type": "stream",
     "text": [
      "Warning message:\n",
      "\"Setting row names on a tibble is deprecated.\"\n",
      "Warning message in preProcess.default(thresh = 0.95, k = 5, freqCut = 19, uniqueCut = 10, :\n",
      "\"These variables have zero variances: cell_57\"\n",
      "Warning message in .local(x, ...):\n",
      "\"Variable(s) `' constant. Cannot scale data.\"\n"
     ]
    },
    {
     "name": "stdout",
     "output_type": "stream",
     "text": [
      "maximum number of iterations reached -7.290076e-05 6.57595e-05maximum number of iterations reached -7.114895e-05 -6.432911e-05maximum number of iterations reached -1.697341e-05 1.532823e-05maximum number of iterations reached -7.228765e-05 -6.521109e-05maximum number of iterations reached -7.290077e-05 -6.57595e-05maximum number of iterations reached -7.290054e-05 -6.57593e-05maximum number of iterations reached -7.290078e-05 -6.575952e-05maximum number of iterations reached -7.670155e-05 -6.942466e-05maximum number of iterations reached -7.29008e-05 -6.575954e-05maximum number of iterations reached -7.323935e-05 -6.621952e-05"
     ]
    },
    {
     "name": "stderr",
     "output_type": "stream",
     "text": [
      "Warning message:\n",
      "\"Setting row names on a tibble is deprecated.\"\n",
      "Warning message in preProcess.default(thresh = 0.95, k = 5, freqCut = 19, uniqueCut = 10, :\n",
      "\"These variables have zero variances: cell_57\"\n",
      "Warning message in .local(x, ...):\n",
      "\"Variable(s) `' constant. Cannot scale data.\"\n"
     ]
    },
    {
     "name": "stdout",
     "output_type": "stream",
     "text": [
      "maximum number of iterations reached -7.288904e-05 6.574893e-05maximum number of iterations reached -4.795836e-05 -4.336097e-05maximum number of iterations reached -1.697342e-05 1.532823e-05maximum number of iterations reached -7.228765e-05 -6.521109e-05maximum number of iterations reached -7.290076e-05 -6.57595e-05maximum number of iterations reached -7.290062e-05 -6.575938e-05maximum number of iterations reached -7.290085e-05 -6.575958e-05maximum number of iterations reached -7.670161e-05 -6.942472e-05maximum number of iterations reached -7.290086e-05 -6.575959e-05maximum number of iterations reached -7.323935e-05 -6.621952e-05"
     ]
    },
    {
     "name": "stderr",
     "output_type": "stream",
     "text": [
      "Warning message:\n",
      "\"Setting row names on a tibble is deprecated.\"\n",
      "Warning message in preProcess.default(thresh = 0.95, k = 5, freqCut = 19, uniqueCut = 10, :\n",
      "\"These variables have zero variances: cell_57\"\n",
      "Warning message in .local(x, ...):\n",
      "\"Variable(s) `' constant. Cannot scale data.\"\n"
     ]
    },
    {
     "name": "stdout",
     "output_type": "stream",
     "text": [
      "maximum number of iterations reached -7.289322e-05 6.57527e-05maximum number of iterations reached -5.279401e-05 -4.773321e-05maximum number of iterations reached -1.697343e-05 1.532824e-05maximum number of iterations reached -7.228765e-05 -6.52111e-05maximum number of iterations reached -7.290084e-05 -6.575957e-05maximum number of iterations reached -7.290073e-05 -6.575947e-05maximum number of iterations reached -7.290094e-05 -6.575966e-05maximum number of iterations reached -7.670164e-05 -6.942475e-05maximum number of iterations reached -7.290088e-05 -6.575961e-05maximum number of iterations reached -7.323935e-05 -6.621952e-05"
     ]
    },
    {
     "name": "stderr",
     "output_type": "stream",
     "text": [
      "Warning message:\n",
      "\"Setting row names on a tibble is deprecated.\"\n",
      "Warning message in preProcess.default(thresh = 0.95, k = 5, freqCut = 19, uniqueCut = 10, :\n",
      "\"These variables have zero variances: cell_57\"\n",
      "Warning message in .local(x, ...):\n",
      "\"Variable(s) `' constant. Cannot scale data.\"\n"
     ]
    },
    {
     "name": "stdout",
     "output_type": "stream",
     "text": [
      "maximum number of iterations reached -7.289589e-05 6.575511e-05maximum number of iterations reached -5.703271e-05 -5.156571e-05maximum number of iterations reached -1.697343e-05 1.532824e-05maximum number of iterations reached -7.228765e-05 -6.52111e-05maximum number of iterations reached -7.290089e-05 -6.575961e-05maximum number of iterations reached -7.290079e-05 -6.575952e-05maximum number of iterations reached -7.290092e-05 -6.575964e-05maximum number of iterations reached -7.670167e-05 -6.942477e-05maximum number of iterations reached -7.290091e-05 -6.575964e-05maximum number of iterations reached -7.323935e-05 -6.621952e-05"
     ]
    },
    {
     "name": "stderr",
     "output_type": "stream",
     "text": [
      "Warning message:\n",
      "\"Setting row names on a tibble is deprecated.\"\n",
      "Warning message in preProcess.default(thresh = 0.95, k = 5, freqCut = 19, uniqueCut = 10, :\n",
      "\"These variables have zero variances: cell_57\"\n",
      "Warning message in .local(x, ...):\n",
      "\"Variable(s) `' constant. Cannot scale data.\"\n"
     ]
    },
    {
     "name": "stdout",
     "output_type": "stream",
     "text": [
      "maximum number of iterations reached -7.289768e-05 6.575672e-05maximum number of iterations reached -7.230445e-05 -6.537408e-05maximum number of iterations reached -1.697342e-05 1.532824e-05maximum number of iterations reached -7.228765e-05 -6.52111e-05maximum number of iterations reached -7.290091e-05 -6.575964e-05maximum number of iterations reached -7.290084e-05 -6.575957e-05maximum number of iterations reached -7.290093e-05 -6.575965e-05maximum number of iterations reached -7.670168e-05 -6.942478e-05maximum number of iterations reached -7.290094e-05 -6.575966e-05maximum number of iterations reached -7.323935e-05 -6.621952e-05"
     ]
    },
    {
     "name": "stderr",
     "output_type": "stream",
     "text": [
      "Warning message:\n",
      "\"Setting row names on a tibble is deprecated.\"\n",
      "Warning message in preProcess.default(thresh = 0.95, k = 5, freqCut = 19, uniqueCut = 10, :\n",
      "\"These variables have zero variances: cell_57\"\n",
      "Warning message in .local(x, ...):\n",
      "\"Variable(s) `' constant. Cannot scale data.\"\n"
     ]
    },
    {
     "name": "stdout",
     "output_type": "stream",
     "text": [
      "maximum number of iterations reached -7.289883e-05 6.575776e-05maximum number of iterations reached -6.288017e-05 -5.685286e-05maximum number of iterations reached -1.697343e-05 1.532824e-05maximum number of iterations reached -7.228765e-05 -6.52111e-05maximum number of iterations reached -7.290093e-05 -6.575965e-05maximum number of iterations reached -7.29009e-05 -6.575963e-05maximum number of iterations reached -7.290094e-05 -6.575966e-05maximum number of iterations reached -7.670169e-05 -6.942479e-05maximum number of iterations reached -7.290095e-05 -6.575967e-05maximum number of iterations reached -7.323935e-05 -6.621952e-05"
     ]
    },
    {
     "name": "stderr",
     "output_type": "stream",
     "text": [
      "Warning message:\n",
      "\"Setting row names on a tibble is deprecated.\"\n",
      "Warning message in preProcess.default(thresh = 0.95, k = 5, freqCut = 19, uniqueCut = 10, :\n",
      "\"These variables have zero variances: cell_57\"\n",
      "Warning message in .local(x, ...):\n",
      "\"Variable(s) `' constant. Cannot scale data.\"\n"
     ]
    },
    {
     "name": "stdout",
     "output_type": "stream",
     "text": [
      "maximum number of iterations reached -7.290095e-05 6.575967e-05maximum number of iterations reached -6.510351e-05 -5.886317e-05maximum number of iterations reached -1.697343e-05 1.532824e-05maximum number of iterations reached -7.228765e-05 -6.52111e-05maximum number of iterations reached -7.290094e-05 -6.575966e-05maximum number of iterations reached -7.290093e-05 -6.575965e-05maximum number of iterations reached -7.290095e-05 -6.575967e-05maximum number of iterations reached -7.670169e-05 -6.942479e-05maximum number of iterations reached -7.290094e-05 -6.575967e-05maximum number of iterations reached -7.323935e-05 -6.621952e-05"
     ]
    },
    {
     "name": "stderr",
     "output_type": "stream",
     "text": [
      "Warning message:\n",
      "\"Setting row names on a tibble is deprecated.\"\n",
      "Warning message in preProcess.default(thresh = 0.95, k = 5, freqCut = 19, uniqueCut = 10, :\n",
      "\"These variables have zero variances: cell_57\"\n",
      "Warning message in .local(x, ...):\n",
      "\"Variable(s) `' constant. Cannot scale data.\"\n"
     ]
    },
    {
     "name": "stdout",
     "output_type": "stream",
     "text": [
      "maximum number of iterations reached -7.290012e-05 6.575892e-05maximum number of iterations reached -6.868523e-05 -6.21017e-05maximum number of iterations reached -1.697343e-05 1.532824e-05maximum number of iterations reached -7.228765e-05 -6.52111e-05maximum number of iterations reached -7.290095e-05 -6.575967e-05maximum number of iterations reached -7.290093e-05 -6.575965e-05maximum number of iterations reached -7.290095e-05 -6.575967e-05maximum number of iterations reached -7.670169e-05 -6.942479e-05maximum number of iterations reached -7.290095e-05 -6.575967e-05maximum number of iterations reached -7.323935e-05 -6.621952e-05"
     ]
    },
    {
     "name": "stderr",
     "output_type": "stream",
     "text": [
      "Warning message:\n",
      "\"Setting row names on a tibble is deprecated.\"\n",
      "Warning message in preProcess.default(thresh = 0.95, k = 5, freqCut = 19, uniqueCut = 10, :\n",
      "\"These variables have zero variances: cell_57\"\n",
      "Warning message in .local(x, ...):\n",
      "\"Variable(s) `' constant. Cannot scale data.\"\n"
     ]
    },
    {
     "name": "stdout",
     "output_type": "stream",
     "text": [
      "maximum number of iterations reached -7.290045e-05 6.575922e-05maximum number of iterations reached -6.821004e-05 -6.167206e-05maximum number of iterations reached -1.697343e-05 1.532824e-05maximum number of iterations reached -7.228765e-05 -6.52111e-05maximum number of iterations reached -7.290095e-05 -6.575967e-05maximum number of iterations reached -7.290094e-05 -6.575966e-05maximum number of iterations reached -7.290095e-05 -6.575967e-05maximum number of iterations reached -7.67017e-05 -6.942479e-05maximum number of iterations reached -7.290095e-05 -6.575967e-05maximum number of iterations reached -7.323935e-05 -6.621952e-05"
     ]
    },
    {
     "name": "stderr",
     "output_type": "stream",
     "text": [
      "Warning message:\n",
      "\"Setting row names on a tibble is deprecated.\"\n",
      "Warning message in preProcess.default(thresh = 0.95, k = 5, freqCut = 19, uniqueCut = 10, :\n",
      "\"These variables have zero variances: cell_57\"\n",
      "Warning message in .local(x, ...):\n",
      "\"Variable(s) `' constant. Cannot scale data.\"\n"
     ]
    },
    {
     "name": "stdout",
     "output_type": "stream",
     "text": [
      "maximum number of iterations reached -7.290064e-05 6.575939e-05maximum number of iterations reached -6.951352e-05 -6.285065e-05maximum number of iterations reached -1.697343e-05 1.532824e-05maximum number of iterations reached -7.228765e-05 -6.52111e-05maximum number of iterations reached -7.290095e-05 -6.575967e-05maximum number of iterations reached -7.290095e-05 -6.575967e-05maximum number of iterations reached -7.290095e-05 -6.575967e-05maximum number of iterations reached -7.67017e-05 -6.942479e-05maximum number of iterations reached -7.290095e-05 -6.575967e-05maximum number of iterations reached -7.323935e-05 -6.621952e-05"
     ]
    },
    {
     "name": "stderr",
     "output_type": "stream",
     "text": [
      "Warning message:\n",
      "\"Setting row names on a tibble is deprecated.\"\n",
      "Warning message in preProcess.default(thresh = 0.95, k = 5, freqCut = 19, uniqueCut = 10, :\n",
      "\"These variables have zero variances: cell_57\"\n",
      "Warning message in .local(x, ...):\n",
      "\"Variable(s) `' constant. Cannot scale data.\"\n"
     ]
    },
    {
     "name": "stdout",
     "output_type": "stream",
     "text": [
      "maximum number of iterations reached -7.290095e-05 6.575967e-05maximum number of iterations reached -7.309042e-05 -6.608484e-05maximum number of iterations reached -1.697343e-05 1.532824e-05maximum number of iterations reached -7.228765e-05 -6.52111e-05maximum number of iterations reached -7.290095e-05 -6.575967e-05maximum number of iterations reached -7.290095e-05 -6.575967e-05maximum number of iterations reached -7.290095e-05 -6.575967e-05maximum number of iterations reached -7.67017e-05 -6.942479e-05maximum number of iterations reached -7.290095e-05 -6.575967e-05maximum number of iterations reached -7.323935e-05 -6.621952e-05"
     ]
    },
    {
     "name": "stderr",
     "output_type": "stream",
     "text": [
      "Warning message:\n",
      "\"Setting row names on a tibble is deprecated.\"\n",
      "Warning message in preProcess.default(thresh = 0.95, k = 5, freqCut = 19, uniqueCut = 10, :\n",
      "\"These variables have zero variances: cell_57\"\n",
      "Warning message in .local(x, ...):\n",
      "\"Variable(s) `' constant. Cannot scale data.\"\n"
     ]
    },
    {
     "name": "stdout",
     "output_type": "stream",
     "text": [
      "maximum number of iterations reached -7.290084e-05 6.575957e-05maximum number of iterations reached -7.158596e-05 -6.472453e-05maximum number of iterations reached -1.697343e-05 1.532824e-05maximum number of iterations reached -7.228765e-05 -6.52111e-05maximum number of iterations reached -7.290095e-05 -6.575967e-05maximum number of iterations reached -7.290095e-05 -6.575967e-05maximum number of iterations reached -7.290095e-05 -6.575967e-05maximum number of iterations reached -7.67017e-05 -6.94248e-05maximum number of iterations reached -7.290095e-05 -6.575967e-05maximum number of iterations reached -7.323935e-05 -6.621952e-05"
     ]
    },
    {
     "name": "stderr",
     "output_type": "stream",
     "text": [
      "Warning message:\n",
      "\"Setting row names on a tibble is deprecated.\"\n",
      "Warning message in preProcess.default(thresh = 0.95, k = 5, freqCut = 19, uniqueCut = 10, :\n",
      "\"These variables have zero variances: cell_57\"\n",
      "Warning message in .local(x, ...):\n",
      "\"Variable(s) `' constant. Cannot scale data.\"\n"
     ]
    },
    {
     "name": "stdout",
     "output_type": "stream",
     "text": [
      "maximum number of iterations reached -7.290089e-05 6.575961e-05maximum number of iterations reached -7.145533e-05 -6.460642e-05maximum number of iterations reached -1.697343e-05 1.532824e-05maximum number of iterations reached -7.228765e-05 -6.52111e-05maximum number of iterations reached -7.290095e-05 -6.575967e-05maximum number of iterations reached -7.290095e-05 -6.575967e-05maximum number of iterations reached -7.290095e-05 -6.575967e-05maximum number of iterations reached -7.67017e-05 -6.94248e-05maximum number of iterations reached -7.290095e-05 -6.575967e-05maximum number of iterations reached -7.323935e-05 -6.621952e-05"
     ]
    },
    {
     "name": "stderr",
     "output_type": "stream",
     "text": [
      "Warning message:\n",
      "\"Setting row names on a tibble is deprecated.\"\n",
      "Warning message in preProcess.default(thresh = 0.95, k = 5, freqCut = 19, uniqueCut = 10, :\n",
      "\"These variables have zero variances: cell_57\"\n",
      "Warning message in .local(x, ...):\n",
      "\"Variable(s) `' constant. Cannot scale data.\"\n"
     ]
    },
    {
     "name": "stdout",
     "output_type": "stream",
     "text": [
      "maximum number of iterations reached -7.290091e-05 6.575964e-05maximum number of iterations reached -7.19098e-05 -6.501735e-05maximum number of iterations reached -1.697343e-05 1.532824e-05maximum number of iterations reached -7.228765e-05 -6.52111e-05maximum number of iterations reached -7.290095e-05 -6.575967e-05maximum number of iterations reached -7.290095e-05 -6.575967e-05maximum number of iterations reached -7.290095e-05 -6.575967e-05maximum number of iterations reached -7.67017e-05 -6.94248e-05maximum number of iterations reached -7.290095e-05 -6.575967e-05maximum number of iterations reached -7.323935e-05 -6.621952e-05"
     ]
    },
    {
     "name": "stderr",
     "output_type": "stream",
     "text": [
      "Warning message:\n",
      "\"Setting row names on a tibble is deprecated.\"\n",
      "Warning message in preProcess.default(thresh = 0.95, k = 5, freqCut = 19, uniqueCut = 10, :\n",
      "\"These variables have zero variances: cell_57\"\n",
      "Warning message in .local(x, ...):\n",
      "\"Variable(s) `' constant. Cannot scale data.\"\n"
     ]
    },
    {
     "name": "stdout",
     "output_type": "stream",
     "text": [
      "maximum number of iterations reached -7.290093e-05 6.575965e-05maximum number of iterations reached -7.299371e-05 -6.599741e-05maximum number of iterations reached -1.697343e-05 1.532824e-05maximum number of iterations reached -7.228765e-05 -6.52111e-05maximum number of iterations reached -7.290095e-05 -6.575967e-05maximum number of iterations reached -7.290095e-05 -6.575967e-05maximum number of iterations reached -7.290095e-05 -6.575967e-05maximum number of iterations reached -7.67017e-05 -6.94248e-05maximum number of iterations reached -7.290095e-05 -6.575967e-05maximum number of iterations reached -7.323935e-05 -6.621952e-05"
     ]
    },
    {
     "name": "stderr",
     "output_type": "stream",
     "text": [
      "Warning message:\n",
      "\"Setting row names on a tibble is deprecated.\"\n",
      "Warning message in preProcess.default(thresh = 0.95, k = 5, freqCut = 19, uniqueCut = 10, :\n",
      "\"These variables have zero variances: cell_57\"\n",
      "Warning message in .local(x, ...):\n",
      "\"Variable(s) `' constant. Cannot scale data.\"\n"
     ]
    },
    {
     "name": "stdout",
     "output_type": "stream",
     "text": [
      "maximum number of iterations reached -7.290094e-05 6.575966e-05maximum number of iterations reached -7.27054e-05 -6.573673e-05maximum number of iterations reached -1.697343e-05 1.532824e-05maximum number of iterations reached -7.228765e-05 -6.52111e-05maximum number of iterations reached -7.290095e-05 -6.575967e-05maximum number of iterations reached -7.290095e-05 -6.575967e-05maximum number of iterations reached -7.290095e-05 -6.575967e-05maximum number of iterations reached -7.67017e-05 -6.94248e-05maximum number of iterations reached -7.290095e-05 -6.575967e-05maximum number of iterations reached -7.323935e-05 -6.621952e-05"
     ]
    },
    {
     "name": "stderr",
     "output_type": "stream",
     "text": [
      "Warning message:\n",
      "\"Setting row names on a tibble is deprecated.\"\n",
      "Warning message in preProcess.default(thresh = 0.95, k = 5, freqCut = 19, uniqueCut = 10, :\n",
      "\"These variables have zero variances: cell_57\"\n",
      "Warning message in .local(x, ...):\n",
      "\"Variable(s) `' constant. Cannot scale data.\"\n"
     ]
    },
    {
     "name": "stdout",
     "output_type": "stream",
     "text": [
      "maximum number of iterations reached -7.290094e-05 6.575966e-05maximum number of iterations reached -7.272015e-05 -6.575007e-05maximum number of iterations reached -1.697343e-05 1.532824e-05maximum number of iterations reached -7.228765e-05 -6.52111e-05maximum number of iterations reached -7.290095e-05 -6.575967e-05maximum number of iterations reached -7.290095e-05 -6.575967e-05maximum number of iterations reached -7.290095e-05 -6.575967e-05maximum number of iterations reached -7.67017e-05 -6.94248e-05maximum number of iterations reached -7.290095e-05 -6.575967e-05maximum number of iterations reached -7.323935e-05 -6.621952e-05"
     ]
    },
    {
     "name": "stderr",
     "output_type": "stream",
     "text": [
      "Warning message:\n",
      "\"Setting row names on a tibble is deprecated.\"\n",
      "Warning message in preProcess.default(thresh = 0.95, k = 5, freqCut = 19, uniqueCut = 10, :\n",
      "\"These variables have zero variances: cell_57\"\n",
      "Warning message in .local(x, ...):\n",
      "\"Variable(s) `' constant. Cannot scale data.\"\n"
     ]
    },
    {
     "name": "stdout",
     "output_type": "stream",
     "text": [
      "maximum number of iterations reached -7.290095e-05 6.575967e-05maximum number of iterations reached -7.29358e-05 -6.594505e-05maximum number of iterations reached -1.697343e-05 1.532824e-05maximum number of iterations reached -7.228765e-05 -6.52111e-05maximum number of iterations reached -7.290095e-05 -6.575967e-05maximum number of iterations reached -7.290095e-05 -6.575967e-05maximum number of iterations reached -7.290095e-05 -6.575967e-05maximum number of iterations reached -7.67017e-05 -6.94248e-05maximum number of iterations reached -7.290095e-05 -6.575967e-05maximum number of iterations reached -7.323935e-05 -6.621952e-05"
     ]
    },
    {
     "name": "stderr",
     "output_type": "stream",
     "text": [
      "Warning message:\n",
      "\"Setting row names on a tibble is deprecated.\"\n",
      "Warning message in preProcess.default(thresh = 0.95, k = 5, freqCut = 19, uniqueCut = 10, :\n",
      "\"These variables have zero variances: cell_57\"\n",
      "Warning message in .local(x, ...):\n",
      "\"Variable(s) `' constant. Cannot scale data.\"\n"
     ]
    },
    {
     "name": "stdout",
     "output_type": "stream",
     "text": [
      "maximum number of iterations reached -7.290095e-05 6.575967e-05maximum number of iterations reached -7.295357e-05 -6.596113e-05maximum number of iterations reached -1.697343e-05 1.532824e-05maximum number of iterations reached -7.228765e-05 -6.52111e-05maximum number of iterations reached -7.290095e-05 -6.575967e-05maximum number of iterations reached -7.290095e-05 -6.575967e-05maximum number of iterations reached -7.290095e-05 -6.575967e-05maximum number of iterations reached -7.67017e-05 -6.94248e-05maximum number of iterations reached -7.290095e-05 -6.575967e-05maximum number of iterations reached -7.323935e-05 -6.621952e-05"
     ]
    },
    {
     "name": "stderr",
     "output_type": "stream",
     "text": [
      "Warning message:\n",
      "\"Setting row names on a tibble is deprecated.\"\n",
      "Warning message in preProcess.default(thresh = 0.95, k = 5, freqCut = 19, uniqueCut = 10, :\n",
      "\"These variables have zero variances: cell_57\"\n",
      "Warning message in .local(x, ...):\n",
      "\"Variable(s) `' constant. Cannot scale data.\"\n"
     ]
    },
    {
     "name": "stdout",
     "output_type": "stream",
     "text": [
      "maximum number of iterations reached -7.290095e-05 6.575967e-05maximum number of iterations reached -7.304307e-05 -6.604205e-05maximum number of iterations reached -1.697343e-05 1.532824e-05maximum number of iterations reached -7.228765e-05 -6.52111e-05maximum number of iterations reached -7.290095e-05 -6.575967e-05maximum number of iterations reached -7.290095e-05 -6.575967e-05maximum number of iterations reached -7.290095e-05 -6.575967e-05maximum number of iterations reached -7.67017e-05 -6.94248e-05maximum number of iterations reached -7.290095e-05 -6.575967e-05maximum number of iterations reached -7.323935e-05 -6.621952e-05"
     ]
    },
    {
     "name": "stderr",
     "output_type": "stream",
     "text": [
      "Warning message:\n",
      "\"Setting row names on a tibble is deprecated.\"\n",
      "Warning message in preProcess.default(thresh = 0.95, k = 5, freqCut = 19, uniqueCut = 10, :\n",
      "\"These variables have zero variances: cell_57\"\n",
      "Warning message in .local(x, ...):\n",
      "\"Variable(s) `' constant. Cannot scale data.\"\n"
     ]
    },
    {
     "name": "stdout",
     "output_type": "stream",
     "text": [
      "maximum number of iterations reached -7.290095e-05 6.575967e-05maximum number of iterations reached -7.320963e-05 -6.619266e-05maximum number of iterations reached -1.697343e-05 1.532824e-05maximum number of iterations reached -7.228765e-05 -6.52111e-05maximum number of iterations reached -7.290095e-05 -6.575967e-05maximum number of iterations reached -7.290095e-05 -6.575967e-05maximum number of iterations reached -7.290095e-05 -6.575967e-05maximum number of iterations reached -7.67017e-05 -6.94248e-05maximum number of iterations reached -7.290095e-05 -6.575967e-05maximum number of iterations reached -7.323935e-05 -6.621952e-05"
     ]
    },
    {
     "name": "stderr",
     "output_type": "stream",
     "text": [
      "Warning message:\n",
      "\"Setting row names on a tibble is deprecated.\"\n",
      "Warning message in preProcess.default(thresh = 0.95, k = 5, freqCut = 19, uniqueCut = 10, :\n",
      "\"These variables have zero variances: cell_57\"\n",
      "Warning message in .local(x, ...):\n",
      "\"Variable(s) `' constant. Cannot scale data.\"\n"
     ]
    },
    {
     "name": "stdout",
     "output_type": "stream",
     "text": [
      "maximum number of iterations reached -7.290095e-05 6.575967e-05maximum number of iterations reached -7.316152e-05 -6.614915e-05maximum number of iterations reached -1.697343e-05 1.532824e-05maximum number of iterations reached -7.228765e-05 -6.52111e-05maximum number of iterations reached -7.290095e-05 -6.575967e-05maximum number of iterations reached -7.290095e-05 -6.575967e-05maximum number of iterations reached -7.290095e-05 -6.575967e-05maximum number of iterations reached -7.67017e-05 -6.94248e-05maximum number of iterations reached -7.290095e-05 -6.575967e-05maximum number of iterations reached -7.323935e-05 -6.621952e-05"
     ]
    },
    {
     "name": "stderr",
     "output_type": "stream",
     "text": [
      "Warning message:\n",
      "\"Setting row names on a tibble is deprecated.\"\n",
      "Warning message in preProcess.default(thresh = 0.95, k = 5, freqCut = 19, uniqueCut = 10, :\n",
      "\"These variables have zero variances: cell_57\"\n",
      "Warning message in .local(x, ...):\n",
      "\"Variable(s) `' constant. Cannot scale data.\"\n"
     ]
    },
    {
     "name": "stdout",
     "output_type": "stream",
     "text": [
      "maximum number of iterations reached -7.290095e-05 6.575967e-05maximum number of iterations reached -7.317064e-05 -6.61574e-05maximum number of iterations reached -1.697343e-05 1.532824e-05maximum number of iterations reached -7.228765e-05 -6.52111e-05maximum number of iterations reached -7.290095e-05 -6.575967e-05maximum number of iterations reached -7.290095e-05 -6.575967e-05maximum number of iterations reached -7.290095e-05 -6.575967e-05maximum number of iterations reached -7.67017e-05 -6.94248e-05maximum number of iterations reached -7.290095e-05 -6.575967e-05maximum number of iterations reached -7.323935e-05 -6.621952e-05"
     ]
    },
    {
     "name": "stderr",
     "output_type": "stream",
     "text": [
      "Warning message:\n",
      "\"Setting row names on a tibble is deprecated.\"\n",
      "Warning message in preProcess.default(thresh = 0.95, k = 5, freqCut = 19, uniqueCut = 10, :\n",
      "\"These variables have zero variances: cell_57\"\n",
      "Warning message in .local(x, ...):\n",
      "\"Variable(s) `' constant. Cannot scale data.\"\n"
     ]
    },
    {
     "name": "stdout",
     "output_type": "stream",
     "text": [
      "maximum number of iterations reached -7.290095e-05 6.575967e-05maximum number of iterations reached -7.31921e-05 -6.61768e-05maximum number of iterations reached -1.697343e-05 1.532824e-05maximum number of iterations reached -7.228765e-05 -6.52111e-05maximum number of iterations reached -7.290095e-05 -6.575967e-05maximum number of iterations reached -7.290095e-05 -6.575967e-05maximum number of iterations reached -7.290095e-05 -6.575967e-05maximum number of iterations reached -7.67017e-05 -6.94248e-05maximum number of iterations reached -7.290095e-05 -6.575967e-05maximum number of iterations reached -7.323935e-05 -6.621952e-05"
     ]
    },
    {
     "name": "stderr",
     "output_type": "stream",
     "text": [
      "Warning message:\n",
      "\"Setting row names on a tibble is deprecated.\"\n",
      "Warning message in preProcess.default(thresh = 0.95, k = 5, freqCut = 19, uniqueCut = 10, :\n",
      "\"These variables have zero variances: cell_57\"\n",
      "Warning message in .local(x, ...):\n",
      "\"Variable(s) `' constant. Cannot scale data.\"\n"
     ]
    },
    {
     "name": "stdout",
     "output_type": "stream",
     "text": [
      "maximum number of iterations reached -7.290095e-05 6.575967e-05maximum number of iterations reached -7.320706e-05 -6.619033e-05maximum number of iterations reached -1.697343e-05 1.532824e-05maximum number of iterations reached -7.228765e-05 -6.52111e-05maximum number of iterations reached -7.290095e-05 -6.575967e-05maximum number of iterations reached -7.290095e-05 -6.575967e-05maximum number of iterations reached -7.290095e-05 -6.575967e-05maximum number of iterations reached -7.67017e-05 -6.94248e-05maximum number of iterations reached -7.290095e-05 -6.575967e-05maximum number of iterations reached -7.323935e-05 -6.621952e-05"
     ]
    },
    {
     "name": "stderr",
     "output_type": "stream",
     "text": [
      "Warning message:\n",
      "\"Setting row names on a tibble is deprecated.\"\n",
      "Warning message in preProcess.default(thresh = 0.95, k = 5, freqCut = 19, uniqueCut = 10, :\n",
      "\"These variables have zero variances: cell_57\"\n",
      "Warning message in .local(x, ...):\n",
      "\"Variable(s) `' constant. Cannot scale data.\"\n"
     ]
    },
    {
     "name": "stdout",
     "output_type": "stream",
     "text": [
      "maximum number of iterations reached -7.290095e-05 6.575967e-05maximum number of iterations reached -7.322113e-05 -6.620305e-05maximum number of iterations reached -1.697343e-05 1.532824e-05maximum number of iterations reached -7.228765e-05 -6.52111e-05maximum number of iterations reached -7.290095e-05 -6.575967e-05maximum number of iterations reached -7.290095e-05 -6.575967e-05maximum number of iterations reached -7.290095e-05 -6.575967e-05maximum number of iterations reached -7.67017e-05 -6.94248e-05maximum number of iterations reached -7.290095e-05 -6.575967e-05maximum number of iterations reached -7.323935e-05 -6.621952e-05"
     ]
    },
    {
     "name": "stderr",
     "output_type": "stream",
     "text": [
      "Warning message:\n",
      "\"Setting row names on a tibble is deprecated.\"\n",
      "Warning message in preProcess.default(thresh = 0.95, k = 5, freqCut = 19, uniqueCut = 10, :\n",
      "\"These variables have zero variances: cell_57\"\n",
      "Warning message in .local(x, ...):\n",
      "\"Variable(s) `' constant. Cannot scale data.\"\n"
     ]
    },
    {
     "name": "stdout",
     "output_type": "stream",
     "text": [
      "maximum number of iterations reached -7.290095e-05 6.575967e-05maximum number of iterations reached -7.322505e-05 -6.62066e-05maximum number of iterations reached -1.697343e-05 1.532824e-05maximum number of iterations reached -7.228765e-05 -6.52111e-05maximum number of iterations reached -7.290095e-05 -6.575967e-05maximum number of iterations reached -7.290095e-05 -6.575967e-05maximum number of iterations reached -7.290095e-05 -6.575967e-05maximum number of iterations reached -7.67017e-05 -6.94248e-05maximum number of iterations reached -7.290095e-05 -6.575967e-05maximum number of iterations reached -7.323935e-05 -6.621952e-05"
     ]
    },
    {
     "name": "stderr",
     "output_type": "stream",
     "text": [
      "Warning message:\n",
      "\"Setting row names on a tibble is deprecated.\"\n",
      "Warning message in preProcess.default(thresh = 0.95, k = 5, freqCut = 19, uniqueCut = 10, :\n",
      "\"These variables have zero variances: cell_57\"\n",
      "Warning message in .local(x, ...):\n",
      "\"Variable(s) `' constant. Cannot scale data.\"\n"
     ]
    },
    {
     "name": "stdout",
     "output_type": "stream",
     "text": [
      "maximum number of iterations reached -7.290095e-05 6.575967e-05maximum number of iterations reached -7.323937e-05 -6.621954e-05maximum number of iterations reached -1.697343e-05 1.532824e-05maximum number of iterations reached -7.228765e-05 -6.52111e-05maximum number of iterations reached -7.290095e-05 -6.575967e-05maximum number of iterations reached -7.290095e-05 -6.575967e-05maximum number of iterations reached -7.290095e-05 -6.575967e-05maximum number of iterations reached -7.67017e-05 -6.94248e-05maximum number of iterations reached -7.290095e-05 -6.575967e-05maximum number of iterations reached -7.323935e-05 -6.621952e-05"
     ]
    },
    {
     "name": "stderr",
     "output_type": "stream",
     "text": [
      "Warning message:\n",
      "\"Setting row names on a tibble is deprecated.\"\n",
      "Warning message in preProcess.default(thresh = 0.95, k = 5, freqCut = 19, uniqueCut = 10, :\n",
      "\"These variables have zero variances: cell_57\"\n",
      "Warning message in .local(x, ...):\n",
      "\"Variable(s) `' constant. Cannot scale data.\"\n"
     ]
    },
    {
     "name": "stdout",
     "output_type": "stream",
     "text": [
      "maximum number of iterations reached -7.290095e-05 6.575967e-05maximum number of iterations reached -7.323321e-05 -6.621397e-05maximum number of iterations reached -1.697343e-05 1.532824e-05maximum number of iterations reached -7.228765e-05 -6.52111e-05maximum number of iterations reached -7.290095e-05 -6.575967e-05maximum number of iterations reached -7.290095e-05 -6.575967e-05maximum number of iterations reached -7.290095e-05 -6.575967e-05maximum number of iterations reached -7.67017e-05 -6.94248e-05maximum number of iterations reached -7.290095e-05 -6.575967e-05maximum number of iterations reached -7.323935e-05 -6.621952e-05"
     ]
    },
    {
     "name": "stderr",
     "output_type": "stream",
     "text": [
      "Warning message:\n",
      "\"Setting row names on a tibble is deprecated.\"\n",
      "Warning message in preProcess.default(thresh = 0.95, k = 5, freqCut = 19, uniqueCut = 10, :\n",
      "\"These variables have zero variances: cell_57\"\n",
      "Warning message in .local(x, ...):\n",
      "\"Variable(s) `' constant. Cannot scale data.\"\n"
     ]
    },
    {
     "name": "stdout",
     "output_type": "stream",
     "text": [
      "maximum number of iterations reached -7.290095e-05 6.575967e-05maximum number of iterations reached -7.323537e-05 -6.621593e-05maximum number of iterations reached -1.697343e-05 1.532824e-05maximum number of iterations reached -7.228765e-05 -6.52111e-05maximum number of iterations reached -7.290095e-05 -6.575967e-05maximum number of iterations reached -7.290095e-05 -6.575967e-05maximum number of iterations reached -7.290095e-05 -6.575967e-05maximum number of iterations reached -7.67017e-05 -6.94248e-05maximum number of iterations reached -7.290095e-05 -6.575967e-05maximum number of iterations reached -7.323935e-05 -6.621952e-05"
     ]
    },
    {
     "name": "stderr",
     "output_type": "stream",
     "text": [
      "Warning message:\n",
      "\"Setting row names on a tibble is deprecated.\"\n",
      "Warning message in preProcess.default(thresh = 0.95, k = 5, freqCut = 19, uniqueCut = 10, :\n",
      "\"These variables have zero variances: cell_57\"\n",
      "Warning message in .local(x, ...):\n",
      "\"Variable(s) `' constant. Cannot scale data.\"\n"
     ]
    },
    {
     "name": "stdout",
     "output_type": "stream",
     "text": [
      "maximum number of iterations reached -7.290095e-05 6.575967e-05maximum number of iterations reached -7.323723e-05 -6.621761e-05maximum number of iterations reached -1.697343e-05 1.532824e-05maximum number of iterations reached -7.228765e-05 -6.52111e-05maximum number of iterations reached -7.290095e-05 -6.575967e-05maximum number of iterations reached -7.290095e-05 -6.575967e-05maximum number of iterations reached -7.290095e-05 -6.575967e-05maximum number of iterations reached -7.67017e-05 -6.94248e-05maximum number of iterations reached -7.290095e-05 -6.575967e-05maximum number of iterations reached -7.323935e-05 -6.621952e-05"
     ]
    },
    {
     "name": "stderr",
     "output_type": "stream",
     "text": [
      "Warning message:\n",
      "\"Setting row names on a tibble is deprecated.\"\n",
      "Warning message in preProcess.default(thresh = 0.95, k = 5, freqCut = 19, uniqueCut = 10, :\n",
      "\"These variables have zero variances: cell_57\"\n",
      "Warning message in .local(x, ...):\n",
      "\"Variable(s) `' constant. Cannot scale data.\"\n"
     ]
    },
    {
     "name": "stdout",
     "output_type": "stream",
     "text": [
      "maximum number of iterations reached -7.290095e-05 6.575967e-05maximum number of iterations reached -7.323776e-05 -6.621809e-05maximum number of iterations reached -1.697343e-05 1.532824e-05maximum number of iterations reached -7.228765e-05 -6.52111e-05maximum number of iterations reached -7.290095e-05 -6.575967e-05maximum number of iterations reached -7.290095e-05 -6.575967e-05maximum number of iterations reached -7.290095e-05 -6.575967e-05maximum number of iterations reached -7.67017e-05 -6.94248e-05maximum number of iterations reached -7.290095e-05 -6.575967e-05maximum number of iterations reached -7.323935e-05 -6.621952e-05"
     ]
    },
    {
     "name": "stderr",
     "output_type": "stream",
     "text": [
      "Warning message:\n",
      "\"Setting row names on a tibble is deprecated.\"\n",
      "Warning message in preProcess.default(thresh = 0.95, k = 5, freqCut = 19, uniqueCut = 10, :\n",
      "\"These variables have zero variances: cell_57\"\n",
      "Warning message in .local(x, ...):\n",
      "\"Variable(s) `' constant. Cannot scale data.\"\n"
     ]
    },
    {
     "name": "stdout",
     "output_type": "stream",
     "text": [
      "maximum number of iterations reached -7.290095e-05 6.575967e-05maximum number of iterations reached -7.323921e-05 -6.62194e-05maximum number of iterations reached -1.697343e-05 1.532824e-05maximum number of iterations reached -7.228765e-05 -6.52111e-05maximum number of iterations reached -7.290095e-05 -6.575967e-05maximum number of iterations reached -7.290095e-05 -6.575967e-05maximum number of iterations reached -7.290095e-05 -6.575967e-05maximum number of iterations reached -7.67017e-05 -6.94248e-05maximum number of iterations reached -7.290095e-05 -6.575967e-05maximum number of iterations reached -7.323935e-05 -6.621952e-05"
     ]
    },
    {
     "name": "stderr",
     "output_type": "stream",
     "text": [
      "Warning message:\n",
      "\"Setting row names on a tibble is deprecated.\"\n",
      "Warning message in preProcess.default(thresh = 0.95, k = 5, freqCut = 19, uniqueCut = 10, :\n",
      "\"These variables have zero variances: cell_57\"\n",
      "Warning message in .local(x, ...):\n",
      "\"Variable(s) `' constant. Cannot scale data.\"\n"
     ]
    },
    {
     "name": "stdout",
     "output_type": "stream",
     "text": [
      "maximum number of iterations reached -7.290095e-05 6.575967e-05maximum number of iterations reached -7.323873e-05 -6.621897e-05maximum number of iterations reached -1.697343e-05 1.532824e-05maximum number of iterations reached -7.228765e-05 -6.52111e-05maximum number of iterations reached -7.290095e-05 -6.575967e-05maximum number of iterations reached -7.290095e-05 -6.575967e-05maximum number of iterations reached -7.290095e-05 -6.575967e-05maximum number of iterations reached -7.67017e-05 -6.94248e-05maximum number of iterations reached -7.290095e-05 -6.575967e-05maximum number of iterations reached -7.323935e-05 -6.621952e-05"
     ]
    },
    {
     "name": "stderr",
     "output_type": "stream",
     "text": [
      "Warning message:\n",
      "\"Setting row names on a tibble is deprecated.\"\n",
      "Warning message in preProcess.default(thresh = 0.95, k = 5, freqCut = 19, uniqueCut = 10, :\n",
      "\"These variables have zero variances: cell_57\"\n",
      "Warning message in .local(x, ...):\n",
      "\"Variable(s) `' constant. Cannot scale data.\"\n"
     ]
    },
    {
     "name": "stdout",
     "output_type": "stream",
     "text": [
      "maximum number of iterations reached -7.290095e-05 6.575967e-05maximum number of iterations reached -7.323929e-05 -6.621947e-05maximum number of iterations reached -1.697343e-05 1.532824e-05maximum number of iterations reached -7.228765e-05 -6.52111e-05maximum number of iterations reached -7.290095e-05 -6.575967e-05maximum number of iterations reached -7.290095e-05 -6.575967e-05maximum number of iterations reached -7.290095e-05 -6.575967e-05maximum number of iterations reached -7.67017e-05 -6.94248e-05maximum number of iterations reached -7.290095e-05 -6.575967e-05maximum number of iterations reached -7.323935e-05 -6.621952e-05"
     ]
    },
    {
     "name": "stderr",
     "output_type": "stream",
     "text": [
      "Warning message:\n",
      "\"Setting row names on a tibble is deprecated.\"\n",
      "Warning message in preProcess.default(thresh = 0.95, k = 5, freqCut = 19, uniqueCut = 10, :\n",
      "\"These variables have zero variances: cell_57\"\n",
      "Warning message in .local(x, ...):\n",
      "\"Variable(s) `' constant. Cannot scale data.\"\n"
     ]
    },
    {
     "name": "stdout",
     "output_type": "stream",
     "text": [
      "maximum number of iterations reached -7.290095e-05 6.575967e-05maximum number of iterations reached -7.323935e-05 -6.621952e-05maximum number of iterations reached -1.697343e-05 1.532824e-05maximum number of iterations reached -7.228765e-05 -6.52111e-05maximum number of iterations reached -7.290095e-05 -6.575967e-05maximum number of iterations reached -7.290095e-05 -6.575967e-05maximum number of iterations reached -7.290095e-05 -6.575967e-05maximum number of iterations reached -7.67017e-05 -6.94248e-05maximum number of iterations reached -7.290095e-05 -6.575967e-05maximum number of iterations reached -7.323935e-05 -6.621952e-05"
     ]
    },
    {
     "name": "stderr",
     "output_type": "stream",
     "text": [
      "Warning message:\n",
      "\"Setting row names on a tibble is deprecated.\"\n",
      "Warning message in preProcess.default(thresh = 0.95, k = 5, freqCut = 19, uniqueCut = 10, :\n",
      "\"These variables have zero variances: cell_57\"\n",
      "Warning message in .local(x, ...):\n",
      "\"Variable(s) `' constant. Cannot scale data.\"\n"
     ]
    },
    {
     "name": "stdout",
     "output_type": "stream",
     "text": [
      "maximum number of iterations reached -7.290095e-05 6.575967e-05maximum number of iterations reached -7.323923e-05 -6.621942e-05maximum number of iterations reached -1.697343e-05 1.532824e-05maximum number of iterations reached -7.228765e-05 -6.52111e-05maximum number of iterations reached -7.290095e-05 -6.575967e-05maximum number of iterations reached -7.290095e-05 -6.575967e-05maximum number of iterations reached -7.290095e-05 -6.575967e-05maximum number of iterations reached -7.67017e-05 -6.94248e-05maximum number of iterations reached -7.290095e-05 -6.575967e-05maximum number of iterations reached -7.323935e-05 -6.621952e-05"
     ]
    },
    {
     "name": "stderr",
     "output_type": "stream",
     "text": [
      "Warning message:\n",
      "\"Setting row names on a tibble is deprecated.\"\n",
      "Warning message in preProcess.default(thresh = 0.95, k = 5, freqCut = 19, uniqueCut = 10, :\n",
      "\"These variables have zero variances: cell_57\"\n",
      "Warning message in .local(x, ...):\n",
      "\"Variable(s) `' constant. Cannot scale data.\"\n",
      "Warning message:\n",
      "\"Setting row names on a tibble is deprecated.\"\n",
      "Warning message in preProcess.default(thresh = 0.95, k = 5, freqCut = 19, uniqueCut = 10, :\n",
      "\"These variables have zero variances: cell_57\"\n",
      "Warning message in .local(x, ...):\n",
      "\"Variable(s) `' constant. Cannot scale data.\"\n",
      "Warning message:\n",
      "\"Setting row names on a tibble is deprecated.\"\n",
      "Warning message in preProcess.default(thresh = 0.95, k = 5, freqCut = 19, uniqueCut = 10, :\n",
      "\"These variables have zero variances: cell_57\"\n",
      "Warning message in .local(x, ...):\n",
      "\"Variable(s) `' constant. Cannot scale data.\"\n",
      "Warning message:\n",
      "\"Setting row names on a tibble is deprecated.\"\n",
      "Warning message in preProcess.default(thresh = 0.95, k = 5, freqCut = 19, uniqueCut = 10, :\n",
      "\"These variables have zero variances: cell_57\"\n",
      "Warning message in .local(x, ...):\n",
      "\"Variable(s) `' constant. Cannot scale data.\"\n",
      "Warning message:\n",
      "\"Setting row names on a tibble is deprecated.\"\n",
      "Warning message in preProcess.default(thresh = 0.95, k = 5, freqCut = 19, uniqueCut = 10, :\n",
      "\"These variables have zero variances: cell_57\"\n",
      "Warning message in .local(x, ...):\n",
      "\"Variable(s) `' constant. Cannot scale data.\"\n",
      "Warning message:\n",
      "\"Setting row names on a tibble is deprecated.\"\n",
      "Warning message in preProcess.default(thresh = 0.95, k = 5, freqCut = 19, uniqueCut = 10, :\n",
      "\"These variables have zero variances: cell_57\"\n",
      "Warning message in .local(x, ...):\n",
      "\"Variable(s) `' constant. Cannot scale data.\"\n",
      "Warning message:\n",
      "\"Setting row names on a tibble is deprecated.\"\n",
      "Warning message in preProcess.default(thresh = 0.95, k = 5, freqCut = 19, uniqueCut = 10, :\n",
      "\"These variables have zero variances: cell_57\"\n",
      "Warning message in .local(x, ...):\n",
      "\"Variable(s) `' constant. Cannot scale data.\"\n",
      "Warning message:\n",
      "\"Setting row names on a tibble is deprecated.\"\n",
      "Warning message in preProcess.default(thresh = 0.95, k = 5, freqCut = 19, uniqueCut = 10, :\n",
      "\"These variables have zero variances: cell_57\"\n",
      "Warning message in .local(x, ...):\n",
      "\"Variable(s) `' constant. Cannot scale data.\"\n",
      "Warning message:\n",
      "\"Setting row names on a tibble is deprecated.\"\n",
      "Warning message in preProcess.default(thresh = 0.95, k = 5, freqCut = 19, uniqueCut = 10, :\n",
      "\"These variables have zero variances: cell_57\"\n",
      "Warning message in .local(x, ...):\n",
      "\"Variable(s) `' constant. Cannot scale data.\"\n",
      "Warning message:\n",
      "\"Setting row names on a tibble is deprecated.\"\n",
      "Warning message in preProcess.default(thresh = 0.95, k = 5, freqCut = 19, uniqueCut = 10, :\n",
      "\"These variables have zero variances: cell_57\"\n",
      "Warning message in .local(x, ...):\n",
      "\"Variable(s) `' constant. Cannot scale data.\"\n",
      "Warning message:\n",
      "\"Setting row names on a tibble is deprecated.\"\n",
      "Warning message in preProcess.default(thresh = 0.95, k = 5, freqCut = 19, uniqueCut = 10, :\n",
      "\"These variables have zero variances: cell_57\"\n",
      "Warning message in .local(x, ...):\n",
      "\"Variable(s) `' constant. Cannot scale data.\"\n",
      "Warning message:\n",
      "\"Setting row names on a tibble is deprecated.\"\n",
      "Warning message in preProcess.default(thresh = 0.95, k = 5, freqCut = 19, uniqueCut = 10, :\n",
      "\"These variables have zero variances: cell_57\"\n",
      "Warning message in .local(x, ...):\n",
      "\"Variable(s) `' constant. Cannot scale data.\"\n",
      "Warning message:\n",
      "\"Setting row names on a tibble is deprecated.\"\n",
      "Warning message in preProcess.default(thresh = 0.95, k = 5, freqCut = 19, uniqueCut = 10, :\n",
      "\"These variables have zero variances: cell_57\"\n",
      "Warning message in .local(x, ...):\n",
      "\"Variable(s) `' constant. Cannot scale data.\"\n",
      "Warning message:\n",
      "\"Setting row names on a tibble is deprecated.\"\n",
      "Warning message in preProcess.default(thresh = 0.95, k = 5, freqCut = 19, uniqueCut = 10, :\n",
      "\"These variables have zero variances: cell_57\"\n",
      "Warning message in .local(x, ...):\n",
      "\"Variable(s) `' constant. Cannot scale data.\"\n",
      "Warning message:\n",
      "\"Setting row names on a tibble is deprecated.\"\n",
      "Warning message in preProcess.default(thresh = 0.95, k = 5, freqCut = 19, uniqueCut = 10, :\n",
      "\"These variables have zero variances: cell_57\"\n",
      "Warning message in .local(x, ...):\n",
      "\"Variable(s) `' constant. Cannot scale data.\"\n",
      "Warning message:\n",
      "\"Setting row names on a tibble is deprecated.\"\n",
      "Warning message in preProcess.default(thresh = 0.95, k = 5, freqCut = 19, uniqueCut = 10, :\n",
      "\"These variables have zero variances: cell_57\"\n",
      "Warning message in .local(x, ...):\n",
      "\"Variable(s) `' constant. Cannot scale data.\"\n",
      "Warning message:\n",
      "\"Setting row names on a tibble is deprecated.\"\n",
      "Warning message in preProcess.default(thresh = 0.95, k = 5, freqCut = 19, uniqueCut = 10, :\n",
      "\"These variables have zero variances: cell_57\"\n",
      "Warning message in .local(x, ...):\n",
      "\"Variable(s) `' constant. Cannot scale data.\"\n",
      "Warning message:\n",
      "\"Setting row names on a tibble is deprecated.\"\n",
      "Warning message in preProcess.default(thresh = 0.95, k = 5, freqCut = 19, uniqueCut = 10, :\n",
      "\"These variables have zero variances: cell_57\"\n",
      "Warning message in .local(x, ...):\n",
      "\"Variable(s) `' constant. Cannot scale data.\"\n",
      "Warning message:\n",
      "\"Setting row names on a tibble is deprecated.\"\n",
      "Warning message in preProcess.default(thresh = 0.95, k = 5, freqCut = 19, uniqueCut = 10, :\n",
      "\"These variables have zero variances: cell_57\"\n",
      "Warning message in .local(x, ...):\n",
      "\"Variable(s) `' constant. Cannot scale data.\"\n",
      "Warning message:\n",
      "\"Setting row names on a tibble is deprecated.\"\n",
      "Warning message in preProcess.default(thresh = 0.95, k = 5, freqCut = 19, uniqueCut = 10, :\n",
      "\"These variables have zero variances: cell_57\"\n",
      "Warning message in .local(x, ...):\n",
      "\"Variable(s) `' constant. Cannot scale data.\"\n",
      "Warning message:\n",
      "\"Setting row names on a tibble is deprecated.\"\n",
      "Warning message in preProcess.default(thresh = 0.95, k = 5, freqCut = 19, uniqueCut = 10, :\n",
      "\"These variables have zero variances: cell_57\"\n",
      "Warning message in .local(x, ...):\n",
      "\"Variable(s) `' constant. Cannot scale data.\"\n",
      "Warning message:\n",
      "\"Setting row names on a tibble is deprecated.\"\n",
      "Warning message in preProcess.default(thresh = 0.95, k = 5, freqCut = 19, uniqueCut = 10, :\n",
      "\"These variables have zero variances: cell_57\"\n",
      "Warning message in .local(x, ...):\n",
      "\"Variable(s) `' constant. Cannot scale data.\"\n",
      "Warning message:\n",
      "\"Setting row names on a tibble is deprecated.\"\n",
      "Warning message in preProcess.default(thresh = 0.95, k = 5, freqCut = 19, uniqueCut = 10, :\n",
      "\"These variables have zero variances: cell_57\"\n",
      "Warning message in .local(x, ...):\n",
      "\"Variable(s) `' constant. Cannot scale data.\"\n",
      "Warning message:\n",
      "\"Setting row names on a tibble is deprecated.\"\n",
      "Warning message in preProcess.default(thresh = 0.95, k = 5, freqCut = 19, uniqueCut = 10, :\n",
      "\"These variables have zero variances: cell_57\"\n",
      "Warning message in .local(x, ...):\n",
      "\"Variable(s) `' constant. Cannot scale data.\"\n",
      "Warning message:\n",
      "\"Setting row names on a tibble is deprecated.\"\n",
      "Warning message in preProcess.default(thresh = 0.95, k = 5, freqCut = 19, uniqueCut = 10, :\n",
      "\"These variables have zero variances: cell_57\"\n",
      "Warning message in .local(x, ...):\n",
      "\"Variable(s) `' constant. Cannot scale data.\"\n",
      "Warning message:\n",
      "\"Setting row names on a tibble is deprecated.\"\n",
      "Warning message in preProcess.default(thresh = 0.95, k = 5, freqCut = 19, uniqueCut = 10, :\n",
      "\"These variables have zero variances: cell_57\"\n",
      "Warning message in .local(x, ...):\n",
      "\"Variable(s) `' constant. Cannot scale data.\"\n",
      "Warning message:\n",
      "\"Setting row names on a tibble is deprecated.\"\n",
      "Warning message in preProcess.default(thresh = 0.95, k = 5, freqCut = 19, uniqueCut = 10, :\n",
      "\"These variables have zero variances: cell_57\"\n",
      "Warning message in .local(x, ...):\n",
      "\"Variable(s) `' constant. Cannot scale data.\"\n",
      "Warning message:\n",
      "\"Setting row names on a tibble is deprecated.\"\n",
      "Warning message in preProcess.default(thresh = 0.95, k = 5, freqCut = 19, uniqueCut = 10, :\n",
      "\"These variables have zero variances: cell_57\"\n",
      "Warning message in .local(x, ...):\n",
      "\"Variable(s) `' constant. Cannot scale data.\"\n",
      "Warning message:\n",
      "\"Setting row names on a tibble is deprecated.\"\n",
      "Warning message in preProcess.default(thresh = 0.95, k = 5, freqCut = 19, uniqueCut = 10, :\n",
      "\"These variables have zero variances: cell_57\"\n",
      "Warning message in .local(x, ...):\n",
      "\"Variable(s) `' constant. Cannot scale data.\"\n"
     ]
    },
    {
     "name": "stderr",
     "output_type": "stream",
     "text": [
      "Warning message:\n",
      "\"Setting row names on a tibble is deprecated.\"\n",
      "Warning message in preProcess.default(thresh = 0.95, k = 5, freqCut = 19, uniqueCut = 10, :\n",
      "\"These variables have zero variances: cell_57\"\n",
      "Warning message in .local(x, ...):\n",
      "\"Variable(s) `' constant. Cannot scale data.\"\n",
      "Warning message:\n",
      "\"Setting row names on a tibble is deprecated.\"\n",
      "Warning message in preProcess.default(thresh = 0.95, k = 5, freqCut = 19, uniqueCut = 10, :\n",
      "\"These variables have zero variances: cell_57\"\n",
      "Warning message in .local(x, ...):\n",
      "\"Variable(s) `' constant. Cannot scale data.\"\n",
      "Warning message:\n",
      "\"Setting row names on a tibble is deprecated.\"\n",
      "Warning message in preProcess.default(thresh = 0.95, k = 5, freqCut = 19, uniqueCut = 10, :\n",
      "\"These variables have zero variances: cell_57\"\n",
      "Warning message in .local(x, ...):\n",
      "\"Variable(s) `' constant. Cannot scale data.\"\n",
      "Warning message:\n",
      "\"Setting row names on a tibble is deprecated.\"\n",
      "Warning message in preProcess.default(thresh = 0.95, k = 5, freqCut = 19, uniqueCut = 10, :\n",
      "\"These variables have zero variances: cell_57\"\n",
      "Warning message in .local(x, ...):\n",
      "\"Variable(s) `' constant. Cannot scale data.\"\n",
      "Warning message:\n",
      "\"Setting row names on a tibble is deprecated.\"\n",
      "Warning message in preProcess.default(thresh = 0.95, k = 5, freqCut = 19, uniqueCut = 10, :\n",
      "\"These variables have zero variances: cell_57\"\n",
      "Warning message in .local(x, ...):\n",
      "\"Variable(s) `' constant. Cannot scale data.\"\n",
      "Warning message:\n",
      "\"Setting row names on a tibble is deprecated.\"\n",
      "Warning message in preProcess.default(thresh = 0.95, k = 5, freqCut = 19, uniqueCut = 10, :\n",
      "\"These variables have zero variances: cell_57\"\n",
      "Warning message in .local(x, ...):\n",
      "\"Variable(s) `' constant. Cannot scale data.\"\n",
      "Warning message:\n",
      "\"Setting row names on a tibble is deprecated.\"\n",
      "Warning message in preProcess.default(thresh = 0.95, k = 5, freqCut = 19, uniqueCut = 10, :\n",
      "\"These variables have zero variances: cell_57\"\n",
      "Warning message in .local(x, ...):\n",
      "\"Variable(s) `' constant. Cannot scale data.\"\n",
      "Warning message:\n",
      "\"Setting row names on a tibble is deprecated.\"\n",
      "Warning message in preProcess.default(thresh = 0.95, k = 5, freqCut = 19, uniqueCut = 10, :\n",
      "\"These variables have zero variances: cell_57\"\n",
      "Warning message in .local(x, ...):\n",
      "\"Variable(s) `' constant. Cannot scale data.\"\n",
      "Warning message:\n",
      "\"Setting row names on a tibble is deprecated.\"\n",
      "Warning message in preProcess.default(thresh = 0.95, k = 5, freqCut = 19, uniqueCut = 10, :\n",
      "\"These variables have zero variances: cell_57\"\n",
      "Warning message in .local(x, ...):\n",
      "\"Variable(s) `' constant. Cannot scale data.\"\n",
      "Warning message:\n",
      "\"Setting row names on a tibble is deprecated.\"\n",
      "Warning message in preProcess.default(thresh = 0.95, k = 5, freqCut = 19, uniqueCut = 10, :\n",
      "\"These variables have zero variances: cell_57\"\n",
      "Warning message in .local(x, ...):\n",
      "\"Variable(s) `' constant. Cannot scale data.\"\n",
      "Warning message:\n",
      "\"Setting row names on a tibble is deprecated.\"\n",
      "Warning message in preProcess.default(thresh = 0.95, k = 5, freqCut = 19, uniqueCut = 10, :\n",
      "\"These variables have zero variances: cell_57\"\n",
      "Warning message in .local(x, ...):\n",
      "\"Variable(s) `' constant. Cannot scale data.\"\n",
      "Warning message:\n",
      "\"Setting row names on a tibble is deprecated.\"\n",
      "Warning message in preProcess.default(thresh = 0.95, k = 5, freqCut = 19, uniqueCut = 10, :\n",
      "\"These variables have zero variances: cell_57\"\n",
      "Warning message in .local(x, ...):\n",
      "\"Variable(s) `' constant. Cannot scale data.\"\n",
      "Warning message:\n",
      "\"Setting row names on a tibble is deprecated.\"\n",
      "Warning message in preProcess.default(thresh = 0.95, k = 5, freqCut = 19, uniqueCut = 10, :\n",
      "\"These variables have zero variances: cell_57\"\n",
      "Warning message in .local(x, ...):\n",
      "\"Variable(s) `' constant. Cannot scale data.\"\n",
      "Warning message:\n",
      "\"Setting row names on a tibble is deprecated.\"\n",
      "Warning message in preProcess.default(thresh = 0.95, k = 5, freqCut = 19, uniqueCut = 10, :\n",
      "\"These variables have zero variances: cell_57\"\n",
      "Warning message in .local(x, ...):\n",
      "\"Variable(s) `' constant. Cannot scale data.\"\n",
      "Warning message:\n",
      "\"Setting row names on a tibble is deprecated.\"\n",
      "Warning message in preProcess.default(thresh = 0.95, k = 5, freqCut = 19, uniqueCut = 10, :\n",
      "\"These variables have zero variances: cell_57\"\n",
      "Warning message in .local(x, ...):\n",
      "\"Variable(s) `' constant. Cannot scale data.\"\n",
      "Warning message:\n",
      "\"Setting row names on a tibble is deprecated.\"\n",
      "Warning message in preProcess.default(thresh = 0.95, k = 5, freqCut = 19, uniqueCut = 10, :\n",
      "\"These variables have zero variances: cell_57\"\n",
      "Warning message in .local(x, ...):\n",
      "\"Variable(s) `' constant. Cannot scale data.\"\n",
      "Warning message:\n",
      "\"Setting row names on a tibble is deprecated.\"\n",
      "Warning message in preProcess.default(thresh = 0.95, k = 5, freqCut = 19, uniqueCut = 10, :\n",
      "\"These variables have zero variances: cell_57\"\n",
      "Warning message in .local(x, ...):\n",
      "\"Variable(s) `' constant. Cannot scale data.\"\n",
      "Warning message:\n",
      "\"Setting row names on a tibble is deprecated.\"\n",
      "Warning message in preProcess.default(thresh = 0.95, k = 5, freqCut = 19, uniqueCut = 10, :\n",
      "\"These variables have zero variances: cell_57\"\n",
      "Warning message in .local(x, ...):\n",
      "\"Variable(s) `' constant. Cannot scale data.\"\n",
      "Warning message:\n",
      "\"Setting row names on a tibble is deprecated.\"\n",
      "Warning message in preProcess.default(thresh = 0.95, k = 5, freqCut = 19, uniqueCut = 10, :\n",
      "\"These variables have zero variances: cell_57\"\n",
      "Warning message in .local(x, ...):\n",
      "\"Variable(s) `' constant. Cannot scale data.\"\n",
      "Warning message:\n",
      "\"Setting row names on a tibble is deprecated.\"\n",
      "Warning message in preProcess.default(thresh = 0.95, k = 5, freqCut = 19, uniqueCut = 10, :\n",
      "\"These variables have zero variances: cell_57\"\n",
      "Warning message in .local(x, ...):\n",
      "\"Variable(s) `' constant. Cannot scale data.\"\n",
      "Warning message:\n",
      "\"Setting row names on a tibble is deprecated.\"\n",
      "Warning message in preProcess.default(thresh = 0.95, k = 5, freqCut = 19, uniqueCut = 10, :\n",
      "\"These variables have zero variances: cell_57\"\n",
      "Warning message in .local(x, ...):\n",
      "\"Variable(s) `' constant. Cannot scale data.\"\n",
      "Warning message:\n",
      "\"Setting row names on a tibble is deprecated.\"\n",
      "Warning message in preProcess.default(thresh = 0.95, k = 5, freqCut = 19, uniqueCut = 10, :\n",
      "\"These variables have zero variances: cell_57\"\n",
      "Warning message in .local(x, ...):\n",
      "\"Variable(s) `' constant. Cannot scale data.\"\n",
      "Warning message:\n",
      "\"Setting row names on a tibble is deprecated.\"\n",
      "Warning message in preProcess.default(thresh = 0.95, k = 5, freqCut = 19, uniqueCut = 10, :\n",
      "\"These variables have zero variances: cell_57\"\n",
      "Warning message in .local(x, ...):\n",
      "\"Variable(s) `' constant. Cannot scale data.\"\n",
      "Warning message:\n",
      "\"Setting row names on a tibble is deprecated.\"\n",
      "Warning message in preProcess.default(thresh = 0.95, k = 5, freqCut = 19, uniqueCut = 10, :\n",
      "\"These variables have zero variances: cell_57\"\n",
      "Warning message in .local(x, ...):\n",
      "\"Variable(s) `' constant. Cannot scale data.\"\n",
      "Warning message:\n",
      "\"Setting row names on a tibble is deprecated.\"\n",
      "Warning message in preProcess.default(thresh = 0.95, k = 5, freqCut = 19, uniqueCut = 10, :\n",
      "\"These variables have zero variances: cell_57\"\n",
      "Warning message in .local(x, ...):\n",
      "\"Variable(s) `' constant. Cannot scale data.\"\n",
      "Warning message:\n",
      "\"Setting row names on a tibble is deprecated.\"\n",
      "Warning message in preProcess.default(thresh = 0.95, k = 5, freqCut = 19, uniqueCut = 10, :\n",
      "\"These variables have zero variances: cell_57\"\n",
      "Warning message in .local(x, ...):\n",
      "\"Variable(s) `' constant. Cannot scale data.\"\n",
      "Warning message:\n",
      "\"Setting row names on a tibble is deprecated.\"\n",
      "Warning message in preProcess.default(thresh = 0.95, k = 5, freqCut = 19, uniqueCut = 10, :\n",
      "\"These variables have zero variances: cell_57\"\n",
      "Warning message in .local(x, ...):\n",
      "\"Variable(s) `' constant. Cannot scale data.\"\n",
      "Warning message:\n",
      "\"Setting row names on a tibble is deprecated.\"\n",
      "Warning message in preProcess.default(thresh = 0.95, k = 5, freqCut = 19, uniqueCut = 10, :\n",
      "\"These variables have zero variances: cell_57\"\n",
      "Warning message in .local(x, ...):\n",
      "\"Variable(s) `' constant. Cannot scale data.\"\n",
      "Warning message:\n",
      "\"Setting row names on a tibble is deprecated.\"\n",
      "Warning message in preProcess.default(thresh = 0.95, k = 5, freqCut = 19, uniqueCut = 10, :\n",
      "\"These variables have zero variances: cell_57\"\n",
      "Warning message in .local(x, ...):\n",
      "\"Variable(s) `' constant. Cannot scale data.\"\n"
     ]
    },
    {
     "name": "stderr",
     "output_type": "stream",
     "text": [
      "Warning message:\n",
      "\"Setting row names on a tibble is deprecated.\"\n",
      "Warning message in preProcess.default(thresh = 0.95, k = 5, freqCut = 19, uniqueCut = 10, :\n",
      "\"These variables have zero variances: cell_57\"\n",
      "Warning message in .local(x, ...):\n",
      "\"Variable(s) `' constant. Cannot scale data.\"\n",
      "Warning message:\n",
      "\"Setting row names on a tibble is deprecated.\"\n",
      "Warning message in preProcess.default(thresh = 0.95, k = 5, freqCut = 19, uniqueCut = 10, :\n",
      "\"These variables have zero variances: cell_57\"\n",
      "Warning message in .local(x, ...):\n",
      "\"Variable(s) `' constant. Cannot scale data.\"\n",
      "Warning message:\n",
      "\"Setting row names on a tibble is deprecated.\"\n",
      "Warning message in preProcess.default(thresh = 0.95, k = 5, freqCut = 19, uniqueCut = 10, :\n",
      "\"These variables have zero variances: cell_57\"\n",
      "Warning message in .local(x, ...):\n",
      "\"Variable(s) `' constant. Cannot scale data.\"\n",
      "Warning message:\n",
      "\"Setting row names on a tibble is deprecated.\"\n",
      "Warning message in preProcess.default(thresh = 0.95, k = 5, freqCut = 19, uniqueCut = 10, :\n",
      "\"These variables have zero variances: cell_57\"\n",
      "Warning message in .local(x, ...):\n",
      "\"Variable(s) `' constant. Cannot scale data.\"\n",
      "Warning message:\n",
      "\"Setting row names on a tibble is deprecated.\"\n",
      "Warning message in preProcess.default(thresh = 0.95, k = 5, freqCut = 19, uniqueCut = 10, :\n",
      "\"These variables have zero variances: cell_57\"\n",
      "Warning message in .local(x, ...):\n",
      "\"Variable(s) `' constant. Cannot scale data.\"\n",
      "Warning message:\n",
      "\"Setting row names on a tibble is deprecated.\"\n",
      "Warning message in preProcess.default(thresh = 0.95, k = 5, freqCut = 19, uniqueCut = 10, :\n",
      "\"These variables have zero variances: cell_57\"\n",
      "Warning message in .local(x, ...):\n",
      "\"Variable(s) `' constant. Cannot scale data.\"\n",
      "Warning message:\n",
      "\"Setting row names on a tibble is deprecated.\"\n",
      "Warning message in preProcess.default(thresh = 0.95, k = 5, freqCut = 19, uniqueCut = 10, :\n",
      "\"These variables have zero variances: cell_57\"\n",
      "Warning message in .local(x, ...):\n",
      "\"Variable(s) `' constant. Cannot scale data.\"\n",
      "Warning message:\n",
      "\"Setting row names on a tibble is deprecated.\"\n",
      "Warning message in preProcess.default(thresh = 0.95, k = 5, freqCut = 19, uniqueCut = 10, :\n",
      "\"These variables have zero variances: cell_57\"\n",
      "Warning message in .local(x, ...):\n",
      "\"Variable(s) `' constant. Cannot scale data.\"\n",
      "Warning message:\n",
      "\"Setting row names on a tibble is deprecated.\"\n",
      "Warning message in preProcess.default(thresh = 0.95, k = 5, freqCut = 19, uniqueCut = 10, :\n",
      "\"These variables have zero variances: cell_57\"\n",
      "Warning message in .local(x, ...):\n",
      "\"Variable(s) `' constant. Cannot scale data.\"\n",
      "Warning message:\n",
      "\"Setting row names on a tibble is deprecated.\"\n",
      "Warning message in preProcess.default(thresh = 0.95, k = 5, freqCut = 19, uniqueCut = 10, :\n",
      "\"These variables have zero variances: cell_57\"\n",
      "Warning message in .local(x, ...):\n",
      "\"Variable(s) `' constant. Cannot scale data.\"\n",
      "Warning message:\n",
      "\"Setting row names on a tibble is deprecated.\"\n",
      "Warning message in preProcess.default(thresh = 0.95, k = 5, freqCut = 19, uniqueCut = 10, :\n",
      "\"These variables have zero variances: cell_57\"\n",
      "Warning message in .local(x, ...):\n",
      "\"Variable(s) `' constant. Cannot scale data.\"\n",
      "Warning message:\n",
      "\"Setting row names on a tibble is deprecated.\"\n",
      "Warning message in preProcess.default(thresh = 0.95, k = 5, freqCut = 19, uniqueCut = 10, :\n",
      "\"These variables have zero variances: cell_57\"\n",
      "Warning message in .local(x, ...):\n",
      "\"Variable(s) `' constant. Cannot scale data.\"\n",
      "Warning message:\n",
      "\"Setting row names on a tibble is deprecated.\"\n",
      "Warning message in preProcess.default(thresh = 0.95, k = 5, freqCut = 19, uniqueCut = 10, :\n",
      "\"These variables have zero variances: cell_57\"\n",
      "Warning message in .local(x, ...):\n",
      "\"Variable(s) `' constant. Cannot scale data.\"\n",
      "Warning message:\n",
      "\"Setting row names on a tibble is deprecated.\"\n",
      "Warning message in preProcess.default(thresh = 0.95, k = 5, freqCut = 19, uniqueCut = 10, :\n",
      "\"These variables have zero variances: cell_57\"\n",
      "Warning message in .local(x, ...):\n",
      "\"Variable(s) `' constant. Cannot scale data.\"\n",
      "Warning message:\n",
      "\"Setting row names on a tibble is deprecated.\"\n",
      "Warning message in preProcess.default(thresh = 0.95, k = 5, freqCut = 19, uniqueCut = 10, :\n",
      "\"These variables have zero variances: cell_57\"\n",
      "Warning message in .local(x, ...):\n",
      "\"Variable(s) `' constant. Cannot scale data.\"\n",
      "Warning message:\n",
      "\"Setting row names on a tibble is deprecated.\"\n",
      "Warning message in preProcess.default(thresh = 0.95, k = 5, freqCut = 19, uniqueCut = 10, :\n",
      "\"These variables have zero variances: cell_57\"\n",
      "Warning message in .local(x, ...):\n",
      "\"Variable(s) `' constant. Cannot scale data.\"\n",
      "Warning message:\n",
      "\"Setting row names on a tibble is deprecated.\"\n",
      "Warning message in preProcess.default(thresh = 0.95, k = 5, freqCut = 19, uniqueCut = 10, :\n",
      "\"These variables have zero variances: cell_57\"\n",
      "Warning message in .local(x, ...):\n",
      "\"Variable(s) `' constant. Cannot scale data.\"\n",
      "Warning message:\n",
      "\"Setting row names on a tibble is deprecated.\"\n",
      "Warning message in preProcess.default(thresh = 0.95, k = 5, freqCut = 19, uniqueCut = 10, :\n",
      "\"These variables have zero variances: cell_57\"\n",
      "Warning message in .local(x, ...):\n",
      "\"Variable(s) `' constant. Cannot scale data.\"\n",
      "Warning message:\n",
      "\"Setting row names on a tibble is deprecated.\"\n",
      "Warning message in preProcess.default(thresh = 0.95, k = 5, freqCut = 19, uniqueCut = 10, :\n",
      "\"These variables have zero variances: cell_57\"\n",
      "Warning message in .local(x, ...):\n",
      "\"Variable(s) `' constant. Cannot scale data.\"\n",
      "Warning message:\n",
      "\"Setting row names on a tibble is deprecated.\"\n",
      "Warning message in preProcess.default(thresh = 0.95, k = 5, freqCut = 19, uniqueCut = 10, :\n",
      "\"These variables have zero variances: cell_57\"\n",
      "Warning message in .local(x, ...):\n",
      "\"Variable(s) `' constant. Cannot scale data.\"\n",
      "Warning message:\n",
      "\"Setting row names on a tibble is deprecated.\"\n",
      "Warning message in preProcess.default(thresh = 0.95, k = 5, freqCut = 19, uniqueCut = 10, :\n",
      "\"These variables have zero variances: cell_57\"\n",
      "Warning message in .local(x, ...):\n",
      "\"Variable(s) `' constant. Cannot scale data.\"\n",
      "Warning message:\n",
      "\"Setting row names on a tibble is deprecated.\"\n",
      "Warning message in preProcess.default(thresh = 0.95, k = 5, freqCut = 19, uniqueCut = 10, :\n",
      "\"These variables have zero variances: cell_57\"\n",
      "Warning message in .local(x, ...):\n",
      "\"Variable(s) `' constant. Cannot scale data.\"\n",
      "Warning message:\n",
      "\"Setting row names on a tibble is deprecated.\"\n",
      "Warning message in preProcess.default(thresh = 0.95, k = 5, freqCut = 19, uniqueCut = 10, :\n",
      "\"These variables have zero variances: cell_57\"\n",
      "Warning message in .local(x, ...):\n",
      "\"Variable(s) `' constant. Cannot scale data.\"\n",
      "Warning message:\n",
      "\"Setting row names on a tibble is deprecated.\"\n",
      "Warning message in preProcess.default(thresh = 0.95, k = 5, freqCut = 19, uniqueCut = 10, :\n",
      "\"These variables have zero variances: cell_57\"\n",
      "Warning message in .local(x, ...):\n",
      "\"Variable(s) `' constant. Cannot scale data.\"\n",
      "Warning message:\n",
      "\"Setting row names on a tibble is deprecated.\"\n",
      "Warning message in preProcess.default(thresh = 0.95, k = 5, freqCut = 19, uniqueCut = 10, :\n",
      "\"These variables have zero variances: cell_57\"\n",
      "Warning message in .local(x, ...):\n",
      "\"Variable(s) `' constant. Cannot scale data.\"\n",
      "Warning message:\n",
      "\"Setting row names on a tibble is deprecated.\"\n",
      "Warning message in preProcess.default(thresh = 0.95, k = 5, freqCut = 19, uniqueCut = 10, :\n",
      "\"These variables have zero variances: cell_57\"\n",
      "Warning message in .local(x, ...):\n",
      "\"Variable(s) `' constant. Cannot scale data.\"\n",
      "Warning message:\n",
      "\"Setting row names on a tibble is deprecated.\"\n",
      "Warning message in preProcess.default(thresh = 0.95, k = 5, freqCut = 19, uniqueCut = 10, :\n",
      "\"These variables have zero variances: cell_57\"\n",
      "Warning message in .local(x, ...):\n",
      "\"Variable(s) `' constant. Cannot scale data.\"\n",
      "Warning message:\n",
      "\"Setting row names on a tibble is deprecated.\"\n",
      "Warning message in preProcess.default(thresh = 0.95, k = 5, freqCut = 19, uniqueCut = 10, :\n",
      "\"These variables have zero variances: cell_57\"\n",
      "Warning message in .local(x, ...):\n",
      "\"Variable(s) `' constant. Cannot scale data.\"\n",
      "Warning message:\n",
      "\"Setting row names on a tibble is deprecated.\"\n",
      "Warning message in preProcess.default(thresh = 0.95, k = 5, freqCut = 19, uniqueCut = 10, :\n",
      "\"These variables have zero variances: cell_57\"\n",
      "Warning message in .local(x, ...):\n",
      "\"Variable(s) `' constant. Cannot scale data.\"\n"
     ]
    },
    {
     "name": "stderr",
     "output_type": "stream",
     "text": [
      "Warning message:\n",
      "\"Setting row names on a tibble is deprecated.\"\n",
      "Warning message in preProcess.default(thresh = 0.95, k = 5, freqCut = 19, uniqueCut = 10, :\n",
      "\"These variables have zero variances: cell_57\"\n",
      "Warning message in .local(x, ...):\n",
      "\"Variable(s) `' constant. Cannot scale data.\"\n",
      "Warning message:\n",
      "\"Setting row names on a tibble is deprecated.\"\n",
      "Warning message in preProcess.default(thresh = 0.95, k = 5, freqCut = 19, uniqueCut = 10, :\n",
      "\"These variables have zero variances: cell_57\"\n",
      "Warning message in .local(x, ...):\n",
      "\"Variable(s) `' constant. Cannot scale data.\"\n",
      "Warning message:\n",
      "\"Setting row names on a tibble is deprecated.\"\n",
      "Warning message in preProcess.default(thresh = 0.95, k = 5, freqCut = 19, uniqueCut = 10, :\n",
      "\"These variables have zero variances: cell_57\"\n",
      "Warning message in .local(x, ...):\n",
      "\"Variable(s) `' constant. Cannot scale data.\"\n",
      "Warning message:\n",
      "\"Setting row names on a tibble is deprecated.\"\n",
      "Warning message in preProcess.default(thresh = 0.95, k = 5, freqCut = 19, uniqueCut = 10, :\n",
      "\"These variables have zero variances: cell_57\"\n",
      "Warning message in .local(x, ...):\n",
      "\"Variable(s) `' constant. Cannot scale data.\"\n",
      "Warning message:\n",
      "\"Setting row names on a tibble is deprecated.\"\n",
      "Warning message in preProcess.default(thresh = 0.95, k = 5, freqCut = 19, uniqueCut = 10, :\n",
      "\"These variables have zero variances: cell_57\"\n",
      "Warning message in .local(x, ...):\n",
      "\"Variable(s) `' constant. Cannot scale data.\"\n",
      "Warning message:\n",
      "\"Setting row names on a tibble is deprecated.\"\n",
      "Warning message in preProcess.default(thresh = 0.95, k = 5, freqCut = 19, uniqueCut = 10, :\n",
      "\"These variables have zero variances: cell_57\"\n",
      "Warning message in .local(x, ...):\n",
      "\"Variable(s) `' constant. Cannot scale data.\"\n",
      "Warning message:\n",
      "\"Setting row names on a tibble is deprecated.\"\n",
      "Warning message in preProcess.default(thresh = 0.95, k = 5, freqCut = 19, uniqueCut = 10, :\n",
      "\"These variables have zero variances: cell_57\"\n",
      "Warning message in .local(x, ...):\n",
      "\"Variable(s) `' constant. Cannot scale data.\"\n",
      "Warning message:\n",
      "\"Setting row names on a tibble is deprecated.\"\n",
      "Warning message in preProcess.default(thresh = 0.95, k = 5, freqCut = 19, uniqueCut = 10, :\n",
      "\"These variables have zero variances: cell_57\"\n",
      "Warning message in .local(x, ...):\n",
      "\"Variable(s) `' constant. Cannot scale data.\"\n",
      "Warning message:\n",
      "\"Setting row names on a tibble is deprecated.\"\n",
      "Warning message in preProcess.default(thresh = 0.95, k = 5, freqCut = 19, uniqueCut = 10, :\n",
      "\"These variables have zero variances: cell_57\"\n",
      "Warning message in .local(x, ...):\n",
      "\"Variable(s) `' constant. Cannot scale data.\"\n",
      "Warning message:\n",
      "\"Setting row names on a tibble is deprecated.\"\n",
      "Warning message in preProcess.default(thresh = 0.95, k = 5, freqCut = 19, uniqueCut = 10, :\n",
      "\"These variables have zero variances: cell_57\"\n",
      "Warning message in .local(x, ...):\n",
      "\"Variable(s) `' constant. Cannot scale data.\"\n",
      "Warning message:\n",
      "\"Setting row names on a tibble is deprecated.\"\n",
      "Warning message in preProcess.default(thresh = 0.95, k = 5, freqCut = 19, uniqueCut = 10, :\n",
      "\"These variables have zero variances: cell_57\"\n",
      "Warning message in .local(x, ...):\n",
      "\"Variable(s) `' constant. Cannot scale data.\"\n",
      "Warning message:\n",
      "\"Setting row names on a tibble is deprecated.\"\n",
      "Warning message in preProcess.default(thresh = 0.95, k = 5, freqCut = 19, uniqueCut = 10, :\n",
      "\"These variables have zero variances: cell_57\"\n",
      "Warning message in .local(x, ...):\n",
      "\"Variable(s) `' constant. Cannot scale data.\"\n",
      "Warning message:\n",
      "\"Setting row names on a tibble is deprecated.\"\n",
      "Warning message in preProcess.default(thresh = 0.95, k = 5, freqCut = 19, uniqueCut = 10, :\n",
      "\"These variables have zero variances: cell_57\"\n",
      "Warning message in .local(x, ...):\n",
      "\"Variable(s) `' constant. Cannot scale data.\"\n",
      "Warning message:\n",
      "\"Setting row names on a tibble is deprecated.\"\n",
      "Warning message in preProcess.default(thresh = 0.95, k = 5, freqCut = 19, uniqueCut = 10, :\n",
      "\"These variables have zero variances: cell_57\"\n",
      "Warning message in .local(x, ...):\n",
      "\"Variable(s) `' constant. Cannot scale data.\"\n",
      "Warning message:\n",
      "\"Setting row names on a tibble is deprecated.\"\n",
      "Warning message in preProcess.default(thresh = 0.95, k = 5, freqCut = 19, uniqueCut = 10, :\n",
      "\"These variables have zero variances: cell_57\"\n",
      "Warning message in .local(x, ...):\n",
      "\"Variable(s) `' constant. Cannot scale data.\"\n",
      "Warning message:\n",
      "\"Setting row names on a tibble is deprecated.\"\n",
      "Warning message in preProcess.default(thresh = 0.95, k = 5, freqCut = 19, uniqueCut = 10, :\n",
      "\"These variables have zero variances: cell_57\"\n",
      "Warning message in .local(x, ...):\n",
      "\"Variable(s) `' constant. Cannot scale data.\"\n",
      "Warning message:\n",
      "\"Setting row names on a tibble is deprecated.\"\n",
      "Warning message in preProcess.default(thresh = 0.95, k = 5, freqCut = 19, uniqueCut = 10, :\n",
      "\"These variables have zero variances: cell_57\"\n",
      "Warning message in .local(x, ...):\n",
      "\"Variable(s) `' constant. Cannot scale data.\"\n",
      "Warning message:\n",
      "\"Setting row names on a tibble is deprecated.\"\n",
      "Warning message in preProcess.default(thresh = 0.95, k = 5, freqCut = 19, uniqueCut = 10, :\n",
      "\"These variables have zero variances: cell_57\"\n",
      "Warning message in .local(x, ...):\n",
      "\"Variable(s) `' constant. Cannot scale data.\"\n",
      "Warning message:\n",
      "\"Setting row names on a tibble is deprecated.\"\n",
      "Warning message in preProcess.default(thresh = 0.95, k = 5, freqCut = 19, uniqueCut = 10, :\n",
      "\"These variables have zero variances: cell_57\"\n",
      "Warning message in .local(x, ...):\n",
      "\"Variable(s) `' constant. Cannot scale data.\"\n",
      "Warning message:\n",
      "\"Setting row names on a tibble is deprecated.\"\n",
      "Warning message in preProcess.default(thresh = 0.95, k = 5, freqCut = 19, uniqueCut = 10, :\n",
      "\"These variables have zero variances: cell_57\"\n",
      "Warning message in .local(x, ...):\n",
      "\"Variable(s) `' constant. Cannot scale data.\"\n",
      "Warning message:\n",
      "\"Setting row names on a tibble is deprecated.\"\n",
      "Warning message in preProcess.default(thresh = 0.95, k = 5, freqCut = 19, uniqueCut = 10, :\n",
      "\"These variables have zero variances: cell_57\"\n",
      "Warning message in .local(x, ...):\n",
      "\"Variable(s) `' constant. Cannot scale data.\"\n",
      "Warning message:\n",
      "\"Setting row names on a tibble is deprecated.\"\n",
      "Warning message in preProcess.default(thresh = 0.95, k = 5, freqCut = 19, uniqueCut = 10, :\n",
      "\"These variables have zero variances: cell_57\"\n",
      "Warning message in .local(x, ...):\n",
      "\"Variable(s) `' constant. Cannot scale data.\"\n",
      "Warning message:\n",
      "\"Setting row names on a tibble is deprecated.\"\n",
      "Warning message in preProcess.default(thresh = 0.95, k = 5, freqCut = 19, uniqueCut = 10, :\n",
      "\"These variables have zero variances: cell_57\"\n",
      "Warning message in .local(x, ...):\n",
      "\"Variable(s) `' constant. Cannot scale data.\"\n",
      "Warning message:\n",
      "\"Setting row names on a tibble is deprecated.\"\n",
      "Warning message in preProcess.default(thresh = 0.95, k = 5, freqCut = 19, uniqueCut = 10, :\n",
      "\"These variables have zero variances: cell_57\"\n",
      "Warning message in .local(x, ...):\n",
      "\"Variable(s) `' constant. Cannot scale data.\"\n",
      "Warning message:\n",
      "\"Setting row names on a tibble is deprecated.\"\n",
      "Warning message in preProcess.default(thresh = 0.95, k = 5, freqCut = 19, uniqueCut = 10, :\n",
      "\"These variables have zero variances: cell_57\"\n",
      "Warning message in .local(x, ...):\n",
      "\"Variable(s) `' constant. Cannot scale data.\"\n",
      "Warning message:\n",
      "\"Setting row names on a tibble is deprecated.\"\n",
      "Warning message in preProcess.default(thresh = 0.95, k = 5, freqCut = 19, uniqueCut = 10, :\n",
      "\"These variables have zero variances: cell_57\"\n",
      "Warning message in .local(x, ...):\n",
      "\"Variable(s) `' constant. Cannot scale data.\"\n",
      "Warning message:\n",
      "\"Setting row names on a tibble is deprecated.\"\n",
      "Warning message in preProcess.default(thresh = 0.95, k = 5, freqCut = 19, uniqueCut = 10, :\n",
      "\"These variables have zero variances: cell_57\"\n",
      "Warning message in .local(x, ...):\n",
      "\"Variable(s) `' constant. Cannot scale data.\"\n",
      "Warning message:\n",
      "\"Setting row names on a tibble is deprecated.\"\n",
      "Warning message in preProcess.default(thresh = 0.95, k = 5, freqCut = 19, uniqueCut = 10, :\n",
      "\"These variables have zero variances: cell_57\"\n",
      "Warning message in .local(x, ...):\n",
      "\"Variable(s) `' constant. Cannot scale data.\"\n",
      "Warning message:\n",
      "\"Setting row names on a tibble is deprecated.\"\n",
      "Warning message in preProcess.default(thresh = 0.95, k = 5, freqCut = 19, uniqueCut = 10, :\n",
      "\"These variables have zero variances: cell_57\"\n",
      "Warning message in .local(x, ...):\n",
      "\"Variable(s) `' constant. Cannot scale data.\"\n"
     ]
    },
    {
     "name": "stderr",
     "output_type": "stream",
     "text": [
      "Warning message:\n",
      "\"Setting row names on a tibble is deprecated.\"\n",
      "Warning message in preProcess.default(thresh = 0.95, k = 5, freqCut = 19, uniqueCut = 10, :\n",
      "\"These variables have zero variances: cell_57\"\n",
      "Warning message in .local(x, ...):\n",
      "\"Variable(s) `' constant. Cannot scale data.\"\n",
      "Warning message:\n",
      "\"Setting row names on a tibble is deprecated.\"\n",
      "Warning message in preProcess.default(thresh = 0.95, k = 5, freqCut = 19, uniqueCut = 10, :\n",
      "\"These variables have zero variances: cell_57\"\n",
      "Warning message in .local(x, ...):\n",
      "\"Variable(s) `' constant. Cannot scale data.\"\n",
      "Warning message:\n",
      "\"Setting row names on a tibble is deprecated.\"\n",
      "Warning message in preProcess.default(thresh = 0.95, k = 5, freqCut = 19, uniqueCut = 10, :\n",
      "\"These variables have zero variances: cell_57\"\n",
      "Warning message in .local(x, ...):\n",
      "\"Variable(s) `' constant. Cannot scale data.\"\n",
      "Warning message:\n",
      "\"Setting row names on a tibble is deprecated.\"\n",
      "Warning message in preProcess.default(thresh = 0.95, k = 5, freqCut = 19, uniqueCut = 10, :\n",
      "\"These variables have zero variances: cell_57\"\n",
      "Warning message in .local(x, ...):\n",
      "\"Variable(s) `' constant. Cannot scale data.\"\n",
      "Warning message:\n",
      "\"Setting row names on a tibble is deprecated.\"\n",
      "Warning message in preProcess.default(thresh = 0.95, k = 5, freqCut = 19, uniqueCut = 10, :\n",
      "\"These variables have zero variances: cell_57\"\n",
      "Warning message in .local(x, ...):\n",
      "\"Variable(s) `' constant. Cannot scale data.\"\n",
      "Warning message:\n",
      "\"Setting row names on a tibble is deprecated.\"\n",
      "Warning message in preProcess.default(thresh = 0.95, k = 5, freqCut = 19, uniqueCut = 10, :\n",
      "\"These variables have zero variances: cell_57\"\n",
      "Warning message in .local(x, ...):\n",
      "\"Variable(s) `' constant. Cannot scale data.\"\n",
      "Warning message:\n",
      "\"Setting row names on a tibble is deprecated.\"\n",
      "Warning message in preProcess.default(thresh = 0.95, k = 5, freqCut = 19, uniqueCut = 10, :\n",
      "\"These variables have zero variances: cell_57\"\n",
      "Warning message in .local(x, ...):\n",
      "\"Variable(s) `' constant. Cannot scale data.\"\n",
      "Warning message:\n",
      "\"Setting row names on a tibble is deprecated.\"\n",
      "Warning message in preProcess.default(thresh = 0.95, k = 5, freqCut = 19, uniqueCut = 10, :\n",
      "\"These variables have zero variances: cell_57\"\n",
      "Warning message in .local(x, ...):\n",
      "\"Variable(s) `' constant. Cannot scale data.\"\n",
      "Warning message:\n",
      "\"Setting row names on a tibble is deprecated.\"\n",
      "Warning message in preProcess.default(thresh = 0.95, k = 5, freqCut = 19, uniqueCut = 10, :\n",
      "\"These variables have zero variances: cell_57\"\n",
      "Warning message in .local(x, ...):\n",
      "\"Variable(s) `' constant. Cannot scale data.\"\n",
      "Warning message:\n",
      "\"Setting row names on a tibble is deprecated.\"\n",
      "Warning message in preProcess.default(thresh = 0.95, k = 5, freqCut = 19, uniqueCut = 10, :\n",
      "\"These variables have zero variances: cell_57\"\n",
      "Warning message in .local(x, ...):\n",
      "\"Variable(s) `' constant. Cannot scale data.\"\n",
      "Warning message:\n",
      "\"Setting row names on a tibble is deprecated.\"\n",
      "Warning message in preProcess.default(thresh = 0.95, k = 5, freqCut = 19, uniqueCut = 10, :\n",
      "\"These variables have zero variances: cell_57\"\n",
      "Warning message in .local(x, ...):\n",
      "\"Variable(s) `' constant. Cannot scale data.\"\n",
      "Warning message:\n",
      "\"Setting row names on a tibble is deprecated.\"\n",
      "Warning message in preProcess.default(thresh = 0.95, k = 5, freqCut = 19, uniqueCut = 10, :\n",
      "\"These variables have zero variances: cell_57\"\n",
      "Warning message in .local(x, ...):\n",
      "\"Variable(s) `' constant. Cannot scale data.\"\n",
      "Warning message:\n",
      "\"Setting row names on a tibble is deprecated.\"\n",
      "Warning message in preProcess.default(thresh = 0.95, k = 5, freqCut = 19, uniqueCut = 10, :\n",
      "\"These variables have zero variances: cell_57\"\n",
      "Warning message in .local(x, ...):\n",
      "\"Variable(s) `' constant. Cannot scale data.\"\n",
      "Warning message:\n",
      "\"Setting row names on a tibble is deprecated.\"\n",
      "Warning message in preProcess.default(thresh = 0.95, k = 5, freqCut = 19, uniqueCut = 10, :\n",
      "\"These variables have zero variances: cell_57\"\n",
      "Warning message in .local(x, ...):\n",
      "\"Variable(s) `' constant. Cannot scale data.\"\n",
      "Warning message:\n",
      "\"Setting row names on a tibble is deprecated.\"\n",
      "Warning message in preProcess.default(thresh = 0.95, k = 5, freqCut = 19, uniqueCut = 10, :\n",
      "\"These variables have zero variances: cell_57\"\n",
      "Warning message in .local(x, ...):\n",
      "\"Variable(s) `' constant. Cannot scale data.\"\n",
      "Warning message:\n",
      "\"Setting row names on a tibble is deprecated.\"\n",
      "Warning message in preProcess.default(thresh = 0.95, k = 5, freqCut = 19, uniqueCut = 10, :\n",
      "\"These variables have zero variances: cell_57\"\n",
      "Warning message in .local(x, ...):\n",
      "\"Variable(s) `' constant. Cannot scale data.\"\n",
      "Warning message:\n",
      "\"Setting row names on a tibble is deprecated.\"\n",
      "Warning message in preProcess.default(thresh = 0.95, k = 5, freqCut = 19, uniqueCut = 10, :\n",
      "\"These variables have zero variances: cell_57\"\n",
      "Warning message in .local(x, ...):\n",
      "\"Variable(s) `' constant. Cannot scale data.\"\n",
      "Warning message:\n",
      "\"Setting row names on a tibble is deprecated.\"\n",
      "Warning message in preProcess.default(thresh = 0.95, k = 5, freqCut = 19, uniqueCut = 10, :\n",
      "\"These variables have zero variances: cell_57\"\n",
      "Warning message in .local(x, ...):\n",
      "\"Variable(s) `' constant. Cannot scale data.\"\n",
      "Warning message:\n",
      "\"Setting row names on a tibble is deprecated.\"\n",
      "Warning message in preProcess.default(thresh = 0.95, k = 5, freqCut = 19, uniqueCut = 10, :\n",
      "\"These variables have zero variances: cell_57\"\n",
      "Warning message in .local(x, ...):\n",
      "\"Variable(s) `' constant. Cannot scale data.\"\n",
      "Warning message:\n",
      "\"Setting row names on a tibble is deprecated.\"\n",
      "Warning message in preProcess.default(thresh = 0.95, k = 5, freqCut = 19, uniqueCut = 10, :\n",
      "\"These variables have zero variances: cell_57\"\n",
      "Warning message in .local(x, ...):\n",
      "\"Variable(s) `' constant. Cannot scale data.\"\n",
      "Warning message:\n",
      "\"Setting row names on a tibble is deprecated.\"\n",
      "Warning message in preProcess.default(thresh = 0.95, k = 5, freqCut = 19, uniqueCut = 10, :\n",
      "\"These variables have zero variances: cell_57\"\n",
      "Warning message in .local(x, ...):\n",
      "\"Variable(s) `' constant. Cannot scale data.\"\n",
      "Warning message:\n",
      "\"Setting row names on a tibble is deprecated.\"\n",
      "Warning message in preProcess.default(thresh = 0.95, k = 5, freqCut = 19, uniqueCut = 10, :\n",
      "\"These variables have zero variances: cell_57\"\n",
      "Warning message in .local(x, ...):\n",
      "\"Variable(s) `' constant. Cannot scale data.\"\n",
      "Warning message:\n",
      "\"Setting row names on a tibble is deprecated.\"\n",
      "Warning message in preProcess.default(thresh = 0.95, k = 5, freqCut = 19, uniqueCut = 10, :\n",
      "\"These variables have zero variances: cell_57\"\n",
      "Warning message in .local(x, ...):\n",
      "\"Variable(s) `' constant. Cannot scale data.\"\n",
      "Warning message:\n",
      "\"Setting row names on a tibble is deprecated.\"\n",
      "Warning message in preProcess.default(thresh = 0.95, k = 5, freqCut = 19, uniqueCut = 10, :\n",
      "\"These variables have zero variances: cell_57\"\n",
      "Warning message in .local(x, ...):\n",
      "\"Variable(s) `' constant. Cannot scale data.\"\n",
      "Warning message:\n",
      "\"Setting row names on a tibble is deprecated.\"\n",
      "Warning message in preProcess.default(thresh = 0.95, k = 5, freqCut = 19, uniqueCut = 10, :\n",
      "\"These variables have zero variances: cell_57\"\n",
      "Warning message in .local(x, ...):\n",
      "\"Variable(s) `' constant. Cannot scale data.\"\n",
      "Warning message:\n",
      "\"Setting row names on a tibble is deprecated.\"\n",
      "Warning message in preProcess.default(thresh = 0.95, k = 5, freqCut = 19, uniqueCut = 10, :\n",
      "\"These variables have zero variances: cell_57\"\n",
      "Warning message in .local(x, ...):\n",
      "\"Variable(s) `' constant. Cannot scale data.\"\n",
      "Warning message:\n",
      "\"Setting row names on a tibble is deprecated.\"\n",
      "Warning message in preProcess.default(thresh = 0.95, k = 5, freqCut = 19, uniqueCut = 10, :\n",
      "\"These variables have zero variances: cell_57\"\n",
      "Warning message in .local(x, ...):\n",
      "\"Variable(s) `' constant. Cannot scale data.\"\n",
      "Warning message:\n",
      "\"Setting row names on a tibble is deprecated.\"\n",
      "Warning message in preProcess.default(thresh = 0.95, k = 5, freqCut = 19, uniqueCut = 10, :\n",
      "\"These variables have zero variances: cell_57\"\n",
      "Warning message in .local(x, ...):\n",
      "\"Variable(s) `' constant. Cannot scale data.\"\n",
      "Warning message:\n",
      "\"Setting row names on a tibble is deprecated.\"\n",
      "Warning message in preProcess.default(thresh = 0.95, k = 5, freqCut = 19, uniqueCut = 10, :\n",
      "\"These variables have zero variances: cell_57\"\n",
      "Warning message in .local(x, ...):\n",
      "\"Variable(s) `' constant. Cannot scale data.\"\n"
     ]
    },
    {
     "name": "stderr",
     "output_type": "stream",
     "text": [
      "Warning message:\n",
      "\"Setting row names on a tibble is deprecated.\"\n",
      "Warning message in preProcess.default(thresh = 0.95, k = 5, freqCut = 19, uniqueCut = 10, :\n",
      "\"These variables have zero variances: cell_57\"\n",
      "Warning message in .local(x, ...):\n",
      "\"Variable(s) `' constant. Cannot scale data.\"\n",
      "Warning message:\n",
      "\"Setting row names on a tibble is deprecated.\"\n",
      "Warning message in preProcess.default(thresh = 0.95, k = 5, freqCut = 19, uniqueCut = 10, :\n",
      "\"These variables have zero variances: cell_57\"\n",
      "Warning message in .local(x, ...):\n",
      "\"Variable(s) `' constant. Cannot scale data.\"\n",
      "Warning message:\n",
      "\"Setting row names on a tibble is deprecated.\"\n",
      "Warning message in preProcess.default(thresh = 0.95, k = 5, freqCut = 19, uniqueCut = 10, :\n",
      "\"These variables have zero variances: cell_57\"\n",
      "Warning message in .local(x, ...):\n",
      "\"Variable(s) `' constant. Cannot scale data.\"\n",
      "Warning message:\n",
      "\"Setting row names on a tibble is deprecated.\"\n",
      "Warning message in preProcess.default(thresh = 0.95, k = 5, freqCut = 19, uniqueCut = 10, :\n",
      "\"These variables have zero variances: cell_57\"\n",
      "Warning message in .local(x, ...):\n",
      "\"Variable(s) `' constant. Cannot scale data.\"\n",
      "Warning message:\n",
      "\"Setting row names on a tibble is deprecated.\"\n",
      "Warning message in preProcess.default(thresh = 0.95, k = 5, freqCut = 19, uniqueCut = 10, :\n",
      "\"These variables have zero variances: cell_57\"\n",
      "Warning message in .local(x, ...):\n",
      "\"Variable(s) `' constant. Cannot scale data.\"\n",
      "Warning message:\n",
      "\"Setting row names on a tibble is deprecated.\"\n",
      "Warning message in preProcess.default(thresh = 0.95, k = 5, freqCut = 19, uniqueCut = 10, :\n",
      "\"These variables have zero variances: cell_57\"\n",
      "Warning message in .local(x, ...):\n",
      "\"Variable(s) `' constant. Cannot scale data.\"\n",
      "Warning message:\n",
      "\"Setting row names on a tibble is deprecated.\"\n",
      "Warning message in preProcess.default(thresh = 0.95, k = 5, freqCut = 19, uniqueCut = 10, :\n",
      "\"These variables have zero variances: cell_57\"\n",
      "Warning message in .local(x, ...):\n",
      "\"Variable(s) `' constant. Cannot scale data.\"\n",
      "Warning message:\n",
      "\"Setting row names on a tibble is deprecated.\"\n",
      "Warning message in preProcess.default(thresh = 0.95, k = 5, freqCut = 19, uniqueCut = 10, :\n",
      "\"These variables have zero variances: cell_57\"\n",
      "Warning message in .local(x, ...):\n",
      "\"Variable(s) `' constant. Cannot scale data.\"\n",
      "Warning message:\n",
      "\"Setting row names on a tibble is deprecated.\"\n",
      "Warning message in preProcess.default(thresh = 0.95, k = 5, freqCut = 19, uniqueCut = 10, :\n",
      "\"These variables have zero variances: cell_57\"\n",
      "Warning message in .local(x, ...):\n",
      "\"Variable(s) `' constant. Cannot scale data.\"\n",
      "Warning message:\n",
      "\"Setting row names on a tibble is deprecated.\"\n",
      "Warning message in preProcess.default(thresh = 0.95, k = 5, freqCut = 19, uniqueCut = 10, :\n",
      "\"These variables have zero variances: cell_57\"\n",
      "Warning message in .local(x, ...):\n",
      "\"Variable(s) `' constant. Cannot scale data.\"\n",
      "Warning message:\n",
      "\"Setting row names on a tibble is deprecated.\"\n",
      "Warning message in preProcess.default(thresh = 0.95, k = 5, freqCut = 19, uniqueCut = 10, :\n",
      "\"These variables have zero variances: cell_57\"\n",
      "Warning message in .local(x, ...):\n",
      "\"Variable(s) `' constant. Cannot scale data.\"\n",
      "Warning message:\n",
      "\"Setting row names on a tibble is deprecated.\"\n",
      "Warning message in preProcess.default(thresh = 0.95, k = 5, freqCut = 19, uniqueCut = 10, :\n",
      "\"These variables have zero variances: cell_57\"\n",
      "Warning message in .local(x, ...):\n",
      "\"Variable(s) `' constant. Cannot scale data.\"\n",
      "Warning message:\n",
      "\"Setting row names on a tibble is deprecated.\"\n",
      "Warning message in preProcess.default(thresh = 0.95, k = 5, freqCut = 19, uniqueCut = 10, :\n",
      "\"These variables have zero variances: cell_57\"\n",
      "Warning message in .local(x, ...):\n",
      "\"Variable(s) `' constant. Cannot scale data.\"\n",
      "Warning message:\n",
      "\"Setting row names on a tibble is deprecated.\"\n",
      "Warning message in preProcess.default(thresh = 0.95, k = 5, freqCut = 19, uniqueCut = 10, :\n",
      "\"These variables have zero variances: cell_57\"\n",
      "Warning message in .local(x, ...):\n",
      "\"Variable(s) `' constant. Cannot scale data.\"\n",
      "Warning message:\n",
      "\"Setting row names on a tibble is deprecated.\"\n",
      "Warning message in preProcess.default(thresh = 0.95, k = 5, freqCut = 19, uniqueCut = 10, :\n",
      "\"These variables have zero variances: cell_57\"\n",
      "Warning message in .local(x, ...):\n",
      "\"Variable(s) `' constant. Cannot scale data.\"\n",
      "Warning message:\n",
      "\"Setting row names on a tibble is deprecated.\"\n",
      "Warning message in preProcess.default(thresh = 0.95, k = 5, freqCut = 19, uniqueCut = 10, :\n",
      "\"These variables have zero variances: cell_57\"\n",
      "Warning message in .local(x, ...):\n",
      "\"Variable(s) `' constant. Cannot scale data.\"\n",
      "Warning message:\n",
      "\"Setting row names on a tibble is deprecated.\"\n",
      "Warning message in preProcess.default(thresh = 0.95, k = 5, freqCut = 19, uniqueCut = 10, :\n",
      "\"These variables have zero variances: cell_57\"\n",
      "Warning message in .local(x, ...):\n",
      "\"Variable(s) `' constant. Cannot scale data.\"\n",
      "Warning message:\n",
      "\"Setting row names on a tibble is deprecated.\"\n",
      "Warning message in preProcess.default(thresh = 0.95, k = 5, freqCut = 19, uniqueCut = 10, :\n",
      "\"These variables have zero variances: cell_57\"\n",
      "Warning message in .local(x, ...):\n",
      "\"Variable(s) `' constant. Cannot scale data.\"\n",
      "Warning message:\n",
      "\"Setting row names on a tibble is deprecated.\"\n",
      "Warning message in preProcess.default(thresh = 0.95, k = 5, freqCut = 19, uniqueCut = 10, :\n",
      "\"These variables have zero variances: cell_57\"\n",
      "Warning message in .local(x, ...):\n",
      "\"Variable(s) `' constant. Cannot scale data.\"\n",
      "Warning message:\n",
      "\"Setting row names on a tibble is deprecated.\"\n",
      "Warning message in preProcess.default(thresh = 0.95, k = 5, freqCut = 19, uniqueCut = 10, :\n",
      "\"These variables have zero variances: cell_57\"\n",
      "Warning message in .local(x, ...):\n",
      "\"Variable(s) `' constant. Cannot scale data.\"\n",
      "Warning message:\n",
      "\"Setting row names on a tibble is deprecated.\"\n",
      "Warning message in preProcess.default(thresh = 0.95, k = 5, freqCut = 19, uniqueCut = 10, :\n",
      "\"These variables have zero variances: cell_57\"\n",
      "Warning message in .local(x, ...):\n",
      "\"Variable(s) `' constant. Cannot scale data.\"\n",
      "Warning message:\n",
      "\"Setting row names on a tibble is deprecated.\"\n",
      "Warning message in preProcess.default(thresh = 0.95, k = 5, freqCut = 19, uniqueCut = 10, :\n",
      "\"These variables have zero variances: cell_57\"\n",
      "Warning message in .local(x, ...):\n",
      "\"Variable(s) `' constant. Cannot scale data.\"\n",
      "Warning message:\n",
      "\"Setting row names on a tibble is deprecated.\"\n",
      "Warning message in preProcess.default(thresh = 0.95, k = 5, freqCut = 19, uniqueCut = 10, :\n",
      "\"These variables have zero variances: cell_57\"\n",
      "Warning message in .local(x, ...):\n",
      "\"Variable(s) `' constant. Cannot scale data.\"\n",
      "Warning message:\n",
      "\"Setting row names on a tibble is deprecated.\"\n",
      "Warning message in preProcess.default(thresh = 0.95, k = 5, freqCut = 19, uniqueCut = 10, :\n",
      "\"These variables have zero variances: cell_57\"\n",
      "Warning message in .local(x, ...):\n",
      "\"Variable(s) `' constant. Cannot scale data.\"\n",
      "Warning message:\n",
      "\"Setting row names on a tibble is deprecated.\"\n",
      "Warning message in preProcess.default(thresh = 0.95, k = 5, freqCut = 19, uniqueCut = 10, :\n",
      "\"These variables have zero variances: cell_57\"\n",
      "Warning message in .local(x, ...):\n",
      "\"Variable(s) `' constant. Cannot scale data.\"\n",
      "Warning message:\n",
      "\"Setting row names on a tibble is deprecated.\"\n",
      "Warning message in preProcess.default(thresh = 0.95, k = 5, freqCut = 19, uniqueCut = 10, :\n",
      "\"These variables have zero variances: cell_57\"\n",
      "Warning message in .local(x, ...):\n",
      "\"Variable(s) `' constant. Cannot scale data.\"\n",
      "Warning message:\n",
      "\"Setting row names on a tibble is deprecated.\"\n",
      "Warning message in preProcess.default(thresh = 0.95, k = 5, freqCut = 19, uniqueCut = 10, :\n",
      "\"These variables have zero variances: cell_57\"\n",
      "Warning message in .local(x, ...):\n",
      "\"Variable(s) `' constant. Cannot scale data.\"\n",
      "Warning message:\n",
      "\"Setting row names on a tibble is deprecated.\"\n",
      "Warning message in preProcess.default(thresh = 0.95, k = 5, freqCut = 19, uniqueCut = 10, :\n",
      "\"These variables have zero variances: cell_57\"\n",
      "Warning message in .local(x, ...):\n",
      "\"Variable(s) `' constant. Cannot scale data.\"\n",
      "Warning message:\n",
      "\"Setting row names on a tibble is deprecated.\"\n",
      "Warning message in preProcess.default(thresh = 0.95, k = 5, freqCut = 19, uniqueCut = 10, :\n",
      "\"These variables have zero variances: cell_57\"\n",
      "Warning message in .local(x, ...):\n",
      "\"Variable(s) `' constant. Cannot scale data.\"\n"
     ]
    },
    {
     "name": "stderr",
     "output_type": "stream",
     "text": [
      "Warning message:\n",
      "\"Setting row names on a tibble is deprecated.\"\n",
      "Warning message in preProcess.default(thresh = 0.95, k = 5, freqCut = 19, uniqueCut = 10, :\n",
      "\"These variables have zero variances: cell_57\"\n",
      "Warning message in .local(x, ...):\n",
      "\"Variable(s) `' constant. Cannot scale data.\"\n",
      "Warning message:\n",
      "\"Setting row names on a tibble is deprecated.\"\n",
      "Warning message in preProcess.default(thresh = 0.95, k = 5, freqCut = 19, uniqueCut = 10, :\n",
      "\"These variables have zero variances: cell_57\"\n",
      "Warning message in .local(x, ...):\n",
      "\"Variable(s) `' constant. Cannot scale data.\"\n",
      "Warning message:\n",
      "\"Setting row names on a tibble is deprecated.\"\n",
      "Warning message in preProcess.default(thresh = 0.95, k = 5, freqCut = 19, uniqueCut = 10, :\n",
      "\"These variables have zero variances: cell_57\"\n",
      "Warning message in .local(x, ...):\n",
      "\"Variable(s) `' constant. Cannot scale data.\"\n",
      "Warning message:\n",
      "\"Setting row names on a tibble is deprecated.\"\n",
      "Warning message in preProcess.default(thresh = 0.95, k = 5, freqCut = 19, uniqueCut = 10, :\n",
      "\"These variables have zero variances: cell_57\"\n",
      "Warning message in .local(x, ...):\n",
      "\"Variable(s) `' constant. Cannot scale data.\"\n",
      "Warning message:\n",
      "\"Setting row names on a tibble is deprecated.\"\n",
      "Warning message in preProcess.default(thresh = 0.95, k = 5, freqCut = 19, uniqueCut = 10, :\n",
      "\"These variables have zero variances: cell_57\"\n",
      "Warning message in .local(x, ...):\n",
      "\"Variable(s) `' constant. Cannot scale data.\"\n",
      "Warning message:\n",
      "\"Setting row names on a tibble is deprecated.\"\n",
      "Warning message in preProcess.default(thresh = 0.95, k = 5, freqCut = 19, uniqueCut = 10, :\n",
      "\"These variables have zero variances: cell_57\"\n",
      "Warning message in .local(x, ...):\n",
      "\"Variable(s) `' constant. Cannot scale data.\"\n",
      "Warning message:\n",
      "\"Setting row names on a tibble is deprecated.\"\n",
      "Warning message in preProcess.default(thresh = 0.95, k = 5, freqCut = 19, uniqueCut = 10, :\n",
      "\"These variables have zero variances: cell_57\"\n",
      "Warning message in .local(x, ...):\n",
      "\"Variable(s) `' constant. Cannot scale data.\"\n",
      "Warning message:\n",
      "\"Setting row names on a tibble is deprecated.\"\n",
      "Warning message in preProcess.default(thresh = 0.95, k = 5, freqCut = 19, uniqueCut = 10, :\n",
      "\"These variables have zero variances: cell_57\"\n",
      "Warning message in .local(x, ...):\n",
      "\"Variable(s) `' constant. Cannot scale data.\"\n",
      "Warning message:\n",
      "\"Setting row names on a tibble is deprecated.\"\n",
      "Warning message in preProcess.default(thresh = 0.95, k = 5, freqCut = 19, uniqueCut = 10, :\n",
      "\"These variables have zero variances: cell_57\"\n",
      "Warning message in .local(x, ...):\n",
      "\"Variable(s) `' constant. Cannot scale data.\"\n"
     ]
    },
    {
     "name": "stdout",
     "output_type": "stream",
     "text": [
      "maximum number of iterations reached 4.946761e-05 4.402735e-05"
     ]
    },
    {
     "name": "stderr",
     "output_type": "stream",
     "text": [
      "Warning message:\n",
      "\"Setting row names on a tibble is deprecated.\"\n",
      "Warning message in preProcess.default(thresh = 0.95, k = 5, freqCut = 19, uniqueCut = 10, :\n",
      "\"These variables have zero variances: cell_57\"\n",
      "Warning message in .local(x, ...):\n",
      "\"Variable(s) `' constant. Cannot scale data.\"\n",
      "Warning message:\n",
      "\"Setting row names on a tibble is deprecated.\"\n",
      "Warning message in preProcess.default(thresh = 0.95, k = 5, freqCut = 19, uniqueCut = 10, :\n",
      "\"These variables have zero variances: cell_57\"\n",
      "Warning message in .local(x, ...):\n",
      "\"Variable(s) `' constant. Cannot scale data.\"\n"
     ]
    },
    {
     "name": "stdout",
     "output_type": "stream",
     "text": [
      "maximum number of iterations reached 6.573059e-05 5.789082e-05"
     ]
    },
    {
     "name": "stderr",
     "output_type": "stream",
     "text": [
      "Warning message:\n",
      "\"Setting row names on a tibble is deprecated.\"\n",
      "Warning message in preProcess.default(thresh = 0.95, k = 5, freqCut = 19, uniqueCut = 10, :\n",
      "\"These variables have zero variances: cell_57\"\n",
      "Warning message in .local(x, ...):\n",
      "\"Variable(s) `' constant. Cannot scale data.\"\n"
     ]
    },
    {
     "name": "stdout",
     "output_type": "stream",
     "text": [
      "maximum number of iterations reached 4.660219e-05 4.11411e-05maximum number of iterations reached 0.000242123 0.0002160101"
     ]
    },
    {
     "name": "stderr",
     "output_type": "stream",
     "text": [
      "Warning message:\n",
      "\"Setting row names on a tibble is deprecated.\"\n",
      "Warning message in preProcess.default(thresh = 0.95, k = 5, freqCut = 19, uniqueCut = 10, :\n",
      "\"These variables have zero variances: cell_57\"\n",
      "Warning message in .local(x, ...):\n",
      "\"Variable(s) `' constant. Cannot scale data.\"\n"
     ]
    },
    {
     "name": "stdout",
     "output_type": "stream",
     "text": [
      "maximum number of iterations reached 2.064384e-05 1.826676e-05maximum number of iterations reached 0.0001705616 0.0001482543"
     ]
    },
    {
     "name": "stderr",
     "output_type": "stream",
     "text": [
      "Warning message:\n",
      "\"Setting row names on a tibble is deprecated.\"\n",
      "Warning message in preProcess.default(thresh = 0.95, k = 5, freqCut = 19, uniqueCut = 10, :\n",
      "\"These variables have zero variances: cell_57\"\n",
      "Warning message in .local(x, ...):\n",
      "\"Variable(s) `' constant. Cannot scale data.\"\n"
     ]
    },
    {
     "name": "stdout",
     "output_type": "stream",
     "text": [
      "maximum number of iterations reached 3.0496e-05 2.671693e-05"
     ]
    },
    {
     "name": "stderr",
     "output_type": "stream",
     "text": [
      "Warning message:\n",
      "\"Setting row names on a tibble is deprecated.\"\n",
      "Warning message in preProcess.default(thresh = 0.95, k = 5, freqCut = 19, uniqueCut = 10, :\n",
      "\"These variables have zero variances: cell_57\"\n",
      "Warning message in .local(x, ...):\n",
      "\"Variable(s) `' constant. Cannot scale data.\"\n"
     ]
    },
    {
     "name": "stdout",
     "output_type": "stream",
     "text": [
      "maximum number of iterations reached 5.966748e-05 5.316111e-05maximum number of iterations reached 0.0006131437 0.0005491218maximum number of iterations reached 0.0002128005 -0.0001887354"
     ]
    },
    {
     "name": "stderr",
     "output_type": "stream",
     "text": [
      "Warning message:\n",
      "\"Setting row names on a tibble is deprecated.\"\n",
      "Warning message in preProcess.default(thresh = 0.95, k = 5, freqCut = 19, uniqueCut = 10, :\n",
      "\"These variables have zero variances: cell_57\"\n",
      "Warning message in .local(x, ...):\n",
      "\"Variable(s) `' constant. Cannot scale data.\"\n"
     ]
    },
    {
     "name": "stdout",
     "output_type": "stream",
     "text": [
      "maximum number of iterations reached 0.0006645853 0.0005879227maximum number of iterations reached 0.0001067681 9.575842e-05"
     ]
    },
    {
     "name": "stderr",
     "output_type": "stream",
     "text": [
      "Warning message:\n",
      "\"Setting row names on a tibble is deprecated.\"\n",
      "Warning message in preProcess.default(thresh = 0.95, k = 5, freqCut = 19, uniqueCut = 10, :\n",
      "\"These variables have zero variances: cell_57\"\n",
      "Warning message in .local(x, ...):\n",
      "\"Variable(s) `' constant. Cannot scale data.\"\n"
     ]
    },
    {
     "name": "stdout",
     "output_type": "stream",
     "text": [
      "maximum number of iterations reached 9.354259e-05 8.362155e-05maximum number of iterations reached 0.0005703284 0.0005118968"
     ]
    },
    {
     "name": "stderr",
     "output_type": "stream",
     "text": [
      "Warning message:\n",
      "\"Setting row names on a tibble is deprecated.\"\n",
      "Warning message in preProcess.default(thresh = 0.95, k = 5, freqCut = 19, uniqueCut = 10, :\n",
      "\"These variables have zero variances: cell_57\"\n",
      "Warning message in .local(x, ...):\n",
      "\"Variable(s) `' constant. Cannot scale data.\"\n"
     ]
    },
    {
     "name": "stdout",
     "output_type": "stream",
     "text": [
      "maximum number of iterations reached 3.286455e-05 2.908701e-05maximum number of iterations reached 0.002809967 0.002529maximum number of iterations reached 0.001487731 0.001314699"
     ]
    },
    {
     "name": "stderr",
     "output_type": "stream",
     "text": [
      "Warning message:\n",
      "\"Setting row names on a tibble is deprecated.\"\n",
      "Warning message in preProcess.default(thresh = 0.95, k = 5, freqCut = 19, uniqueCut = 10, :\n",
      "\"These variables have zero variances: cell_57\"\n",
      "Warning message in .local(x, ...):\n",
      "\"Variable(s) `' constant. Cannot scale data.\"\n"
     ]
    },
    {
     "name": "stdout",
     "output_type": "stream",
     "text": [
      "maximum number of iterations reached 0.0004647346 0.0004130997maximum number of iterations reached 0.00353196 0.003172183maximum number of iterations reached 1.302689e-05 -1.16384e-05"
     ]
    },
    {
     "name": "stderr",
     "output_type": "stream",
     "text": [
      "Warning message:\n",
      "\"Setting row names on a tibble is deprecated.\"\n",
      "Warning message in preProcess.default(thresh = 0.95, k = 5, freqCut = 19, uniqueCut = 10, :\n",
      "\"These variables have zero variances: cell_57\"\n",
      "Warning message in .local(x, ...):\n",
      "\"Variable(s) `' constant. Cannot scale data.\"\n"
     ]
    },
    {
     "name": "stdout",
     "output_type": "stream",
     "text": [
      "maximum number of iterations reached 0.0004458903 0.0004008719maximum number of iterations reached 0.001737625 -0.001552213"
     ]
    },
    {
     "name": "stderr",
     "output_type": "stream",
     "text": [
      "Warning message:\n",
      "\"Setting row names on a tibble is deprecated.\"\n",
      "Warning message in preProcess.default(thresh = 0.95, k = 5, freqCut = 19, uniqueCut = 10, :\n",
      "\"These variables have zero variances: cell_57\"\n",
      "Warning message in .local(x, ...):\n",
      "\"Variable(s) `' constant. Cannot scale data.\"\n"
     ]
    },
    {
     "name": "stdout",
     "output_type": "stream",
     "text": [
      "maximum number of iterations reached 0.0003243036 0.0002898637maximum number of iterations reached 2.127582e-05 1.893503e-05maximum number of iterations reached 0.0001599424 0.0001434777maximum number of iterations reached 0.002106955 0.001892254maximum number of iterations reached 1.36475e-05 1.21389e-05maximum number of iterations reached 0.0003126626 -2.161089e-06maximum number of iterations reached 0.001441141 -0.001294401"
     ]
    },
    {
     "name": "stderr",
     "output_type": "stream",
     "text": [
      "Warning message:\n",
      "\"Setting row names on a tibble is deprecated.\"\n",
      "Warning message in preProcess.default(thresh = 0.95, k = 5, freqCut = 19, uniqueCut = 10, :\n",
      "\"These variables have zero variances: cell_57\"\n",
      "Warning message in .local(x, ...):\n",
      "\"Variable(s) `' constant. Cannot scale data.\"\n"
     ]
    },
    {
     "name": "stdout",
     "output_type": "stream",
     "text": [
      "maximum number of iterations reached 0.001545796 0.001374261maximum number of iterations reached 1.423637e-05 1.277376e-05maximum number of iterations reached 0.003280608 0.002956577maximum number of iterations reached 0.0005666373 -4.540584e-06"
     ]
    },
    {
     "name": "stderr",
     "output_type": "stream",
     "text": [
      "Warning message:\n",
      "\"Setting row names on a tibble is deprecated.\"\n",
      "Warning message in preProcess.default(thresh = 0.95, k = 5, freqCut = 19, uniqueCut = 10, :\n",
      "\"These variables have zero variances: cell_57\"\n",
      "Warning message in .local(x, ...):\n",
      "\"Variable(s) `' constant. Cannot scale data.\"\n"
     ]
    },
    {
     "name": "stdout",
     "output_type": "stream",
     "text": [
      "maximum number of iterations reached 6.712521e-05 5.981601e-05maximum number of iterations reached 0.0004262446 0.0003824293maximum number of iterations reached 1.179415e-05 1.052564e-05maximum number of iterations reached 0.0023447 0.002118874maximum number of iterations reached 1.207442e-05 1.051919e-05maximum number of iterations reached 0.0003299892 0.0002951078maximum number of iterations reached 0.001265096 -0.00113252"
     ]
    },
    {
     "name": "stderr",
     "output_type": "stream",
     "text": [
      "Warning message:\n",
      "\"Setting row names on a tibble is deprecated.\"\n",
      "Warning message in preProcess.default(thresh = 0.95, k = 5, freqCut = 19, uniqueCut = 10, :\n",
      "\"These variables have zero variances: cell_57\"\n",
      "Warning message in .local(x, ...):\n",
      "\"Variable(s) `' constant. Cannot scale data.\"\n"
     ]
    },
    {
     "name": "stdout",
     "output_type": "stream",
     "text": [
      "maximum number of iterations reached 0.0005454623 0.0004881858maximum number of iterations reached 0.003488355 0.003130425maximum number of iterations reached 0.0007774031 0.0006957824maximum number of iterations reached 0.00323685 0.002941195maximum number of iterations reached 0.0007860828 0.0007044781maximum number of iterations reached 0.001530985 -0.001368253"
     ]
    },
    {
     "name": "stderr",
     "output_type": "stream",
     "text": [
      "Warning message:\n",
      "\"Setting row names on a tibble is deprecated.\"\n",
      "Warning message in preProcess.default(thresh = 0.95, k = 5, freqCut = 19, uniqueCut = 10, :\n",
      "\"These variables have zero variances: cell_57\"\n",
      "Warning message in .local(x, ...):\n",
      "\"Variable(s) `' constant. Cannot scale data.\"\n"
     ]
    },
    {
     "name": "stdout",
     "output_type": "stream",
     "text": [
      "maximum number of iterations reached 0.0001252208 0.0001119899maximum number of iterations reached 0.0001518498 0.0001362977maximum number of iterations reached 1.897304e-05 1.696718e-05maximum number of iterations reached 0.0008695767 -1.827233e-06maximum number of iterations reached 0.001442763 0.001303356maximum number of iterations reached 9.346159e-05 -4.4279e-07maximum number of iterations reached 0.004840097 -0.004351422"
     ]
    },
    {
     "name": "stderr",
     "output_type": "stream",
     "text": [
      "Warning message:\n",
      "\"Setting row names on a tibble is deprecated.\"\n",
      "Warning message in preProcess.default(thresh = 0.95, k = 5, freqCut = 19, uniqueCut = 10, :\n",
      "\"These variables have zero variances: cell_57\"\n",
      "Warning message in .local(x, ...):\n",
      "\"Variable(s) `' constant. Cannot scale data.\"\n"
     ]
    },
    {
     "name": "stdout",
     "output_type": "stream",
     "text": [
      "maximum number of iterations reached 1.244809e-05 -1.112121e-05maximum number of iterations reached 0.0003183753 0.0002757729maximum number of iterations reached 0.0003917229 0.0003511591maximum number of iterations reached 1.740753e-05 1.555872e-05maximum number of iterations reached 0.0002832508 0.0002535488maximum number of iterations reached 4.0761e-05 3.663067e-05maximum number of iterations reached 0.006017744 0.005443312maximum number of iterations reached 0.0003344028 0.0002939925maximum number of iterations reached 0.004125362 -0.003723844"
     ]
    },
    {
     "name": "stderr",
     "output_type": "stream",
     "text": [
      "Warning message:\n",
      "\"Setting row names on a tibble is deprecated.\"\n",
      "Warning message in preProcess.default(thresh = 0.95, k = 5, freqCut = 19, uniqueCut = 10, :\n",
      "\"These variables have zero variances: cell_57\"\n",
      "Warning message in .local(x, ...):\n",
      "\"Variable(s) `' constant. Cannot scale data.\"\n"
     ]
    },
    {
     "name": "stdout",
     "output_type": "stream",
     "text": [
      "maximum number of iterations reached 0.0003411028 -0.0003059667maximum number of iterations reached 2.080205e-05 1.866236e-05maximum number of iterations reached 0.0001911904 0.0001713589maximum number of iterations reached 1.007124e-05 9.014354e-06maximum number of iterations reached 0.0001809777 0.000162466maximum number of iterations reached 0.002463733 0.002193786maximum number of iterations reached 0.0009300676 0.0008416048maximum number of iterations reached 0.0001803186 0.0001612624maximum number of iterations reached 0.004445833 -0.003990666"
     ]
    },
    {
     "name": "stderr",
     "output_type": "stream",
     "text": [
      "Warning message:\n",
      "\"Setting row names on a tibble is deprecated.\"\n",
      "Warning message in preProcess.default(thresh = 0.95, k = 5, freqCut = 19, uniqueCut = 10, :\n",
      "\"These variables have zero variances: cell_57\"\n",
      "Warning message in .local(x, ...):\n",
      "\"Variable(s) `' constant. Cannot scale data.\"\n"
     ]
    },
    {
     "name": "stdout",
     "output_type": "stream",
     "text": [
      "maximum number of iterations reached 0.0003492616 0.0003125547maximum number of iterations reached 0.0004882631 0.0004377922maximum number of iterations reached 0.0002055062 0.0001839869maximum number of iterations reached 0.005748476 0.005156949maximum number of iterations reached 0.0001746404 0.0001563658maximum number of iterations reached 0.00162203 0.001466293maximum number of iterations reached 0.002310782 0.002059344maximum number of iterations reached 0.005173185 -0.004656848"
     ]
    },
    {
     "name": "stderr",
     "output_type": "stream",
     "text": [
      "Warning message:\n",
      "\"Setting row names on a tibble is deprecated.\"\n",
      "Warning message in preProcess.default(thresh = 0.95, k = 5, freqCut = 19, uniqueCut = 10, :\n",
      "\"These variables have zero variances: cell_57\"\n",
      "Warning message in .local(x, ...):\n",
      "\"Variable(s) `' constant. Cannot scale data.\"\n"
     ]
    },
    {
     "name": "stdout",
     "output_type": "stream",
     "text": [
      "maximum number of iterations reached 0.000643738 -0.0005773859maximum number of iterations reached 0.0001510032 0.0001326676maximum number of iterations reached 0.002073457 0.001864339maximum number of iterations reached 0.002061862 0.001863517maximum number of iterations reached 0.001015674 0.0009149124maximum number of iterations reached 0.0004092497 0.0003672952maximum number of iterations reached 0.001633234 0.001468131maximum number of iterations reached 0.0008321838 -3.133007e-06maximum number of iterations reached 0.001809893 0.001636148maximum number of iterations reached 0.004561941 0.004070265maximum number of iterations reached 0.003990431 -0.003559643"
     ]
    },
    {
     "name": "stderr",
     "output_type": "stream",
     "text": [
      "Warning message:\n",
      "\"Setting row names on a tibble is deprecated.\"\n",
      "Warning message in preProcess.default(thresh = 0.95, k = 5, freqCut = 19, uniqueCut = 10, :\n",
      "\"These variables have zero variances: cell_57\"\n",
      "Warning message in .local(x, ...):\n",
      "\"Variable(s) `' constant. Cannot scale data.\"\n"
     ]
    },
    {
     "name": "stdout",
     "output_type": "stream",
     "text": [
      "maximum number of iterations reached 0.0004037441 -0.0003621017maximum number of iterations reached 0.0007830299 0.000698995maximum number of iterations reached 0.0006580256 0.0005905973maximum number of iterations reached 0.0008874271 0.0007963984maximum number of iterations reached 3.070698e-05 2.753122e-05maximum number of iterations reached 0.005984534 0.005341007maximum number of iterations reached 0.002996841 0.002680313maximum number of iterations reached 0.001296301 0.001162279maximum number of iterations reached 0.001501009 0.001360514maximum number of iterations reached 0.001120582 0.00100828maximum number of iterations reached 0.006907885 -0.006187828"
     ]
    },
    {
     "name": "stderr",
     "output_type": "stream",
     "text": [
      "Warning message:\n",
      "\"Setting row names on a tibble is deprecated.\"\n",
      "Warning message in preProcess.default(thresh = 0.95, k = 5, freqCut = 19, uniqueCut = 10, :\n",
      "\"These variables have zero variances: cell_57\"\n",
      "Warning message in .local(x, ...):\n",
      "\"Variable(s) `' constant. Cannot scale data.\"\n"
     ]
    },
    {
     "name": "stdout",
     "output_type": "stream",
     "text": [
      "maximum number of iterations reached 0.000895994 -0.0008030686maximum number of iterations reached 0.000906292 0.0008015591maximum number of iterations reached 2.22958e-05 -2.003261e-05maximum number of iterations reached 0.0002862307 0.0002564111maximum number of iterations reached 6.822468e-05 6.119052e-05maximum number of iterations reached 1.255597e-05 1.125172e-05maximum number of iterations reached 0.0009039625 0.0008105001maximum number of iterations reached 0.001158747 0.00103543maximum number of iterations reached 0.0008395948 0.0007505407maximum number of iterations reached 0.0002288911 1.732764e-06maximum number of iterations reached 0.0006971209 0.0006248422maximum number of iterations reached 0.001483809 0.001341845maximum number of iterations reached 3.225007e-05 2.874161e-05maximum number of iterations reached 0.002789742 0.002474017maximum number of iterations reached 0.0035546 -0.003189591"
     ]
    },
    {
     "name": "stderr",
     "output_type": "stream",
     "text": [
      "Warning message:\n",
      "\"Setting row names on a tibble is deprecated.\"\n",
      "Warning message in preProcess.default(thresh = 0.95, k = 5, freqCut = 19, uniqueCut = 10, :\n",
      "\"These variables have zero variances: cell_57\"\n",
      "Warning message in .local(x, ...):\n",
      "\"Variable(s) `' constant. Cannot scale data.\"\n"
     ]
    },
    {
     "name": "stdout",
     "output_type": "stream",
     "text": [
      "maximum number of iterations reached 0.003217856 -0.002895078maximum number of iterations reached 0.0008952368 0.0007990017maximum number of iterations reached 0.001148282 0.001025613maximum number of iterations reached 0.001451436 0.001300754maximum number of iterations reached 0.004124096 0.003686294maximum number of iterations reached 0.002729002 0.002438329maximum number of iterations reached 0.005870694 0.005243852maximum number of iterations reached 0.002524116 0.002243266maximum number of iterations reached 0.001840501 0.001660996maximum number of iterations reached 0.001198459 0.001064545maximum number of iterations reached 0.00570804 0.005065986maximum number of iterations reached 0.007440053 -0.006626566"
     ]
    },
    {
     "name": "stderr",
     "output_type": "stream",
     "text": [
      "Warning message:\n",
      "\"Setting row names on a tibble is deprecated.\"\n",
      "Warning message in preProcess.default(thresh = 0.95, k = 5, freqCut = 19, uniqueCut = 10, :\n",
      "\"These variables have zero variances: cell_57\"\n",
      "Warning message in .local(x, ...):\n",
      "\"Variable(s) `' constant. Cannot scale data.\"\n"
     ]
    },
    {
     "name": "stdout",
     "output_type": "stream",
     "text": [
      "maximum number of iterations reached 0.001462061 -0.001306942maximum number of iterations reached 0.001321208 0.001172411maximum number of iterations reached 2.760076e-05 -2.48144e-05maximum number of iterations reached 0.0002877922 0.000258087maximum number of iterations reached 0.0006804756 0.0006121558maximum number of iterations reached 0.0003208393 0.000287782maximum number of iterations reached 0.001749508 0.001577871maximum number of iterations reached 0.002662477 0.00236553maximum number of iterations reached 0.00487194 0.004365034maximum number of iterations reached 0.0002846635 2.856826e-07maximum number of iterations reached 0.005805225 0.005133775maximum number of iterations reached 0.001125432 0.001017606maximum number of iterations reached 0.0001955758 0.0001743044maximum number of iterations reached 0.004899856 0.004358554maximum number of iterations reached 0.006310441 -0.005611421"
     ]
    },
    {
     "name": "stderr",
     "output_type": "stream",
     "text": [
      "Warning message:\n",
      "\"Setting row names on a tibble is deprecated.\"\n",
      "Warning message in preProcess.default(thresh = 0.95, k = 5, freqCut = 19, uniqueCut = 10, :\n",
      "\"These variables have zero variances: cell_57\"\n",
      "Warning message in .local(x, ...):\n",
      "\"Variable(s) `' constant. Cannot scale data.\"\n"
     ]
    },
    {
     "name": "stdout",
     "output_type": "stream",
     "text": [
      "maximum number of iterations reached 0.004237776 -0.003798386maximum number of iterations reached 0.0007846011 0.0006988242maximum number of iterations reached 0.0001125183 -0.0001010985maximum number of iterations reached 0.001700903 0.001516217maximum number of iterations reached 0.0009099185 0.000815065maximum number of iterations reached 0.002016556 0.001824844maximum number of iterations reached 0.000472672 0.0004250527maximum number of iterations reached 0.002962811 0.00264678maximum number of iterations reached 0.006053899 0.005416484maximum number of iterations reached 2.702402e-05 1.74594e-07maximum number of iterations reached 0.003586263 0.003167661maximum number of iterations reached 0.001502711 0.001359754maximum number of iterations reached 0.0009968925 0.0008900269maximum number of iterations reached 0.004814736 0.004246581maximum number of iterations reached 0.002167763 -3.845167e-06maximum number of iterations reached 0.003812241 -0.003371815"
     ]
    },
    {
     "name": "stderr",
     "output_type": "stream",
     "text": [
      "Warning message:\n",
      "\"Setting row names on a tibble is deprecated.\"\n",
      "Warning message in preProcess.default(thresh = 0.95, k = 5, freqCut = 19, uniqueCut = 10, :\n",
      "\"These variables have zero variances: cell_57\"\n",
      "Warning message in .local(x, ...):\n",
      "\"Variable(s) `' constant. Cannot scale data.\"\n"
     ]
    },
    {
     "name": "stdout",
     "output_type": "stream",
     "text": [
      "maximum number of iterations reached 0.002700698 -0.002415983maximum number of iterations reached 0.002087421 0.0018713maximum number of iterations reached 0.002845315 0.002551717maximum number of iterations reached 0.003190366 0.002880424maximum number of iterations reached 0.0004751726 0.0004270175maximum number of iterations reached 0.003992036 0.003543976maximum number of iterations reached 0.002174378 0.001944401maximum number of iterations reached 0.005707598 0.005055349maximum number of iterations reached 0.002422796 0.002196593maximum number of iterations reached 5.670733e-05 -4.303364e-07maximum number of iterations reached 0.00442491 0.003915575maximum number of iterations reached 0.005926366 -0.005225575"
     ]
    },
    {
     "name": "stderr",
     "output_type": "stream",
     "text": [
      "Warning message:\n",
      "\"Setting row names on a tibble is deprecated.\"\n",
      "Warning message in preProcess.default(thresh = 0.95, k = 5, freqCut = 19, uniqueCut = 10, :\n",
      "\"These variables have zero variances: cell_57\"\n",
      "Warning message in .local(x, ...):\n",
      "\"Variable(s) `' constant. Cannot scale data.\"\n"
     ]
    },
    {
     "name": "stdout",
     "output_type": "stream",
     "text": [
      "maximum number of iterations reached 0.003491989 -0.003110058maximum number of iterations reached 0.0005036496 0.0004494073maximum number of iterations reached 0.004563764 0.004120714maximum number of iterations reached 0.002622406 0.002365277maximum number of iterations reached 0.001927755 0.001722919maximum number of iterations reached 0.001312341 0.001171359maximum number of iterations reached 0.001724296 0.001538576maximum number of iterations reached 0.003146473 0.002786166maximum number of iterations reached 0.001064111 0.0009612024maximum number of iterations reached 0.00619134 0.005453795maximum number of iterations reached 0.007063169 -0.00625977"
     ]
    },
    {
     "name": "stderr",
     "output_type": "stream",
     "text": [
      "Warning message:\n",
      "\"Setting row names on a tibble is deprecated.\"\n",
      "Warning message in preProcess.default(thresh = 0.95, k = 5, freqCut = 19, uniqueCut = 10, :\n",
      "\"These variables have zero variances: cell_57\"\n",
      "Warning message in .local(x, ...):\n",
      "\"Variable(s) `' constant. Cannot scale data.\"\n"
     ]
    },
    {
     "name": "stdout",
     "output_type": "stream",
     "text": [
      "maximum number of iterations reached 0.002383989 -0.002133644maximum number of iterations reached 0.004148579 0.003682619maximum number of iterations reached 0.0001764233 -0.0001584027maximum number of iterations reached 0.003400158 0.003029712maximum number of iterations reached 0.002364202 0.002113091maximum number of iterations reached 0.001585343 0.001424421maximum number of iterations reached 0.002170371 0.001949879maximum number of iterations reached 0.002044604 0.001818534maximum number of iterations reached 0.001554761 0.001390178maximum number of iterations reached 4.619492e-05 3.318048e-08maximum number of iterations reached 0.002164591 0.001918086maximum number of iterations reached 0.001760594 0.001589547maximum number of iterations reached 0.005665541 0.004943594maximum number of iterations reached 0.005271042 0.004663818maximum number of iterations reached 0.006651027 -0.005908096"
     ]
    },
    {
     "name": "stderr",
     "output_type": "stream",
     "text": [
      "Warning message:\n",
      "\"Setting row names on a tibble is deprecated.\"\n",
      "Warning message in preProcess.default(thresh = 0.95, k = 5, freqCut = 19, uniqueCut = 10, :\n",
      "\"These variables have zero variances: cell_57\"\n",
      "Warning message in .local(x, ...):\n",
      "\"Variable(s) `' constant. Cannot scale data.\"\n"
     ]
    },
    {
     "name": "stdout",
     "output_type": "stream",
     "text": [
      "maximum number of iterations reached 0.00349116 -0.003142049maximum number of iterations reached 4.395871e-05 -3.952936e-05maximum number of iterations reached 0.003356528 0.002991988maximum number of iterations reached 0.0006884901 0.0006182086maximum number of iterations reached 0.003001838 0.002721435maximum number of iterations reached 0.001827006 0.001635302maximum number of iterations reached 0.003615832 0.003226727maximum number of iterations reached 0.001865684 0.001658412maximum number of iterations reached 0.004592353 4.096045e-05maximum number of iterations reached 0.0006160487 1.346138e-07maximum number of iterations reached 0.005839479 0.005099587maximum number of iterations reached 0.001848285 0.001678088maximum number of iterations reached 0.0009076663 -5.25287e-06maximum number of iterations reached 0.001268355 0.001133724maximum number of iterations reached 0.00151293 -1.401736e-05maximum number of iterations reached 0.005966465 0.005227718maximum number of iterations reached 0.006857254 -0.006070095"
     ]
    },
    {
     "name": "stderr",
     "output_type": "stream",
     "text": [
      "Warning message:\n",
      "\"Setting row names on a tibble is deprecated.\"\n",
      "Warning message in preProcess.default(thresh = 0.95, k = 5, freqCut = 19, uniqueCut = 10, :\n",
      "\"These variables have zero variances: cell_57\"\n",
      "Warning message in .local(x, ...):\n",
      "\"Variable(s) `' constant. Cannot scale data.\"\n"
     ]
    },
    {
     "name": "stdout",
     "output_type": "stream",
     "text": [
      "maximum number of iterations reached 0.002858877 -0.002565696maximum number of iterations reached 3.077513e-05 -2.768488e-05maximum number of iterations reached 0.001668043 0.001490589maximum number of iterations reached 0.001343409 0.001206124maximum number of iterations reached 0.002869038 0.00257194maximum number of iterations reached 0.003243598 0.002883131maximum number of iterations reached 0.002024405 0.001805256maximum number of iterations reached 0.001613514 0.001438525maximum number of iterations reached 0.001974658 6.501084e-06maximum number of iterations reached 5.013979e-05 1.801314e-08maximum number of iterations reached 0.002414524 0.002140779maximum number of iterations reached 0.001422635 0.001285771maximum number of iterations reached 0.006210157 0.005407621maximum number of iterations reached 0.0001247113 -7.844881e-07maximum number of iterations reached 0.005032291 0.004451235maximum number of iterations reached 0.006557419 -0.005832399"
     ]
    },
    {
     "name": "stderr",
     "output_type": "stream",
     "text": [
      "Warning message:\n",
      "\"Setting row names on a tibble is deprecated.\"\n",
      "Warning message in preProcess.default(thresh = 0.95, k = 5, freqCut = 19, uniqueCut = 10, :\n",
      "\"These variables have zero variances: cell_57\"\n",
      "Warning message in .local(x, ...):\n",
      "\"Variable(s) `' constant. Cannot scale data.\"\n"
     ]
    },
    {
     "name": "stdout",
     "output_type": "stream",
     "text": [
      "maximum number of iterations reached 0.002305533 -0.002087192maximum number of iterations reached 1.517741e-05 1.360602e-05maximum number of iterations reached 3.997666e-05 -3.596081e-05maximum number of iterations reached 0.00267759 0.002388789maximum number of iterations reached 0.001707691 0.001538096maximum number of iterations reached 0.002942265 0.00264478maximum number of iterations reached 0.001542854 0.001384489maximum number of iterations reached 0.001673521 0.001485124maximum number of iterations reached 0.001274044 0.001137866maximum number of iterations reached 1.683698e-05 -2.335901e-09maximum number of iterations reached 0.005441443 0.004804624maximum number of iterations reached 0.001680001 0.001516368maximum number of iterations reached 0.006021489 0.005237892maximum number of iterations reached 0.00547015 0.004814542maximum number of iterations reached 6.794966e-05 -1.164179e-07maximum number of iterations reached 0.007126079 -0.006363003"
     ]
    },
    {
     "name": "stderr",
     "output_type": "stream",
     "text": [
      "Warning message:\n",
      "\"Setting row names on a tibble is deprecated.\"\n",
      "Warning message in preProcess.default(thresh = 0.95, k = 5, freqCut = 19, uniqueCut = 10, :\n",
      "\"These variables have zero variances: cell_57\"\n",
      "Warning message in .local(x, ...):\n",
      "\"Variable(s) `' constant. Cannot scale data.\"\n"
     ]
    },
    {
     "name": "stdout",
     "output_type": "stream",
     "text": [
      "maximum number of iterations reached 0.002338385 -0.002110236maximum number of iterations reached 0.0003199733 0.0002866896maximum number of iterations reached 5.159505e-05 -4.63892e-05maximum number of iterations reached 0.002357685 0.002107663maximum number of iterations reached 0.001419645 0.001279475maximum number of iterations reached 0.002855155 0.002567466maximum number of iterations reached 0.001030348 0.0009274367maximum number of iterations reached 0.0006127376 0.0005485879maximum number of iterations reached 0.001765995 0.001581607maximum number of iterations reached 0.000700254 2.73647e-06maximum number of iterations reached 0.0006775287 -4.842133e-08maximum number of iterations reached 0.006430652 0.005634061maximum number of iterations reached 0.00135065 0.00121861maximum number of iterations reached 0.0003116558 -1.782716e-06maximum number of iterations reached 0.006858427 0.005955842maximum number of iterations reached 0.005480279 0.004804774maximum number of iterations reached 0.005947998 -0.005284114"
     ]
    },
    {
     "name": "stderr",
     "output_type": "stream",
     "text": [
      "Warning message:\n",
      "\"Setting row names on a tibble is deprecated.\"\n",
      "Warning message in preProcess.default(thresh = 0.95, k = 5, freqCut = 19, uniqueCut = 10, :\n",
      "\"These variables have zero variances: cell_57\"\n",
      "Warning message in .local(x, ...):\n",
      "\"Variable(s) `' constant. Cannot scale data.\"\n"
     ]
    },
    {
     "name": "stdout",
     "output_type": "stream",
     "text": [
      "maximum number of iterations reached 0.001884772 -0.001696577maximum number of iterations reached 0.003077319 0.002723878maximum number of iterations reached 7.712657e-05 -6.941419e-05maximum number of iterations reached 0.001125449 0.001001401maximum number of iterations reached 0.002126769 0.001915033maximum number of iterations reached 0.001966478 0.001764344maximum number of iterations reached 0.0006498092 0.0005830722maximum number of iterations reached 0.002582433 0.002298238maximum number of iterations reached 0.002369501 0.002121416maximum number of iterations reached 0.003794919 5.268265e-06maximum number of iterations reached 0.005282784 0.004634032maximum number of iterations reached 3.484864e-05 -7.063192e-08maximum number of iterations reached 0.001160125 0.001046899maximum number of iterations reached 0.004268788 0.003742404maximum number of iterations reached 0.006389887 0.005629732maximum number of iterations reached 0.005978866 -0.005287786"
     ]
    },
    {
     "name": "stderr",
     "output_type": "stream",
     "text": [
      "Warning message:\n",
      "\"Setting row names on a tibble is deprecated.\"\n",
      "Warning message in preProcess.default(thresh = 0.95, k = 5, freqCut = 19, uniqueCut = 10, :\n",
      "\"These variables have zero variances: cell_57\"\n",
      "Warning message in .local(x, ...):\n",
      "\"Variable(s) `' constant. Cannot scale data.\"\n"
     ]
    },
    {
     "name": "stdout",
     "output_type": "stream",
     "text": [
      "maximum number of iterations reached 0.001298693 -0.001168406maximum number of iterations reached 0.005707826 0.004952308maximum number of iterations reached 2.795743e-05 -2.515888e-05maximum number of iterations reached 0.001622461 0.001445513maximum number of iterations reached 0.001624005 0.001465073maximum number of iterations reached 0.002567935 0.002320071maximum number of iterations reached 0.001729141 0.00155728maximum number of iterations reached 0.0009791744 0.000874848maximum number of iterations reached 0.001570717 0.001411746maximum number of iterations reached 0.007204342 2.965521e-06maximum number of iterations reached 0.005010795 0.004372698maximum number of iterations reached 0.001036366 0.0009349238maximum number of iterations reached 0.007669486 -4.448697e-05maximum number of iterations reached 0.002781881 0.002452478maximum number of iterations reached 0.00553808 0.004871365maximum number of iterations reached 0.006063119 -0.005399988"
     ]
    },
    {
     "name": "stderr",
     "output_type": "stream",
     "text": [
      "Warning message:\n",
      "\"Setting row names on a tibble is deprecated.\"\n",
      "Warning message in preProcess.default(thresh = 0.95, k = 5, freqCut = 19, uniqueCut = 10, :\n",
      "\"These variables have zero variances: cell_57\"\n",
      "Warning message in .local(x, ...):\n",
      "\"Variable(s) `' constant. Cannot scale data.\"\n"
     ]
    },
    {
     "name": "stdout",
     "output_type": "stream",
     "text": [
      "maximum number of iterations reached 0.002628389 -0.002380211maximum number of iterations reached 0.002798514 0.00245952maximum number of iterations reached 8.448526e-05 -7.598193e-05maximum number of iterations reached 0.0008721437 0.0007803002maximum number of iterations reached 0.001966687 0.001772095maximum number of iterations reached 0.001061016 0.0009530624maximum number of iterations reached 0.001750045 0.001572872maximum number of iterations reached 0.0009222377 0.0008250012maximum number of iterations reached 0.002069263 0.001846672maximum number of iterations reached 0.0004974238 2.273786e-06maximum number of iterations reached 0.003531881 2.644443e-06maximum number of iterations reached 0.005923679 0.00520527maximum number of iterations reached 3.176663e-05 -1.957151e-08maximum number of iterations reached 0.000942711 0.0008502333maximum number of iterations reached 0.006894216 0.0060051maximum number of iterations reached 4.149046e-05 -1.306925e-07maximum number of iterations reached 0.004849351 0.004255285maximum number of iterations reached 0.005137258 -0.004566829"
     ]
    },
    {
     "name": "stderr",
     "output_type": "stream",
     "text": [
      "Warning message:\n",
      "\"Setting row names on a tibble is deprecated.\"\n",
      "Warning message in preProcess.default(thresh = 0.95, k = 5, freqCut = 19, uniqueCut = 10, :\n",
      "\"These variables have zero variances: cell_57\"\n",
      "Warning message in .local(x, ...):\n",
      "\"Variable(s) `' constant. Cannot scale data.\"\n"
     ]
    },
    {
     "name": "stdout",
     "output_type": "stream",
     "text": [
      "maximum number of iterations reached 0.002112596 -0.001912497maximum number of iterations reached 0.005648897 0.004885777maximum number of iterations reached 1.861025e-05 -1.674782e-05maximum number of iterations reached 0.0007357183 0.0006599115maximum number of iterations reached 0.0006893038 0.0006185071maximum number of iterations reached 0.001345801 0.001212263maximum number of iterations reached 0.00112073 0.001008137maximum number of iterations reached 0.000888357 0.0007949117maximum number of iterations reached 0.001053925 0.0009438764maximum number of iterations reached 0.0007635381 -5.655615e-07maximum number of iterations reached 0.00576247 0.00504129maximum number of iterations reached 0.0006184563 -1.250083e-06maximum number of iterations reached 0.0008132754 0.0007333779maximum number of iterations reached 0.00583912 0.005109577maximum number of iterations reached 9.000476e-05 -3.384662e-07maximum number of iterations reached 0.005643856 0.00499425maximum number of iterations reached 4.295835e-05 -1.140151e-08maximum number of iterations reached 0.005140748 -0.004578004"
     ]
    },
    {
     "name": "stderr",
     "output_type": "stream",
     "text": [
      "Warning message:\n",
      "\"Setting row names on a tibble is deprecated.\"\n",
      "Warning message in preProcess.default(thresh = 0.95, k = 5, freqCut = 19, uniqueCut = 10, :\n",
      "\"These variables have zero variances: cell_57\"\n",
      "Warning message in .local(x, ...):\n",
      "\"Variable(s) `' constant. Cannot scale data.\"\n"
     ]
    },
    {
     "name": "stdout",
     "output_type": "stream",
     "text": [
      "maximum number of iterations reached 0.001675466 -0.001514987maximum number of iterations reached 0.004842807 0.004207622maximum number of iterations reached 0.0001161839 -0.000104546maximum number of iterations reached 0.0005277492 0.0004722484maximum number of iterations reached 0.001567788 0.001415283maximum number of iterations reached 0.003050514 0.002737828maximum number of iterations reached 0.001635758 0.001469973maximum number of iterations reached 0.00117508 0.001050217maximum number of iterations reached 0.0008976771 0.000803848maximum number of iterations reached 0.003709429 -8.345978e-07maximum number of iterations reached 0.005974242 0.005242801maximum number of iterations reached 0.0006527232 0.000588373maximum number of iterations reached 0.005582242 0.004913988maximum number of iterations reached 0.005456628 0.004798306maximum number of iterations reached 0.0003619845 3.855601e-08maximum number of iterations reached 0.003401287 -0.003059918"
     ]
    },
    {
     "name": "stderr",
     "output_type": "stream",
     "text": [
      "Warning message:\n",
      "\"Setting row names on a tibble is deprecated.\"\n",
      "Warning message in preProcess.default(thresh = 0.95, k = 5, freqCut = 19, uniqueCut = 10, :\n",
      "\"These variables have zero variances: cell_57\"\n",
      "Warning message in .local(x, ...):\n",
      "\"Variable(s) `' constant. Cannot scale data.\"\n"
     ]
    },
    {
     "name": "stdout",
     "output_type": "stream",
     "text": [
      "maximum number of iterations reached 0.001458654 -0.001313108maximum number of iterations reached 0.006615312 0.005708194maximum number of iterations reached 8.067985e-05 -7.261314e-05maximum number of iterations reached 0.0006945938 0.000624108maximum number of iterations reached 0.002756422 0.002481331maximum number of iterations reached 0.002080573 0.001874388maximum number of iterations reached 0.001639249 0.001474368maximum number of iterations reached 0.001142686 0.001027736maximum number of iterations reached 0.002422947 0.002171549maximum number of iterations reached 3.82033e-05 5.755469e-10maximum number of iterations reached 0.005768295 0.005031684maximum number of iterations reached 0.0001099256 -7.269784e-08maximum number of iterations reached 0.0004919265 0.0004433722maximum number of iterations reached 9.82161e-05 -1.938713e-07maximum number of iterations reached 0.00472888 0.004171992maximum number of iterations reached 0.005325742 0.004690122maximum number of iterations reached 0.003751501 -0.003374382"
     ]
    },
    {
     "name": "stderr",
     "output_type": "stream",
     "text": [
      "Warning message:\n",
      "\"Setting row names on a tibble is deprecated.\"\n",
      "Warning message in preProcess.default(thresh = 0.95, k = 5, freqCut = 19, uniqueCut = 10, :\n",
      "\"These variables have zero variances: cell_57\"\n",
      "Warning message in .local(x, ...):\n",
      "\"Variable(s) `' constant. Cannot scale data.\"\n"
     ]
    },
    {
     "name": "stdout",
     "output_type": "stream",
     "text": [
      "maximum number of iterations reached 0.001818463 -0.001643528maximum number of iterations reached 0.005030819 0.004368759maximum number of iterations reached 3.313708e-05 -2.982209e-05maximum number of iterations reached 0.0006409215 0.0005737958maximum number of iterations reached 0.00155641 0.001404002maximum number of iterations reached 0.001307819 0.001175812maximum number of iterations reached 0.001056476 0.0009485678maximum number of iterations reached 0.001332544 0.001192263maximum number of iterations reached 0.0007842213 0.0007027916maximum number of iterations reached 9.754087e-05 2.062084e-07maximum number of iterations reached 0.006885031 -1.890585e-05maximum number of iterations reached 0.005337959 0.004663536maximum number of iterations reached 1.016424e-05 -8.099367e-09maximum number of iterations reached 0.0003223983 0.0002905572maximum number of iterations reached 0.007265801 -2.996738e-05maximum number of iterations reached 0.006543384 0.005734762maximum number of iterations reached 2.565683e-05 -7.686294e-08maximum number of iterations reached 0.005226072 0.00459343maximum number of iterations reached 0.0001210856 -1.43658e-07maximum number of iterations reached 0.003574383 -0.003215739"
     ]
    },
    {
     "name": "stderr",
     "output_type": "stream",
     "text": [
      "Warning message:\n",
      "\"Setting row names on a tibble is deprecated.\"\n",
      "Warning message in preProcess.default(thresh = 0.95, k = 5, freqCut = 19, uniqueCut = 10, :\n",
      "\"These variables have zero variances: cell_57\"\n",
      "Warning message in .local(x, ...):\n",
      "\"Variable(s) `' constant. Cannot scale data.\"\n"
     ]
    },
    {
     "name": "stdout",
     "output_type": "stream",
     "text": [
      "maximum number of iterations reached 0.001547728 -0.001397989maximum number of iterations reached 0.005523666 0.004792077maximum number of iterations reached 9.562793e-05 -8.608797e-05maximum number of iterations reached 0.0006005337 0.0005395465maximum number of iterations reached 0.001375652 0.001236727maximum number of iterations reached 0.001143229 0.001030624maximum number of iterations reached 0.001362618 0.001215078maximum number of iterations reached 0.0008336803 0.0007480717maximum number of iterations reached 0.0008851807 0.0007948539maximum number of iterations reached 0.0002922672 9.89199e-07maximum number of iterations reached 0.0001781765 -1.032245e-07maximum number of iterations reached 0.004865145 0.004270337maximum number of iterations reached 4.176062e-05 -1.247604e-08maximum number of iterations reached 0.0003749764 0.0003379543maximum number of iterations reached 0.006223676 0.005426926maximum number of iterations reached 0.004440911 0.00395394maximum number of iterations reached 0.0001546007 -4.413815e-08maximum number of iterations reached 0.002794943 -0.002515415"
     ]
    },
    {
     "name": "stderr",
     "output_type": "stream",
     "text": [
      "Warning message:\n",
      "\"Setting row names on a tibble is deprecated.\"\n",
      "Warning message in preProcess.default(thresh = 0.95, k = 5, freqCut = 19, uniqueCut = 10, :\n",
      "\"These variables have zero variances: cell_57\"\n",
      "Warning message in .local(x, ...):\n",
      "\"Variable(s) `' constant. Cannot scale data.\"\n"
     ]
    },
    {
     "name": "stdout",
     "output_type": "stream",
     "text": [
      "maximum number of iterations reached 0.002128211 -0.001910232maximum number of iterations reached 0.005865562 0.005093736maximum number of iterations reached 4.291989e-05 -3.862794e-05maximum number of iterations reached 0.0009310443 0.0008358598maximum number of iterations reached 0.001178934 0.001060273maximum number of iterations reached 0.00198904 0.001793674maximum number of iterations reached 0.001326658 0.001190048maximum number of iterations reached 0.0006201866 0.0005576083maximum number of iterations reached 0.001188029 0.001062912maximum number of iterations reached 0.0001896187 -3.740827e-08maximum number of iterations reached 0.005093348 0.004464799maximum number of iterations reached 0.0008801744 -2.739734e-06maximum number of iterations reached 0.0003102179 0.000279582maximum number of iterations reached 0.0001361785 -3.138525e-07maximum number of iterations reached 0.005998569 0.005220539maximum number of iterations reached 0.0001152488 -2.139957e-07maximum number of iterations reached 0.004491244 0.004003885maximum number of iterations reached 0.0008835372 -1.577044e-07maximum number of iterations reached 0.003078466 -0.002751241"
     ]
    },
    {
     "name": "stderr",
     "output_type": "stream",
     "text": [
      "Warning message:\n",
      "\"Setting row names on a tibble is deprecated.\"\n",
      "Warning message in preProcess.default(thresh = 0.95, k = 5, freqCut = 19, uniqueCut = 10, :\n",
      "\"These variables have zero variances: cell_57\"\n",
      "Warning message in .local(x, ...):\n",
      "\"Variable(s) `' constant. Cannot scale data.\"\n"
     ]
    },
    {
     "name": "stdout",
     "output_type": "stream",
     "text": [
      "maximum number of iterations reached 0.001008219 -0.0009070244maximum number of iterations reached 0.005188528 0.004522124maximum number of iterations reached 6.506274e-05 -5.856018e-05maximum number of iterations reached 0.0007684113 0.0006898388maximum number of iterations reached 0.001669055 0.001500147maximum number of iterations reached 0.001388027 0.001251848maximum number of iterations reached 0.001594095 0.001426324maximum number of iterations reached 0.0007077292 0.0006365774maximum number of iterations reached 0.0007609761 0.000681757maximum number of iterations reached 0.001763927 -1.572219e-06maximum number of iterations reached 0.004327153 0.003850019maximum number of iterations reached 0.003301612 -2.223163e-05maximum number of iterations reached 0.0002664215 0.0002401132maximum number of iterations reached 1.204743e-05 -2.514071e-08maximum number of iterations reached 0.005925146 0.005175796maximum number of iterations reached 0.004366548 0.003882538maximum number of iterations reached 0.0003276977 -6.976309e-08maximum number of iterations reached 0.002599705 -0.002329351"
     ]
    },
    {
     "name": "stderr",
     "output_type": "stream",
     "text": [
      "Warning message:\n",
      "\"Setting row names on a tibble is deprecated.\"\n",
      "Warning message in preProcess.default(thresh = 0.95, k = 5, freqCut = 19, uniqueCut = 10, :\n",
      "\"These variables have zero variances: cell_57\"\n",
      "Warning message in .local(x, ...):\n",
      "\"Variable(s) `' constant. Cannot scale data.\"\n"
     ]
    },
    {
     "name": "stdout",
     "output_type": "stream",
     "text": [
      "maximum number of iterations reached 0.001253198 -0.001128812maximum number of iterations reached 0.006020348 0.005253932maximum number of iterations reached 0.002242809 0.001973936maximum number of iterations reached 6.874758e-05 -6.187399e-05maximum number of iterations reached 0.0004769132 0.0004283765maximum number of iterations reached 0.001092639 0.0009787561maximum number of iterations reached 0.001485435 0.00134174maximum number of iterations reached 0.001543967 0.001383801maximum number of iterations reached 0.0007798433 0.0007013528maximum number of iterations reached 0.001026082 0.0009203903maximum number of iterations reached 0.0005007397 1.374015e-06maximum number of iterations reached 9.644749e-05 -3.461377e-08maximum number of iterations reached 0.003427733 0.00306535maximum number of iterations reached 0.0002365712 -1.837647e-07maximum number of iterations reached 0.0002333773 0.000210332maximum number of iterations reached 0.001827793 -2.133521e-06maximum number of iterations reached 0.004925096 0.004301982maximum number of iterations reached 4.275084e-05 -9.601306e-08maximum number of iterations reached 0.003222761 0.002896567maximum number of iterations reached 9.19147e-05 -5.848482e-08maximum number of iterations reached 0.001648116 -0.001483604"
     ]
    },
    {
     "name": "stderr",
     "output_type": "stream",
     "text": [
      "Warning message:\n",
      "\"Setting row names on a tibble is deprecated.\"\n",
      "Warning message in preProcess.default(thresh = 0.95, k = 5, freqCut = 19, uniqueCut = 10, :\n",
      "\"These variables have zero variances: cell_57\"\n",
      "Warning message in .local(x, ...):\n",
      "\"Variable(s) `' constant. Cannot scale data.\"\n"
     ]
    },
    {
     "name": "stdout",
     "output_type": "stream",
     "text": [
      "maximum number of iterations reached 0.001725719 -0.001555244maximum number of iterations reached 0.005237405 0.004601709maximum number of iterations reached 0.003414006 0.003001683maximum number of iterations reached 3.380295e-05 -3.042661e-05maximum number of iterations reached 0.0003335555 0.0002998044maximum number of iterations reached 0.001141605 0.00102355maximum number of iterations reached 0.001617176 0.0014507maximum number of iterations reached 0.0008397572 0.0007525087maximum number of iterations reached 0.0005744111 0.0005174116maximum number of iterations reached 0.001104946 0.0009911948maximum number of iterations reached 0.00702936 1.742754e-05maximum number of iterations reached 0.006968586 -7.788787e-06maximum number of iterations reached 0.003966811 0.00354785maximum number of iterations reached 0.004259209 -1.292876e-05maximum number of iterations reached 0.0001115584 0.000100543maximum number of iterations reached 1.051752e-05 -1.330361e-08maximum number of iterations reached 0.00515708 0.004490521maximum number of iterations reached 0.006245015 -6.062443e-05maximum number of iterations reached 0.003635764 0.003258299maximum number of iterations reached 0.0001855154 -1.015033e-07maximum number of iterations reached 0.002144487 -0.001926863"
     ]
    },
    {
     "name": "stderr",
     "output_type": "stream",
     "text": [
      "Warning message:\n",
      "\"Setting row names on a tibble is deprecated.\"\n",
      "Warning message in preProcess.default(thresh = 0.95, k = 5, freqCut = 19, uniqueCut = 10, :\n",
      "\"These variables have zero variances: cell_57\"\n",
      "Warning message in .local(x, ...):\n",
      "\"Variable(s) `' constant. Cannot scale data.\"\n"
     ]
    },
    {
     "name": "stdout",
     "output_type": "stream",
     "text": [
      "maximum number of iterations reached 0.001497074 -0.001347342maximum number of iterations reached 0.006117308 0.005387003maximum number of iterations reached 6.061199e-05 -5.455886e-05maximum number of iterations reached 0.0001836044 0.0001650732maximum number of iterations reached 0.001322877 0.001188236maximum number of iterations reached 0.001282903 0.00115433maximum number of iterations reached 0.001006198 0.0009011137maximum number of iterations reached 0.0006187378 0.0005573739maximum number of iterations reached 0.0007013807 0.0006293666maximum number of iterations reached 0.007739772 4.232198e-05maximum number of iterations reached 0.004295354 -6.543408e-06maximum number of iterations reached 0.004181117 0.003740857maximum number of iterations reached 0.001171703 -2.176069e-07maximum number of iterations reached 5.972599e-05 5.382955e-05maximum number of iterations reached 0.001039287 -4.227219e-06maximum number of iterations reached 0.003883842 0.003427665maximum number of iterations reached 3.281249e-05 -4.517866e-08maximum number of iterations reached 0.003523557 0.003158992maximum number of iterations reached 0.005125344 -1.429328e-05maximum number of iterations reached 0.00110165 -0.0009917238"
     ]
    },
    {
     "name": "stderr",
     "output_type": "stream",
     "text": [
      "Warning message:\n",
      "\"Setting row names on a tibble is deprecated.\"\n",
      "Warning message in preProcess.default(thresh = 0.95, k = 5, freqCut = 19, uniqueCut = 10, :\n",
      "\"These variables have zero variances: cell_57\"\n",
      "Warning message in .local(x, ...):\n",
      "\"Variable(s) `' constant. Cannot scale data.\"\n"
     ]
    },
    {
     "name": "stdout",
     "output_type": "stream",
     "text": [
      "maximum number of iterations reached 0.001461181 -0.001310894maximum number of iterations reached 0.005242503 0.004639067maximum number of iterations reached 0.0001349819 -2.744049e-07maximum number of iterations reached 0.00388536 0.003401097maximum number of iterations reached 6.335671e-05 -5.702953e-05maximum number of iterations reached 0.0003659127 0.0003288638maximum number of iterations reached 0.001266145 0.001135761maximum number of iterations reached 0.001479699 0.001324942maximum number of iterations reached 0.001130512 0.001014223maximum number of iterations reached 0.0004382577 0.0003950734maximum number of iterations reached 0.0009756489 0.0008759643maximum number of iterations reached 0.000292613 3.318403e-07maximum number of iterations reached 0.0007796311 -7.303681e-07maximum number of iterations reached 0.00385722 0.003459659maximum number of iterations reached 0.001321924 -1.624681e-06maximum number of iterations reached 2.436365e-05 2.195872e-05maximum number of iterations reached 0.004974568 -3.683514e-05maximum number of iterations reached 0.005151672 0.004525271maximum number of iterations reached 0.0003414021 -5.146551e-07maximum number of iterations reached 0.003498914 0.003141653maximum number of iterations reached 0.001062174 -3.901452e-07maximum number of iterations reached 0.0008537791 -0.0007686021"
     ]
    },
    {
     "name": "stderr",
     "output_type": "stream",
     "text": [
      "Warning message:\n",
      "\"Setting row names on a tibble is deprecated.\"\n",
      "Warning message in preProcess.default(thresh = 0.95, k = 5, freqCut = 19, uniqueCut = 10, :\n",
      "\"These variables have zero variances: cell_57\"\n",
      "Warning message in .local(x, ...):\n",
      "\"Variable(s) `' constant. Cannot scale data.\"\n"
     ]
    }
   ],
   "source": [
    "set.seed(42)\n",
    "\n",
    "ctrl <- trainControl(method=\"cv\", \n",
    "                     number=3,\n",
    "                     summaryFunction=multiClassSummary,\n",
    "                     classProbs=TRUE)\n",
    "\n",
    "# Define ranges for the two parameters\n",
    "C_range <-     sapply(seq(-1, 3, 0.0125), function(x){10^x})\n",
    "sigma_range <- sapply(seq(-3, 1, 0.0125), function(x){10^x})\n",
    "                     \n",
    "grid <- expand.grid(sigma = sigma_range,\n",
    "                    C = C_range\n",
    ")\n",
    "\n",
    "svm_model<-train(X, y,\n",
    "                 method = \"svmRadial\", \n",
    "                 metric=\"Accuracy\",\n",
    "                 preProc = c(\"center\", \"scale\"), \n",
    "                 trControl=ctrl,\n",
    "                 tuneGrid = grid,\n",
    "                 allowParallel=TRUE)"
   ]
  },
  {
   "cell_type": "code",
   "execution_count": null,
   "metadata": {},
   "outputs": [],
   "source": [
    "print(svm_model)"
   ]
  },
  {
   "cell_type": "code",
   "execution_count": 26,
   "metadata": {},
   "outputs": [],
   "source": [
    "preds <- predict(svm_model, newdata = Xt, type = \"raw\")\n",
    "test_accuracy <- sum(preds == yt) / length(yt)"
   ]
  },
  {
   "cell_type": "code",
   "execution_count": 27,
   "metadata": {},
   "outputs": [
    {
     "name": "stdout",
     "output_type": "stream",
     "text": [
      "[1] 0.7211268\n"
     ]
    }
   ],
   "source": [
    "print(test_accuracy)"
   ]
  }
 ],
 "metadata": {
  "kernelspec": {
   "display_name": "R",
   "language": "R",
   "name": "ir"
  }
 },
 "nbformat": 4,
 "nbformat_minor": 4
}
